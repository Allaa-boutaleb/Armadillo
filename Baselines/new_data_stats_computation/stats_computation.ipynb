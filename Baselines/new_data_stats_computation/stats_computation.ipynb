{
 "cells": [
  {
   "cell_type": "code",
   "execution_count": 28,
   "metadata": {},
   "outputs": [],
   "source": [
    "import pandas as pd\n",
    "import pickle\n",
    "from tqdm import tqdm\n",
    "root = ''\n",
    "root_git = root+'/GitTables/'\n",
    "root_wiki = root+'/WikiTables/'\n",
    "tmp_dir = ''"
   ]
  },
  {
   "cell_type": "code",
   "execution_count": 13,
   "metadata": {},
   "outputs": [],
   "source": [
    "import matplotlib.pyplot as plt\n",
    "import pickle\n",
    "import pandas as pd\n",
    "from tqdm import tqdm\n",
    "import numpy as np\n",
    "import seaborn as sns\n",
    "\n",
    "def plot_data_distribution(df_path: str | pd.DataFrame, label: str='a%', label_y: str='n_samples') -> None:\n",
    "    \"\"\"Given a labelled dataset print the data distribution of its samples\n",
    "\n",
    "    Args:\n",
    "        df_path (str | pd.DataFrame): path to the labelled dataframe or the dataframe.\n",
    "        label (str, optional): label of the column to analyze. Defaults to 'a%'.\n",
    "        label_y (str, optional): label of the y axis of the chart. Defaults to 'n_samples'.\n",
    "    \"\"\"\n",
    "    if isinstance(df_path, str):\n",
    "        data = pd.read_csv(df_path)\n",
    "    else:\n",
    "        data = df_path\n",
    "    d = {}\n",
    "    for i in range(1, 11, 1):\n",
    "        i /= 10\n",
    "        prev = round(i-0.1, 2)\n",
    "        t = data[data[label] >= prev]\n",
    "        t = t[t[label] < i]\n",
    "        d[f'{prev}_{i}'] = t.shape[0]\n",
    "    ##\n",
    "    t = data[data[label] == 1]\n",
    "    d['0.9_1.0']+=t.shape[0]\n",
    "    ## \n",
    "    keys = list(d.keys())\n",
    "    values = list(d.values())\n",
    "    \n",
    "    bar_width = 0.5\n",
    "    \n",
    "    # Create the bar plot\n",
    "    plt.bar(keys, values, width=bar_width, color='grey')\n",
    "    \n",
    "    for i, v in enumerate(values):\n",
    "        plt.text(i, v + 0.5, str(v), ha='center', va='bottom')\n",
    "    \n",
    "    plt.xticks(ha='center', fontsize=8)  # Ruota le etichette sull'asse x di 45 gradi\n",
    "    plt.subplots_adjust(bottom=0.2) \n",
    "    \n",
    "    # Adding labels and title\n",
    "    plt.xlabel(f'{label} Range')\n",
    "    plt.ylabel(label_y)\n",
    "\n",
    "    # Show the plot\n",
    "    plt.show()"
   ]
  },
  {
   "cell_type": "code",
   "execution_count": 14,
   "metadata": {},
   "outputs": [],
   "source": [
    "def get_1_0_cols_rows_tables(td: dict[str:pd.DataFrame]) -> set[list, list]:\n",
    "    zero_cols_rows = []\n",
    "    one_col_row = []\n",
    "    for k in tqdm(td.keys()):\n",
    "        t = td[k]\n",
    "        if (t.shape[0] == 1) or (t.shape[1] == 1):\n",
    "            one_col_row.append(k)\n",
    "        elif (t.shape[0] == 0) or (t.shape[1] == 0):\n",
    "            zero_cols_rows.append(k)\n",
    "    return zero_cols_rows, one_col_row\n",
    "\n",
    "def find_influenced_samples(triples: pd.DataFrame, one_column_tables: list[str]) -> pd.DataFrame:\n",
    "    indexes = []\n",
    "    one_column_tables = set(one_column_tables)\n",
    "    for r in tqdm(range(triples.shape[0])):\n",
    "        if (triples.iloc[r,0] in one_column_tables) or (triples.iloc[r,1] in one_column_tables):\n",
    "            indexes.append(r)\n",
    "    return triples.iloc[indexes, :]"
   ]
  },
  {
   "cell_type": "markdown",
   "metadata": {},
   "source": [
    "# Gittables"
   ]
  },
  {
   "cell_type": "markdown",
   "metadata": {},
   "source": [
    "## Tables"
   ]
  },
  {
   "cell_type": "code",
   "execution_count": 3,
   "metadata": {},
   "outputs": [],
   "source": [
    "with open(root+'/gittables/dictionaries/table_dict.pkl', 'rb') as f:\n",
    "    td_gittables = pickle.load(f)"
   ]
  },
  {
   "cell_type": "code",
   "execution_count": null,
   "metadata": {},
   "outputs": [],
   "source": [
    "zero_git, one_git = get_1_0_cols_rows_tables(td_gittables)"
   ]
  },
  {
   "cell_type": "code",
   "execution_count": null,
   "metadata": {},
   "outputs": [],
   "source": [
    "len(zero_git)"
   ]
  },
  {
   "cell_type": "code",
   "execution_count": null,
   "metadata": {},
   "outputs": [],
   "source": [
    "len(one_git)"
   ]
  },
  {
   "cell_type": "code",
   "execution_count": null,
   "metadata": {},
   "outputs": [],
   "source": [
    "len(td_gittables.keys())"
   ]
  },
  {
   "cell_type": "markdown",
   "metadata": {},
   "source": [
    "Almost 4% of the tables have a single column, 10_284 tables over 256_834"
   ]
  },
  {
   "cell_type": "code",
   "execution_count": 8,
   "metadata": {},
   "outputs": [],
   "source": [
    "zero_rows = []\n",
    "for k in one_git:\n",
    "    if td_gittables[k].shape[0] == 1:\n",
    "        zero_rows.append(k)"
   ]
  },
  {
   "cell_type": "code",
   "execution_count": null,
   "metadata": {},
   "outputs": [],
   "source": [
    "len(zero_rows)"
   ]
  },
  {
   "cell_type": "markdown",
   "metadata": {},
   "source": [
    "## Influenced samples"
   ]
  },
  {
   "cell_type": "code",
   "execution_count": null,
   "metadata": {},
   "outputs": [],
   "source": [
    "train_gittables = pd.read_csv(root+'/gittables/train.csv')\n",
    "test_gittables = pd.read_csv(root+'/gittables/test.csv')\n",
    "valid_gittables = pd.read_csv(root+'/gittables/valid.csv')\n",
    "\n",
    "influenced_train_git = find_influenced_samples(train_gittables, one_git)\n",
    "influenced_test_git = find_influenced_samples(test_gittables, one_git)\n",
    "influenced_valid_git = find_influenced_samples(valid_gittables, one_git)\n",
    "\n",
    "print(f'Train: {len(influenced_train_git)}/{train_gittables.shape[0]}\\nTest: {len(influenced_test_git)}/{test_gittables.shape[0]}\\nValid: {len(influenced_valid_git)}/{valid_gittables.shape[0]}')"
   ]
  },
  {
   "cell_type": "code",
   "execution_count": null,
   "metadata": {},
   "outputs": [],
   "source": [
    "plot_data_distribution(influenced_train_git)"
   ]
  },
  {
   "cell_type": "code",
   "execution_count": null,
   "metadata": {},
   "outputs": [],
   "source": [
    "plot_data_distribution(influenced_test_git)"
   ]
  },
  {
   "cell_type": "code",
   "execution_count": null,
   "metadata": {},
   "outputs": [],
   "source": [
    "plot_data_distribution(influenced_valid_git)"
   ]
  },
  {
   "cell_type": "markdown",
   "metadata": {},
   "source": [
    "# Wikilast"
   ]
  },
  {
   "cell_type": "code",
   "execution_count": 11,
   "metadata": {},
   "outputs": [],
   "source": [
    "with open(root+'/wikilast/dictionaries/table_dict.pkl', 'rb') as f:\n",
    "    td_wikilast = pickle.load(f)"
   ]
  },
  {
   "cell_type": "code",
   "execution_count": null,
   "metadata": {},
   "outputs": [],
   "source": [
    "zero_wiki, one_wiki = get_1_0_cols_rows_tables(td_wikilast)"
   ]
  },
  {
   "cell_type": "code",
   "execution_count": null,
   "metadata": {},
   "outputs": [],
   "source": [
    "len(zero_wiki)"
   ]
  },
  {
   "cell_type": "code",
   "execution_count": null,
   "metadata": {},
   "outputs": [],
   "source": [
    "len(one_wiki)"
   ]
  },
  {
   "cell_type": "code",
   "execution_count": null,
   "metadata": {},
   "outputs": [],
   "source": [
    "zero_rows_wiki = []\n",
    "for k in one_wiki:\n",
    "    if td_wikilast[k].shape[0] == 1:\n",
    "        zero_rows_wiki.append(k)\n",
    "len(zero_rows_wiki)"
   ]
  },
  {
   "cell_type": "markdown",
   "metadata": {},
   "source": [
    "## Influenced samples"
   ]
  },
  {
   "cell_type": "code",
   "execution_count": null,
   "metadata": {},
   "outputs": [],
   "source": [
    "train_wikilast = pd.read_csv(root+'/wikilast/train.csv')\n",
    "test_wikilast = pd.read_csv(root+'/wikilast/test.csv')\n",
    "valid_wikilast = pd.read_csv(root+'/wikilast/valid.csv')\n",
    "\n",
    "influenced_train_wiki = find_influenced_samples(train_wikilast, one_wiki)\n",
    "influenced_test_wiki = find_influenced_samples(test_wikilast, one_wiki)\n",
    "influenced_valid_wiki = find_influenced_samples(valid_wikilast, one_wiki)\n",
    "\n",
    "print(f'Train: {len(influenced_train_wiki)}/{train_wikilast.shape[0]}\\nTest: {len(influenced_test_wiki)}/{test_wikilast.shape[0]}\\nValid: {len(influenced_valid_wiki)}/{valid_wikilast.shape[0]}')"
   ]
  },
  {
   "cell_type": "code",
   "execution_count": null,
   "metadata": {},
   "outputs": [],
   "source": [
    "print(len(td_wikilast))\n",
    "for r in tqdm(range(valid_wikilast.shape[0])):\n",
    "    td_wikilast[train_wikilast.iloc[r,0]]\n",
    "    td_wikilast[train_wikilast.iloc[r,1]]"
   ]
  },
  {
   "cell_type": "code",
   "execution_count": null,
   "metadata": {},
   "outputs": [],
   "source": [
    "plot_data_distribution(influenced_train_wiki)"
   ]
  },
  {
   "cell_type": "code",
   "execution_count": null,
   "metadata": {},
   "outputs": [],
   "source": [
    "plot_data_distribution(influenced_test_wiki)"
   ]
  },
  {
   "cell_type": "code",
   "execution_count": null,
   "metadata": {},
   "outputs": [],
   "source": [
    "plot_data_distribution(influenced_valid_wiki)"
   ]
  },
  {
   "cell_type": "markdown",
   "metadata": {},
   "source": [
    "# Unusued tables identification wikilast"
   ]
  },
  {
   "cell_type": "code",
   "execution_count": 2,
   "metadata": {},
   "outputs": [],
   "source": [
    "def get_tables_list(df = pd.DataFrame) -> list:\n",
    "    out = []\n",
    "    for r in tqdm(range(df.shape[0])):\n",
    "        out.append(df.iloc[r,0])\n",
    "        out.append(df.iloc[r,1])\n",
    "    return list(set(out))"
   ]
  },
  {
   "cell_type": "code",
   "execution_count": null,
   "metadata": {},
   "outputs": [],
   "source": [
    "import pandas as pd\n",
    "import pickle\n",
    "from tqdm import tqdm\n",
    "\n",
    "train_wikilast = pd.read_csv(root+'/wikilast/train.csv')\n",
    "test_wikilast = pd.read_csv(root+'/wikilast/test.csv')\n",
    "valid_wikilast = pd.read_csv(root+'/wikilast/valid.csv')\n",
    "\n",
    "train_tables_wiki = get_tables_list(train_wikilast)\n",
    "test_tables_wiki = get_tables_list(test_wikilast)\n",
    "valid_tables_wiki = get_tables_list(valid_wikilast)\n",
    "\n",
    "all_tables_wiki = set(train_tables_wiki+test_tables_wiki+valid_tables_wiki)\n",
    "\n",
    "print(f'Total number:{len(all_tables_wiki)}\\nTrain:{len(train_tables_wiki)}\\nTest:{len(test_tables_wiki)}\\nValid:{len(valid_tables_wiki)}')\n",
    "\n"
   ]
  },
  {
   "cell_type": "code",
   "execution_count": 7,
   "metadata": {},
   "outputs": [],
   "source": [
    "with open(root+'/wikilast/dictionaries/table_dict.pkl', 'rb') as f:\n",
    "    td_wikilast = pickle.load(f)"
   ]
  },
  {
   "cell_type": "code",
   "execution_count": null,
   "metadata": {},
   "outputs": [],
   "source": [
    "len(td_wikilast.keys())"
   ]
  },
  {
   "cell_type": "code",
   "execution_count": null,
   "metadata": {},
   "outputs": [],
   "source": [
    "for k in tqdm(all_tables_wiki):\n",
    "    td_wikilast[k].to_csv(root+'/wikilast/csv_minimal/'+k, index=False)"
   ]
  },
  {
   "cell_type": "code",
   "execution_count": 35,
   "metadata": {},
   "outputs": [],
   "source": [
    "import os\n",
    "\n",
    "filenames = os.listdir(tmp_dir+'/out/wikilast')"
   ]
  },
  {
   "cell_type": "code",
   "execution_count": null,
   "metadata": {},
   "outputs": [],
   "source": [
    "len(filenames)"
   ]
  },
  {
   "cell_type": "code",
   "execution_count": null,
   "metadata": {},
   "outputs": [],
   "source": [
    "type(filenames)"
   ]
  },
  {
   "cell_type": "code",
   "execution_count": null,
   "metadata": {},
   "outputs": [],
   "source": [
    "len(set(filenames))"
   ]
  },
  {
   "cell_type": "code",
   "execution_count": 1,
   "metadata": {},
   "outputs": [],
   "source": [
    "import pandas as pd\n",
    "tt = pd.read_csv(root+'/wikilast/train.csv')"
   ]
  },
  {
   "cell_type": "code",
   "execution_count": null,
   "metadata": {},
   "outputs": [],
   "source": [
    "tt"
   ]
  },
  {
   "cell_type": "code",
   "execution_count": 8,
   "metadata": {},
   "outputs": [],
   "source": [
    "import pickle\n",
    "with open(root+'/gittables/dictionaries/embedding_dictionaries/emb_dict_bert_lines_300_300.pkl', 'rb') as f:\n",
    "    ed = pickle.load(f)"
   ]
  },
  {
   "cell_type": "code",
   "execution_count": null,
   "metadata": {},
   "outputs": [],
   "source": [
    "ed"
   ]
  },
  {
   "cell_type": "code",
   "execution_count": null,
   "metadata": {},
   "outputs": [],
   "source": [
    "len(ed.keys())"
   ]
  },
  {
   "cell_type": "code",
   "execution_count": 1,
   "metadata": {},
   "outputs": [],
   "source": [
    "import pickle\n",
    "with open(root+'/wikilast/dictionaries/embedding_dictionaries/emb_dict_turl_tables_300_300.pkl', 'rb') as f:\n",
    "    ed = pickle.load(f)"
   ]
  },
  {
   "cell_type": "code",
   "execution_count": 2,
   "metadata": {},
   "outputs": [],
   "source": [
    "nones = []\n",
    "for k in ed.keys():\n",
    "    if ed[k] == None:\n",
    "        nones.append(k)"
   ]
  },
  {
   "cell_type": "code",
   "execution_count": null,
   "metadata": {},
   "outputs": [],
   "source": [
    "len(nones)"
   ]
  },
  {
   "cell_type": "code",
   "execution_count": null,
   "metadata": {},
   "outputs": [],
   "source": [
    "keys = list(ed.keys())\n",
    "ed[keys[0]].shape"
   ]
  },
  {
   "cell_type": "code",
   "execution_count": 6,
   "metadata": {},
   "outputs": [],
   "source": [
    "with open(root+'/gittables/dictionaries/table_dictionaries/table_dict.pkl', 'rb') as f:\n",
    "    td = pickle.load(f)"
   ]
  },
  {
   "cell_type": "code",
   "execution_count": 7,
   "metadata": {},
   "outputs": [],
   "source": [
    "lk = list(td.keys())"
   ]
  },
  {
   "cell_type": "code",
   "execution_count": null,
   "metadata": {},
   "outputs": [],
   "source": [
    "td[lk[121500]]"
   ]
  },
  {
   "cell_type": "code",
   "execution_count": 1,
   "metadata": {},
   "outputs": [],
   "source": [
    "import pandas as pd"
   ]
  },
  {
   "cell_type": "code",
   "execution_count": 2,
   "metadata": {},
   "outputs": [],
   "source": [
    "dd = pd.read_csv(root+'/wikilast/test.csv')"
   ]
  },
  {
   "cell_type": "code",
   "execution_count": null,
   "metadata": {},
   "outputs": [],
   "source": [
    "dd.head()"
   ]
  },
  {
   "cell_type": "code",
   "execution_count": 15,
   "metadata": {},
   "outputs": [],
   "source": [
    "t1 = pd.read_csv(root+'/wikilast/csv/198.7650.csv')"
   ]
  },
  {
   "cell_type": "code",
   "execution_count": null,
   "metadata": {},
   "outputs": [],
   "source": [
    "t1"
   ]
  },
  {
   "cell_type": "code",
   "execution_count": 5,
   "metadata": {},
   "outputs": [],
   "source": [
    "import pickle\n",
    "with open(root+'/wikilast/dictionaries/table_dictionaries/table_dict.pkl', 'rb') as f:\n",
    "    td = pickle.load(f)"
   ]
  },
  {
   "cell_type": "code",
   "execution_count": null,
   "metadata": {},
   "outputs": [],
   "source": [
    "td['198.7650.csv']"
   ]
  },
  {
   "cell_type": "code",
   "execution_count": null,
   "metadata": {},
   "outputs": [],
   "source": [
    "t1.shape"
   ]
  },
  {
   "cell_type": "code",
   "execution_count": 19,
   "metadata": {},
   "outputs": [],
   "source": [
    "l_t1 = []\n",
    "for c in range(t1.shape[1]):\n",
    "    l_t1.append(list(t1.iloc[:,c]))"
   ]
  },
  {
   "cell_type": "code",
   "execution_count": null,
   "metadata": {},
   "outputs": [],
   "source": [
    "len(l_t1)"
   ]
  },
  {
   "cell_type": "code",
   "execution_count": null,
   "metadata": {},
   "outputs": [],
   "source": [
    "type(l_t1)"
   ]
  },
  {
   "cell_type": "code",
   "execution_count": 1,
   "metadata": {},
   "outputs": [],
   "source": [
    "import pandas as pd"
   ]
  },
  {
   "cell_type": "code",
   "execution_count": 2,
   "metadata": {},
   "outputs": [],
   "source": [
    "dw = pd.read_csv(root+'/wikilast/tmp/wrong_labels_test.csv')"
   ]
  },
  {
   "cell_type": "code",
   "execution_count": null,
   "metadata": {},
   "outputs": [],
   "source": [
    "dw"
   ]
  },
  {
   "cell_type": "code",
   "execution_count": 3,
   "metadata": {},
   "outputs": [],
   "source": [
    "dg = pd.read_csv(root+'/gittables/tmp/wrong_labels_test.csv')"
   ]
  },
  {
   "cell_type": "code",
   "execution_count": 1,
   "metadata": {},
   "outputs": [],
   "source": [
    "import pandas as pd\n",
    "pp = pd.read_csv(root+'/gittables/tmp/wrong_labels_test.csv')"
   ]
  },
  {
   "cell_type": "code",
   "execution_count": null,
   "metadata": {},
   "outputs": [],
   "source": [
    "pp"
   ]
  },
  {
   "cell_type": "code",
   "execution_count": 3,
   "metadata": {},
   "outputs": [],
   "source": [
    "dd = pd.read_csv(root+'/wikilast/tmp/wrong_labels_test.csv')"
   ]
  },
  {
   "cell_type": "code",
   "execution_count": null,
   "metadata": {},
   "outputs": [],
   "source": [
    "dd"
   ]
  },
  {
   "cell_type": "code",
   "execution_count": 1,
   "metadata": {},
   "outputs": [],
   "source": [
    "import pandas as pd\n",
    "t1 = pd.read_csv(root+'/wikilast/csv/123.66036.csv')\n",
    "t2 = pd.read_csv(root+'/wikilast/csv/123.66050.csv')"
   ]
  },
  {
   "cell_type": "code",
   "execution_count": null,
   "metadata": {},
   "outputs": [],
   "source": [
    "t1 = pd.read_csv(root+'/wikilast/csv/123.66036.csv')\n",
    "t1"
   ]
  },
  {
   "cell_type": "code",
   "execution_count": null,
   "metadata": {},
   "outputs": [],
   "source": [
    "t2 = pd.read_csv(root+'/wikilast/csv/123.66050.csv')\n",
    "print((t2.iloc[1,0]))\n",
    "print(type(t2.iloc[1,0]))\n",
    "t2"
   ]
  },
  {
   "cell_type": "code",
   "execution_count": null,
   "metadata": {},
   "outputs": [],
   "source": [
    "tk = table_dict['123.66050.csv']\n",
    "\n",
    "tk"
   ]
  },
  {
   "cell_type": "code",
   "execution_count": null,
   "metadata": {},
   "outputs": [],
   "source": [
    "print(type(tk.iloc[1,0]))"
   ]
  },
  {
   "cell_type": "code",
   "execution_count": null,
   "metadata": {},
   "outputs": [],
   "source": [
    "type(pd.NA)"
   ]
  },
  {
   "cell_type": "code",
   "execution_count": 1,
   "metadata": {},
   "outputs": [],
   "source": [
    "import pandas as pd\n",
    "from tqdm import tqdm\n",
    "\n",
    "def remap_names(df):\n",
    "    new = []\n",
    "    for r in tqdm(range(df.shape[0])):\n",
    "        old = df.iloc[r].iloc[0]\n",
    "        new.append(str(old)+'.csv')\n",
    "    out = df.copy()\n",
    "    out['_id'] = new\n",
    "    return out\n"
   ]
  },
  {
   "cell_type": "code",
   "execution_count": null,
   "metadata": {},
   "outputs": [],
   "source": [
    "train_metadata = root+'/WikiTables/train/metadata_train.csv'\n",
    "train_metadata_out = root+'/WikiTables/train/metadata.csv'\n",
    "test_metadata = root+'/WikiTables/test/metadata_test.csv'\n",
    "test_metadata_out = root+'/WikiTables/test/metadata.csv'\n",
    "valid_metadata = root+'/WikiTables/valid/metadata_valid.csv'\n",
    "valid_metadata_out = root+'/WikiTables/valid/metadata.csv'\n",
    "\n",
    "remap_names(pd.read_csv(train_metadata, dtype=str)).to_csv(train_metadata_out, index=False)\n",
    "remap_names(pd.read_csv(test_metadata, dtype=str)).to_csv(test_metadata_out, index=False)\n",
    "remap_names(pd.read_csv(valid_metadata, dtype=str)).to_csv(valid_metadata_out, index=False)"
   ]
  },
  {
   "cell_type": "code",
   "execution_count": 39,
   "metadata": {},
   "outputs": [],
   "source": [
    "meta = pd.read_csv(root+'/WikiTables/test/metadata.csv')"
   ]
  },
  {
   "cell_type": "code",
   "execution_count": null,
   "metadata": {},
   "outputs": [],
   "source": [
    "meta"
   ]
  },
  {
   "cell_type": "code",
   "execution_count": null,
   "metadata": {},
   "outputs": [],
   "source": [
    "pd.read_csv(root+'/WikiTables/test/tables/81.46316.csv', dtype=str, header=None, skiprows=2)"
   ]
  },
  {
   "cell_type": "code",
   "execution_count": 1,
   "metadata": {},
   "outputs": [],
   "source": [
    "import pandas as pd"
   ]
  },
  {
   "cell_type": "code",
   "execution_count": 4,
   "metadata": {},
   "outputs": [],
   "source": [
    "dd = pd.read_csv(root+'/WikiTables/charts/effe_effi_wikilast.csv')"
   ]
  },
  {
   "cell_type": "code",
   "execution_count": null,
   "metadata": {},
   "outputs": [],
   "source": [
    "dd"
   ]
  },
  {
   "cell_type": "code",
   "execution_count": null,
   "metadata": {},
   "outputs": [],
   "source": [
    "dd['armadillo_wikilast_AE'].mean()"
   ]
  },
  {
   "cell_type": "code",
   "execution_count": 1,
   "metadata": {},
   "outputs": [],
   "source": [
    "import pandas as pd\n",
    "dd = pd.read_csv(root+'/WikiTables/train.csv')"
   ]
  },
  {
   "cell_type": "code",
   "execution_count": 3,
   "metadata": {},
   "outputs": [],
   "source": [
    "import pickle\n",
    "with open(root+'/WikiTables/dictionaries/table_dict.pkl', 'rb') as f:\n",
    "    tt = pickle.load(f)"
   ]
  },
  {
   "cell_type": "code",
   "execution_count": null,
   "metadata": {},
   "outputs": [],
   "source": [
    "dd.iloc[219]"
   ]
  },
  {
   "cell_type": "code",
   "execution_count": null,
   "metadata": {},
   "outputs": [],
   "source": [
    "tt['213.49660.csv']"
   ]
  },
  {
   "cell_type": "code",
   "execution_count": null,
   "metadata": {},
   "outputs": [],
   "source": [
    "tt['616.55267.csv']"
   ]
  },
  {
   "cell_type": "code",
   "execution_count": null,
   "metadata": {},
   "outputs": [],
   "source": [
    "dd.iloc[218]"
   ]
  },
  {
   "cell_type": "code",
   "execution_count": null,
   "metadata": {},
   "outputs": [],
   "source": [
    "tt['429.158740.csv']"
   ]
  },
  {
   "cell_type": "code",
   "execution_count": null,
   "metadata": {},
   "outputs": [],
   "source": [
    "tt['429.98504.csv']"
   ]
  },
  {
   "cell_type": "code",
   "execution_count": null,
   "metadata": {},
   "outputs": [],
   "source": [
    "import pandas as pd\n",
    "dd = pd.read_csv(root+'/WikiTables/test.csv')\n",
    "dd"
   ]
  },
  {
   "cell_type": "code",
   "execution_count": null,
   "metadata": {},
   "outputs": [],
   "source": [
    "dd['jsim_time'].sum()"
   ]
  },
  {
   "cell_type": "code",
   "execution_count": 4,
   "metadata": {},
   "outputs": [],
   "source": [
    "dd = pd.read_csv(root+'/WikiTables/train.csv')"
   ]
  },
  {
   "cell_type": "code",
   "execution_count": 13,
   "metadata": {},
   "outputs": [],
   "source": [
    "l = [(0,50_000),(50_000,100_000),(100_000,150_000),(150_000,200_000),(200_000,250_000),(250_000,300_000),(300_000,350_000),(350_000,400_000),(400_000,450_000),(450_000,500_000)]\n",
    "fff = []\n",
    "for i in range(len(l)):\n",
    "    fff.append(dd.iloc[l[i][0]:l[i][1]])\n",
    "    "
   ]
  },
  {
   "cell_type": "code",
   "execution_count": null,
   "metadata": {},
   "outputs": [],
   "source": [
    "fff"
   ]
  },
  {
   "cell_type": "code",
   "execution_count": null,
   "metadata": {},
   "outputs": [],
   "source": [
    "fff[9]"
   ]
  },
  {
   "cell_type": "code",
   "execution_count": null,
   "metadata": {},
   "outputs": [],
   "source": [
    "fff[8]"
   ]
  },
  {
   "cell_type": "code",
   "execution_count": null,
   "metadata": {},
   "outputs": [],
   "source": [
    "len(fff)"
   ]
  },
  {
   "cell_type": "code",
   "execution_count": null,
   "metadata": {},
   "outputs": [],
   "source": [
    "fff[9]"
   ]
  },
  {
   "cell_type": "code",
   "execution_count": null,
   "metadata": {},
   "outputs": [],
   "source": [
    "str((0,50_000))"
   ]
  },
  {
   "cell_type": "code",
   "execution_count": 30,
   "metadata": {},
   "outputs": [],
   "source": [
    "import pickle"
   ]
  },
  {
   "cell_type": "code",
   "execution_count": 31,
   "metadata": {},
   "outputs": [],
   "source": [
    "with open(root+'/WikiTables/dictionaries/embedding_dictionaries/embdi/embedding_dict_mockup.pkl','rb') as f:\n",
    "    ed = pickle.load(f)"
   ]
  },
  {
   "cell_type": "code",
   "execution_count": 32,
   "metadata": {},
   "outputs": [],
   "source": [
    "with open(root+'/WikiTables/dictionaries/embedding_dictionaries/embdi/t_execs_mockup.pkl','rb') as f:\n",
    "    td = pickle.load(f)"
   ]
  },
  {
   "cell_type": "code",
   "execution_count": null,
   "metadata": {},
   "outputs": [],
   "source": [
    "ed"
   ]
  },
  {
   "cell_type": "code",
   "execution_count": null,
   "metadata": {},
   "outputs": [],
   "source": [
    "ed.keys()"
   ]
  },
  {
   "cell_type": "code",
   "execution_count": null,
   "metadata": {},
   "outputs": [],
   "source": [
    "td['451.108746.csv|482.134731.csv']"
   ]
  },
  {
   "cell_type": "code",
   "execution_count": 1,
   "metadata": {},
   "outputs": [],
   "source": [
    "import pickle"
   ]
  },
  {
   "cell_type": "code",
   "execution_count": 2,
   "metadata": {},
   "outputs": [],
   "source": [
    "with open(tmp_dir+'/test_emb_exec_t/emb_dict_bert_lines_300_300.pkl', 'rb') as f:\n",
    "    ed = pickle.load(f)\n",
    "\n",
    "with open(tmp_dir+'/test_emb_exec_t/t_execs_bert_rows_300_300_gittables.pkl', 'rb') as f:\n",
    "    ted = pickle.load(f)"
   ]
  },
  {
   "cell_type": "code",
   "execution_count": null,
   "metadata": {},
   "outputs": [],
   "source": [
    "ted"
   ]
  },
  {
   "cell_type": "code",
   "execution_count": null,
   "metadata": {},
   "outputs": [],
   "source": [
    "ed['437.47993.csv'].shape"
   ]
  },
  {
   "cell_type": "code",
   "execution_count": 3,
   "metadata": {},
   "outputs": [],
   "source": [
    "import pickle\n",
    "with open(root+'/WikiTables/dictionaries/embedding_dictionaries/emb_dict_embdi.pkl', 'rb') as f:\n",
    "    ed = pickle.load(f)\n",
    "\n",
    "with open(root+'/WikiTables/dictionaries/embedding_dictionaries/t_execs_embdi.pkl', 'rb') as f:\n",
    "    ted = pickle.load(f)"
   ]
  },
  {
   "cell_type": "code",
   "execution_count": 4,
   "metadata": {},
   "outputs": [],
   "source": [
    "import pandas as pd\n",
    "train = pd.read_csv(root+'/WikiTables/train.csv')\n",
    "test = pd.read_csv(root+'/WikiTables/test.csv')\n",
    "valid = pd.read_csv(root+'/WikiTables/valid.csv')"
   ]
  },
  {
   "cell_type": "code",
   "execution_count": 5,
   "metadata": {},
   "outputs": [],
   "source": [
    "from tqdm import tqdm\n",
    "def checkkk(d, s):\n",
    "    arg = []\n",
    "    for r in tqdm(range(d.shape[0])):\n",
    "        t = d.iloc[r]\n",
    "        k = f'{t.loc[\"r_id\"]}|{t.loc[\"s_id\"]}'\n",
    "        if k not in s:\n",
    "            arg.append(k)\n",
    "    return arg"
   ]
  },
  {
   "cell_type": "code",
   "execution_count": null,
   "metadata": {},
   "outputs": [],
   "source": [
    "len(set(list(ed.keys())))"
   ]
  },
  {
   "cell_type": "code",
   "execution_count": null,
   "metadata": {},
   "outputs": [],
   "source": [
    "len(list(ted.keys()))"
   ]
  },
  {
   "cell_type": "code",
   "execution_count": 8,
   "metadata": {},
   "outputs": [],
   "source": [
    "import pandas as pd\n",
    "train = pd.read_csv(root+'/WikiTables/train.csv')\n",
    "test = pd.read_csv(root+'/WikiTables/test.csv')\n",
    "valid = pd.read_csv(root+'/WikiTables/valid.csv')"
   ]
  },
  {
   "cell_type": "code",
   "execution_count": null,
   "metadata": {},
   "outputs": [],
   "source": [
    "train_bd = checkkk(train, set(list(ed.keys())))\n",
    "test_bd = checkkk(test, set(list(ed.keys())))\n",
    "valid_bd = checkkk(valid, set(list(ed.keys())))"
   ]
  },
  {
   "cell_type": "code",
   "execution_count": null,
   "metadata": {},
   "outputs": [],
   "source": [
    "train_bd"
   ]
  },
  {
   "cell_type": "code",
   "execution_count": null,
   "metadata": {},
   "outputs": [],
   "source": [
    "test_bd"
   ]
  },
  {
   "cell_type": "code",
   "execution_count": null,
   "metadata": {},
   "outputs": [],
   "source": [
    "valid_bd"
   ]
  },
  {
   "cell_type": "code",
   "execution_count": 1,
   "metadata": {},
   "outputs": [],
   "source": [
    "import pickle"
   ]
  },
  {
   "cell_type": "code",
   "execution_count": 2,
   "metadata": {},
   "outputs": [],
   "source": [
    "with open(root+'/WikiTables/charts/embedding_gen_time_wikilast.pkl','rb') as f:\n",
    "    dfd = pickle.load(f)"
   ]
  },
  {
   "cell_type": "code",
   "execution_count": null,
   "metadata": {},
   "outputs": [],
   "source": [
    "dfd"
   ]
  },
  {
   "cell_type": "code",
   "execution_count": 4,
   "metadata": {},
   "outputs": [],
   "source": [
    "with open(root+'/WikiTables/charts/embedding_file_wiki_on_wiki.pkl','rb') as f:\n",
    "    dkd = pickle.load(f)"
   ]
  },
  {
   "cell_type": "code",
   "execution_count": null,
   "metadata": {},
   "outputs": [],
   "source": [
    "type(dkd['437.47993.csv'])"
   ]
  },
  {
   "cell_type": "code",
   "execution_count": 9,
   "metadata": {},
   "outputs": [],
   "source": [
    "import pandas as pd\n",
    "res = pd.read_csv(root+'/WikiTables/evalutation/eval_wiki.csv')"
   ]
  },
  {
   "cell_type": "code",
   "execution_count": null,
   "metadata": {},
   "outputs": [],
   "source": [
    "res.describe()"
   ]
  },
  {
   "cell_type": "code",
   "execution_count": null,
   "metadata": {},
   "outputs": [],
   "source": [
    "res.columns"
   ]
  },
  {
   "cell_type": "code",
   "execution_count": null,
   "metadata": {},
   "outputs": [],
   "source": [
    "res.describe()[['sloth_time','jsim_time','armadillo_wikilast_overlap_time','embdi_wikilast_overlap_time','turl_wikilast_overlap_time','bert_tables_300_300_wikilast_overlap_time','bert_tables_anon_300_300_wikilast_overlap_time','roberta_tables_300_300_wikilast_overlap_time','roberta_tables_anon_300_300_wikilast_overlap_time','bert_rows_300_300_wikilast_overlap_time','roberta_rows_300_300_wikilast_overlap_time','jsim_AE','armadillo_wikilast_ae', 'embdi_wikilast_ae','turl_wikilast_ae','bert_tables_300_300_wikilast_ae','bert_tables_anon_300_300_wikilast_ae','roberta_tables_300_300_wikilast_ae','roberta_tables_anon_300_300_wikilast_ae','bert_rows_300_300_wikilast_ae','roberta_rows_300_300_wikilast_ae']]"
   ]
  },
  {
   "cell_type": "code",
   "execution_count": null,
   "metadata": {},
   "outputs": [],
   "source": []
  }
 ],
 "metadata": {
  "kernelspec": {
   "display_name": "GNNTE",
   "language": "python",
   "name": "python3"
  },
  "language_info": {
   "codemirror_mode": {
    "name": "ipython",
    "version": 3
   },
   "file_extension": ".py",
   "mimetype": "text/x-python",
   "name": "python",
   "nbconvert_exporter": "python",
   "pygments_lexer": "ipython3",
   "version": "3.11.3"
  }
 },
 "nbformat": 4,
 "nbformat_minor": 2
}
