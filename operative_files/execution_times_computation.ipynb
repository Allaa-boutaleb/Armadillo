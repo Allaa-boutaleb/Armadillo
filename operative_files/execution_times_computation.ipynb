{
 "cells": [
  {
   "cell_type": "markdown",
   "metadata": {},
   "source": [
    "# Sloth"
   ]
  },
  {
   "cell_type": "code",
   "execution_count": 1,
   "metadata": {},
   "outputs": [
    {
     "name": "stdout",
     "output_type": "stream",
     "text": [
      "Inference time sloth git: 288199.94603967667s\n"
     ]
    }
   ],
   "source": [
    "import pandas as pd\n",
    "from tqdm import tqdm\n",
    "test_git = pd.read_csv('/home/francesco.pugnaloni/armadillo_all/datasets/GitTables/test.csv')\n",
    "sloth_inference_time_git = test_git['total_time'].sum()\n",
    "print(f'Inference time sloth git: {sloth_inference_time_git}s')"
   ]
  },
  {
   "cell_type": "code",
   "execution_count": 5,
   "metadata": {},
   "outputs": [
    {
     "name": "stdout",
     "output_type": "stream",
     "text": [
      "Inference time sloth wiki: 54888.991956710815s\n"
     ]
    }
   ],
   "source": [
    "test_wiki = pd.read_csv('/home/francesco.pugnaloni/armadillo_all/datasets/WikiTables/test.csv')\n",
    "sloth_inference_time_wiki = test_wiki['sloth_time'].sum()\n",
    "print(f'Inference time sloth wiki: {sloth_inference_time_wiki}s')"
   ]
  },
  {
   "cell_type": "markdown",
   "metadata": {},
   "source": [
    "# Jaccard"
   ]
  },
  {
   "cell_type": "code",
   "execution_count": 9,
   "metadata": {},
   "outputs": [
    {
     "data": {
      "text/html": [
       "<div>\n",
       "<style scoped>\n",
       "    .dataframe tbody tr th:only-of-type {\n",
       "        vertical-align: middle;\n",
       "    }\n",
       "\n",
       "    .dataframe tbody tr th {\n",
       "        vertical-align: top;\n",
       "    }\n",
       "\n",
       "    .dataframe thead th {\n",
       "        text-align: right;\n",
       "    }\n",
       "</style>\n",
       "<table border=\"1\" class=\"dataframe\">\n",
       "  <thead>\n",
       "    <tr style=\"text-align: right;\">\n",
       "      <th></th>\n",
       "      <th>r_id</th>\n",
       "      <th>r_w</th>\n",
       "      <th>r_h</th>\n",
       "      <th>r_a</th>\n",
       "      <th>s_id</th>\n",
       "      <th>s_w</th>\n",
       "      <th>s_h</th>\n",
       "      <th>s_a</th>\n",
       "      <th>jsim</th>\n",
       "      <th>jsim_time</th>\n",
       "      <th>josie</th>\n",
       "      <th>josie_time</th>\n",
       "      <th>seeds</th>\n",
       "      <th>algo</th>\n",
       "      <th>o_w</th>\n",
       "      <th>o_h</th>\n",
       "      <th>o_a</th>\n",
       "      <th>total_time</th>\n",
       "      <th>a%</th>\n",
       "    </tr>\n",
       "  </thead>\n",
       "  <tbody>\n",
       "    <tr>\n",
       "      <th>0</th>\n",
       "      <td>object_csv_licensed.zip_IA2ComProxy.dll.csv__2...</td>\n",
       "      <td>11</td>\n",
       "      <td>80</td>\n",
       "      <td>880</td>\n",
       "      <td>object_csv_licensed.zip_bcastdvr.proxy.dll.csv...</td>\n",
       "      <td>11</td>\n",
       "      <td>86</td>\n",
       "      <td>946</td>\n",
       "      <td>0.656000</td>\n",
       "      <td>0.000017</td>\n",
       "      <td>0.82000</td>\n",
       "      <td>0.000007</td>\n",
       "      <td>4</td>\n",
       "      <td>e</td>\n",
       "      <td>4.0</td>\n",
       "      <td>66.0</td>\n",
       "      <td>264.0</td>\n",
       "      <td>0.001948</td>\n",
       "      <td>0.300000</td>\n",
       "    </tr>\n",
       "    <tr>\n",
       "      <th>1</th>\n",
       "      <td>seek_time_csv_licensed.zip_PL1331LAGRZW3H.csv</td>\n",
       "      <td>19</td>\n",
       "      <td>753</td>\n",
       "      <td>14307</td>\n",
       "      <td>seek_time_csv_licensed.zip_PL2331LAGMH50J.csv</td>\n",
       "      <td>19</td>\n",
       "      <td>823</td>\n",
       "      <td>15637</td>\n",
       "      <td>0.341833</td>\n",
       "      <td>0.000233</td>\n",
       "      <td>0.52638</td>\n",
       "      <td>0.000076</td>\n",
       "      <td>156</td>\n",
       "      <td>a</td>\n",
       "      <td>11.0</td>\n",
       "      <td>750.0</td>\n",
       "      <td>8250.0</td>\n",
       "      <td>16.844135</td>\n",
       "      <td>0.576641</td>\n",
       "    </tr>\n",
       "  </tbody>\n",
       "</table>\n",
       "</div>"
      ],
      "text/plain": [
       "                                                r_id  r_w  r_h    r_a  \\\n",
       "0  object_csv_licensed.zip_IA2ComProxy.dll.csv__2...   11   80    880   \n",
       "1      seek_time_csv_licensed.zip_PL1331LAGRZW3H.csv   19  753  14307   \n",
       "\n",
       "                                                s_id  s_w  s_h    s_a  \\\n",
       "0  object_csv_licensed.zip_bcastdvr.proxy.dll.csv...   11   86    946   \n",
       "1      seek_time_csv_licensed.zip_PL2331LAGMH50J.csv   19  823  15637   \n",
       "\n",
       "       jsim  jsim_time    josie  josie_time  seeds algo   o_w    o_h     o_a  \\\n",
       "0  0.656000   0.000017  0.82000    0.000007      4    e   4.0   66.0   264.0   \n",
       "1  0.341833   0.000233  0.52638    0.000076    156    a  11.0  750.0  8250.0   \n",
       "\n",
       "   total_time        a%  \n",
       "0    0.001948  0.300000  \n",
       "1   16.844135  0.576641  "
      ]
     },
     "execution_count": 9,
     "metadata": {},
     "output_type": "execute_result"
    }
   ],
   "source": [
    "test_git.head(2)"
   ]
  },
  {
   "cell_type": "code",
   "execution_count": 11,
   "metadata": {},
   "outputs": [
    {
     "data": {
      "text/plain": [
       "5.419840097426464"
      ]
     },
     "execution_count": 11,
     "metadata": {},
     "output_type": "execute_result"
    }
   ],
   "source": [
    "test_git['jsim_time'].sum()"
   ]
  },
  {
   "cell_type": "code",
   "execution_count": 12,
   "metadata": {},
   "outputs": [
    {
     "data": {
      "text/plain": [
       "0.31155753135681147"
      ]
     },
     "execution_count": 12,
     "metadata": {},
     "output_type": "execute_result"
    }
   ],
   "source": [
    "test_wiki['jsim_time'].sum()"
   ]
  },
  {
   "cell_type": "code",
   "execution_count": 13,
   "metadata": {},
   "outputs": [],
   "source": [
    "test_git['ae_jsim'] = abs(test_git['jsim'] - test_git['a%'])"
   ]
  },
  {
   "cell_type": "code",
   "execution_count": 14,
   "metadata": {},
   "outputs": [
    {
     "data": {
      "text/plain": [
       "0.14581914607292135"
      ]
     },
     "execution_count": 14,
     "metadata": {},
     "output_type": "execute_result"
    }
   ],
   "source": [
    "test_git['ae_jsim'].mean()"
   ]
  },
  {
   "cell_type": "markdown",
   "metadata": {},
   "source": [
    "# EmbDI"
   ]
  },
  {
   "cell_type": "code",
   "execution_count": 6,
   "metadata": {},
   "outputs": [],
   "source": [
    "import pickle\n",
    "import pandas as pd"
   ]
  },
  {
   "cell_type": "code",
   "execution_count": 7,
   "metadata": {},
   "outputs": [],
   "source": [
    "with open('/home/francesco.pugnaloni/armadillo_all/datasets/WikiTables/dictionaries/embedding_dictionaries/t_execs_embdi.pkl', 'rb') as f:\n",
    "    tembdi = pickle.load(f)"
   ]
  },
  {
   "cell_type": "code",
   "execution_count": 8,
   "metadata": {},
   "outputs": [
    {
     "name": "stderr",
     "output_type": "stream",
     "text": [
      "100%|██████████| 60000/60000 [00:04<00:00, 12655.44it/s]\n"
     ]
    },
    {
     "data": {
      "text/plain": [
       "70414.41400051117"
      ]
     },
     "execution_count": 8,
     "metadata": {},
     "output_type": "execute_result"
    }
   ],
   "source": [
    "total_time = 0\n",
    "for r in tqdm(range(test_wiki.shape[0])):\n",
    "    r_id = test_wiki.iloc[r].loc['r_id']\n",
    "    s_id = test_wiki.iloc[r].loc['s_id']\n",
    "    total_time += tembdi[f'{r_id}|{s_id}']\n",
    "total_time"
   ]
  },
  {
   "cell_type": "markdown",
   "metadata": {},
   "source": [
    "# TURL-T-W"
   ]
  },
  {
   "cell_type": "code",
   "execution_count": 23,
   "metadata": {},
   "outputs": [],
   "source": [
    "with open('/home/francesco.pugnaloni/armadillo_all/datasets/WikiTables/dictionaries/embedding_dictionaries/t_execs_turl_tables_300_300_wikilast.pkl', 'rb') as f:\n",
    "    tturl = pickle.load(f)"
   ]
  },
  {
   "cell_type": "code",
   "execution_count": 9,
   "metadata": {},
   "outputs": [],
   "source": [
    "import pickle\n",
    "import pandas as pd\n",
    "\n",
    "def get_emb_time(df, times):\n",
    "    if isinstance(times, str):\n",
    "        with open(times, 'rb') as f:\n",
    "            times = pickle.load(f)\n",
    "    if isinstance(df,str):\n",
    "        df = pd.read_csv(df)\n",
    "    total_time = 0\n",
    "    for r in tqdm(range(df.shape[0])):\n",
    "        r_id = df.iloc[r].loc['r_id']\n",
    "        s_id = df.iloc[r].loc['s_id']\n",
    "        total_time += times[r_id]\n",
    "        total_time += times[s_id]\n",
    "    return total_time"
   ]
  },
  {
   "cell_type": "code",
   "execution_count": 25,
   "metadata": {},
   "outputs": [
    {
     "name": "stderr",
     "output_type": "stream",
     "text": [
      "100%|██████████| 60000/60000 [00:05<00:00, 11511.60it/s]\n"
     ]
    },
    {
     "data": {
      "text/plain": [
       "3182.7271382808685"
      ]
     },
     "execution_count": 25,
     "metadata": {},
     "output_type": "execute_result"
    }
   ],
   "source": [
    "get_emb_time(test_wiki, tturl)"
   ]
  },
  {
   "cell_type": "markdown",
   "metadata": {},
   "source": [
    "# BERT-R-G"
   ]
  },
  {
   "cell_type": "code",
   "execution_count": 29,
   "metadata": {},
   "outputs": [
    {
     "name": "stderr",
     "output_type": "stream",
     "text": [
      "100%|██████████| 100000/100000 [00:09<00:00, 11010.77it/s]\n"
     ]
    },
    {
     "data": {
      "text/plain": [
       "189393.45786762238"
      ]
     },
     "execution_count": 29,
     "metadata": {},
     "output_type": "execute_result"
    }
   ],
   "source": [
    "get_emb_time('/home/francesco.pugnaloni/armadillo_all/datasets/GitTables/test.csv', '/home/francesco.pugnaloni/armadillo_all/datasets/GitTables/dictionaries/embedding_dictionaries/t_execs_bert_rows_300_300_gittables.pkl')"
   ]
  },
  {
   "cell_type": "markdown",
   "metadata": {},
   "source": [
    "# BERT-R-W"
   ]
  },
  {
   "cell_type": "code",
   "execution_count": 30,
   "metadata": {},
   "outputs": [
    {
     "name": "stderr",
     "output_type": "stream",
     "text": [
      "100%|██████████| 60000/60000 [00:04<00:00, 12337.31it/s]\n"
     ]
    },
    {
     "data": {
      "text/plain": [
       "9156.804242134094"
      ]
     },
     "execution_count": 30,
     "metadata": {},
     "output_type": "execute_result"
    }
   ],
   "source": [
    "get_emb_time('/home/francesco.pugnaloni/armadillo_all/datasets/WikiTables/test.csv', '/home/francesco.pugnaloni/armadillo_all/datasets/WikiTables/dictionaries/embedding_dictionaries/t_execs_bert_rows_300_300_wikilast.pkl')"
   ]
  },
  {
   "cell_type": "markdown",
   "metadata": {},
   "source": [
    "# BERT-T-G"
   ]
  },
  {
   "cell_type": "code",
   "execution_count": 31,
   "metadata": {},
   "outputs": [
    {
     "name": "stderr",
     "output_type": "stream",
     "text": [
      "100%|██████████| 100000/100000 [00:09<00:00, 10456.33it/s]\n"
     ]
    },
    {
     "data": {
      "text/plain": [
       "19316.80991435051"
      ]
     },
     "execution_count": 31,
     "metadata": {},
     "output_type": "execute_result"
    }
   ],
   "source": [
    "# Git\n",
    "get_emb_time('/home/francesco.pugnaloni/armadillo_all/datasets/GitTables/test.csv', '/home/francesco.pugnaloni/armadillo_all/datasets/GitTables/dictionaries/embedding_dictionaries/t_execs_bert_tables_300_300_gittables.pkl')"
   ]
  },
  {
   "cell_type": "code",
   "execution_count": 32,
   "metadata": {},
   "outputs": [
    {
     "name": "stderr",
     "output_type": "stream",
     "text": [
      "100%|██████████| 60000/60000 [00:04<00:00, 12902.34it/s]\n"
     ]
    },
    {
     "data": {
      "text/plain": [
       "1604.2604880332947"
      ]
     },
     "execution_count": 32,
     "metadata": {},
     "output_type": "execute_result"
    }
   ],
   "source": [
    "# Wiki\n",
    "get_emb_time('/home/francesco.pugnaloni/armadillo_all/datasets/WikiTables/test.csv', '/home/francesco.pugnaloni/armadillo_all/datasets/WikiTables/dictionaries/embedding_dictionaries/t_execs_bert_tables_300_300_wikilast.pkl')"
   ]
  },
  {
   "cell_type": "markdown",
   "metadata": {},
   "source": [
    "# BERT-T-W"
   ]
  },
  {
   "cell_type": "code",
   "execution_count": 33,
   "metadata": {},
   "outputs": [
    {
     "name": "stderr",
     "output_type": "stream",
     "text": [
      "100%|██████████| 60000/60000 [00:05<00:00, 10826.70it/s]\n"
     ]
    },
    {
     "data": {
      "text/plain": [
       "1604.2604880332947"
      ]
     },
     "execution_count": 33,
     "metadata": {},
     "output_type": "execute_result"
    }
   ],
   "source": [
    "# Wiki\n",
    "get_emb_time('/home/francesco.pugnaloni/armadillo_all/datasets/WikiTables/test.csv', '/home/francesco.pugnaloni/armadillo_all/datasets/WikiTables/dictionaries/embedding_dictionaries/t_execs_bert_tables_300_300_wikilast.pkl')"
   ]
  },
  {
   "cell_type": "markdown",
   "metadata": {},
   "source": [
    "# BERT-T-N-W"
   ]
  },
  {
   "cell_type": "code",
   "execution_count": 34,
   "metadata": {},
   "outputs": [
    {
     "name": "stderr",
     "output_type": "stream",
     "text": [
      "100%|██████████| 60000/60000 [00:04<00:00, 12477.26it/s]\n"
     ]
    },
    {
     "data": {
      "text/plain": [
       "9039.206273078918"
      ]
     },
     "execution_count": 34,
     "metadata": {},
     "output_type": "execute_result"
    }
   ],
   "source": [
    "# Wiki\n",
    "get_emb_time('/home/francesco.pugnaloni/armadillo_all/datasets/WikiTables/test.csv', '/home/francesco.pugnaloni/armadillo_all/datasets/WikiTables/dictionaries/embedding_dictionaries/t_execs_bert_tables_anon_300_300_wikilast.pkl')"
   ]
  },
  {
   "cell_type": "markdown",
   "metadata": {},
   "source": [
    "# RoBERTa-R-G"
   ]
  },
  {
   "cell_type": "code",
   "execution_count": 36,
   "metadata": {},
   "outputs": [
    {
     "name": "stderr",
     "output_type": "stream",
     "text": [
      "100%|██████████| 100000/100000 [00:10<00:00, 9964.69it/s]\n"
     ]
    },
    {
     "data": {
      "text/plain": [
       "195798.6923134327"
      ]
     },
     "execution_count": 36,
     "metadata": {},
     "output_type": "execute_result"
    }
   ],
   "source": [
    "get_emb_time('/home/francesco.pugnaloni/armadillo_all/datasets/GitTables/test.csv', '/home/francesco.pugnaloni/armadillo_all/datasets/GitTables/dictionaries/embedding_dictionaries/t_execs_roberta_rows_300_300_gittables.pkl')"
   ]
  },
  {
   "cell_type": "markdown",
   "metadata": {},
   "source": [
    "# RoBERTa-R-W"
   ]
  },
  {
   "cell_type": "code",
   "execution_count": 37,
   "metadata": {},
   "outputs": [
    {
     "name": "stderr",
     "output_type": "stream",
     "text": [
      "100%|██████████| 60000/60000 [00:04<00:00, 12699.82it/s]\n"
     ]
    },
    {
     "data": {
      "text/plain": [
       "9293.79099392891"
      ]
     },
     "execution_count": 37,
     "metadata": {},
     "output_type": "execute_result"
    }
   ],
   "source": [
    "get_emb_time('/home/francesco.pugnaloni/armadillo_all/datasets/WikiTables/test.csv', '/home/francesco.pugnaloni/armadillo_all/datasets/WikiTables/dictionaries/embedding_dictionaries/t_execs_roberta_rows_300_300_wikilast.pkl')"
   ]
  },
  {
   "cell_type": "markdown",
   "metadata": {},
   "source": [
    "# RoBERTa-T-G"
   ]
  },
  {
   "cell_type": "code",
   "execution_count": 38,
   "metadata": {},
   "outputs": [
    {
     "name": "stderr",
     "output_type": "stream",
     "text": [
      "100%|██████████| 100000/100000 [00:09<00:00, 10865.09it/s]\n"
     ]
    },
    {
     "data": {
      "text/plain": [
       "12855.32209777832"
      ]
     },
     "execution_count": 38,
     "metadata": {},
     "output_type": "execute_result"
    }
   ],
   "source": [
    "get_emb_time('/home/francesco.pugnaloni/armadillo_all/datasets/GitTables/test.csv', '/home/francesco.pugnaloni/armadillo_all/datasets/GitTables/dictionaries/embedding_dictionaries/t_execs_roberta_tables_300_300_gittables.pkl')"
   ]
  },
  {
   "cell_type": "markdown",
   "metadata": {},
   "source": [
    "# RoBERTa-T-W"
   ]
  },
  {
   "cell_type": "code",
   "execution_count": 39,
   "metadata": {},
   "outputs": [
    {
     "name": "stderr",
     "output_type": "stream",
     "text": [
      "100%|██████████| 60000/60000 [00:05<00:00, 11804.10it/s]\n"
     ]
    },
    {
     "data": {
      "text/plain": [
       "1565.0379810333252"
      ]
     },
     "execution_count": 39,
     "metadata": {},
     "output_type": "execute_result"
    }
   ],
   "source": [
    "get_emb_time('/home/francesco.pugnaloni/armadillo_all/datasets/WikiTables/test.csv', '/home/francesco.pugnaloni/armadillo_all/datasets/WikiTables/dictionaries/embedding_dictionaries/t_execs_roberta_tables_300_300_wikilast.pkl')"
   ]
  },
  {
   "cell_type": "markdown",
   "metadata": {},
   "source": [
    "# RoBERTa-T-N-W"
   ]
  },
  {
   "cell_type": "code",
   "execution_count": 40,
   "metadata": {},
   "outputs": [
    {
     "name": "stderr",
     "output_type": "stream",
     "text": [
      "100%|██████████| 60000/60000 [00:04<00:00, 13183.36it/s]\n"
     ]
    },
    {
     "data": {
      "text/plain": [
       "2272.23540186882"
      ]
     },
     "execution_count": 40,
     "metadata": {},
     "output_type": "execute_result"
    }
   ],
   "source": [
    "get_emb_time('/home/francesco.pugnaloni/armadillo_all/datasets/WikiTables/test.csv', '/home/francesco.pugnaloni/armadillo_all/datasets/WikiTables/dictionaries/embedding_dictionaries/t_execs_roberta_tables_anon_300_300_wikilast.pkl')"
   ]
  },
  {
   "cell_type": "markdown",
   "metadata": {},
   "source": [
    "# TURL-T-G"
   ]
  },
  {
   "cell_type": "code",
   "execution_count": 12,
   "metadata": {},
   "outputs": [
    {
     "name": "stderr",
     "output_type": "stream",
     "text": [
      "100%|██████████| 100000/100000 [00:08<00:00, 11185.66it/s]\n",
      "100%|██████████| 100000/100000 [00:08<00:00, 11455.71it/s]\n"
     ]
    },
    {
     "data": {
      "text/plain": [
       "487390.87618374825"
      ]
     },
     "execution_count": 12,
     "metadata": {},
     "output_type": "execute_result"
    }
   ],
   "source": [
    "input = pd.read_csv('/home/francesco.pugnaloni/armadillo_all/datasets/GitTables/test.csv')\n",
    "with open('/home/francesco.pugnaloni/armadillo_all/datasets/GitTables/dictionaries/embedding_dictionaries/t_execs_turl_tables_300_300_gittables.pkl','rb') as f:\n",
    "    embedding_dictionary = pickle.load(f)\n",
    "to_drop = []\n",
    "for r in tqdm(range(input.shape[0])):\n",
    "    if (embedding_dictionary[input.iloc[r].loc['r_id']] == None) or (embedding_dictionary[input.iloc[r].loc['s_id']] == None):\n",
    "        to_drop.append(r)\n",
    "input = input.drop(index=to_drop)\n",
    "get_emb_time(input,embedding_dictionary)"
   ]
  },
  {
   "cell_type": "markdown",
   "metadata": {},
   "source": [
    "# Inference times"
   ]
  },
  {
   "cell_type": "code",
   "execution_count": 1,
   "metadata": {},
   "outputs": [],
   "source": [
    "import pickle\n",
    "with open('/home/francesco.pugnaloni/armadillo_all/times_baselines_inference.pkl','rb') as f:\n",
    "    inf_times = pickle.load(f)"
   ]
  },
  {
   "cell_type": "code",
   "execution_count": 3,
   "metadata": {},
   "outputs": [
    {
     "data": {
      "text/plain": [
       "dict_keys(['embdi_on_wiki', 'turl_t_w_on_wiki', 'bert_r_g_on_git', 'bert_r_w_on_wiki', 'bert_t_g_on_git', 'bert_t_g_on_wiki', 'bert_t_w_on_wiki', 'bert_t_w_on_git', 'bert_t_n_w_on_wiki', 'roberta_r_g_on_git', 'roberta_r_w_on_wiki', 'roberta_t_g_on_git', 'roberta_t_g_on_wiki', 'roberta_t_w_on_wiki', 'roberta_t_w_on_git', 'roberta_t_n_w_on_wiki'])"
      ]
     },
     "execution_count": 3,
     "metadata": {},
     "output_type": "execute_result"
    }
   ],
   "source": [
    "inf_times.keys()"
   ]
  },
  {
   "cell_type": "code",
   "execution_count": 4,
   "metadata": {},
   "outputs": [
    {
     "data": {
      "text/plain": [
       "{'mae': 0.33918145298957825, 'inference_time': 397.1077868938446}"
      ]
     },
     "execution_count": 4,
     "metadata": {},
     "output_type": "execute_result"
    }
   ],
   "source": [
    "inf_times['embdi_on_wiki']"
   ]
  },
  {
   "cell_type": "code",
   "execution_count": 5,
   "metadata": {},
   "outputs": [
    {
     "data": {
      "text/plain": [
       "{'mae': 0.19864992797374725, 'inference_time': 396.9504482746124}"
      ]
     },
     "execution_count": 5,
     "metadata": {},
     "output_type": "execute_result"
    }
   ],
   "source": [
    "inf_times['turl_t_w_on_wiki']"
   ]
  },
  {
   "cell_type": "code",
   "execution_count": 6,
   "metadata": {},
   "outputs": [
    {
     "data": {
      "text/plain": [
       "{'mae': 0.23988468945026398, 'inference_time': 647.7683801651001}"
      ]
     },
     "execution_count": 6,
     "metadata": {},
     "output_type": "execute_result"
    }
   ],
   "source": [
    "inf_times['bert_r_g_on_git']"
   ]
  },
  {
   "cell_type": "code",
   "execution_count": 8,
   "metadata": {},
   "outputs": [
    {
     "data": {
      "text/plain": [
       "{'mae': 0.11486119776964188, 'inference_time': 396.8092396259308}"
      ]
     },
     "execution_count": 8,
     "metadata": {},
     "output_type": "execute_result"
    }
   ],
   "source": [
    "inf_times['bert_r_w_on_wiki']"
   ]
  },
  {
   "cell_type": "code",
   "execution_count": 9,
   "metadata": {},
   "outputs": [
    {
     "data": {
      "text/plain": [
       "{'mae': 0.11253933608531952, 'inference_time': 655.7091197967529}"
      ]
     },
     "execution_count": 9,
     "metadata": {},
     "output_type": "execute_result"
    }
   ],
   "source": [
    "inf_times['bert_t_g_on_git']"
   ]
  },
  {
   "cell_type": "code",
   "execution_count": 10,
   "metadata": {},
   "outputs": [
    {
     "data": {
      "text/plain": [
       "{'mae': 0.2948716878890991, 'inference_time': 398.68773770332336}"
      ]
     },
     "execution_count": 10,
     "metadata": {},
     "output_type": "execute_result"
    }
   ],
   "source": [
    "inf_times['bert_t_g_on_wiki']"
   ]
  },
  {
   "cell_type": "code",
   "execution_count": 11,
   "metadata": {},
   "outputs": [
    {
     "data": {
      "text/plain": [
       "{'mae': 0.09176936000585556, 'inference_time': 400.80385637283325}"
      ]
     },
     "execution_count": 11,
     "metadata": {},
     "output_type": "execute_result"
    }
   ],
   "source": [
    "inf_times['bert_t_w_on_wiki']"
   ]
  },
  {
   "cell_type": "code",
   "execution_count": 12,
   "metadata": {},
   "outputs": [
    {
     "data": {
      "text/plain": [
       "{'mae': 0.29380863904953003, 'inference_time': 670.4548861980438}"
      ]
     },
     "execution_count": 12,
     "metadata": {},
     "output_type": "execute_result"
    }
   ],
   "source": [
    "inf_times['bert_t_w_on_git']"
   ]
  },
  {
   "cell_type": "code",
   "execution_count": 13,
   "metadata": {},
   "outputs": [
    {
     "data": {
      "text/plain": [
       "{'mae': 0.20780973136425018, 'inference_time': 394.285192489624}"
      ]
     },
     "execution_count": 13,
     "metadata": {},
     "output_type": "execute_result"
    }
   ],
   "source": [
    "inf_times['bert_t_n_w_on_wiki']"
   ]
  },
  {
   "cell_type": "code",
   "execution_count": 14,
   "metadata": {},
   "outputs": [
    {
     "data": {
      "text/plain": [
       "{'mae': 0.19743242859840393, 'inference_time': 664.9586963653564}"
      ]
     },
     "execution_count": 14,
     "metadata": {},
     "output_type": "execute_result"
    }
   ],
   "source": [
    "inf_times['roberta_r_g_on_git']"
   ]
  },
  {
   "cell_type": "code",
   "execution_count": 15,
   "metadata": {},
   "outputs": [
    {
     "data": {
      "text/plain": [
       "{'mae': 0.14387080073356628, 'inference_time': 401.15325903892517}"
      ]
     },
     "execution_count": 15,
     "metadata": {},
     "output_type": "execute_result"
    }
   ],
   "source": [
    "inf_times['roberta_r_w_on_wiki']"
   ]
  },
  {
   "cell_type": "code",
   "execution_count": 16,
   "metadata": {},
   "outputs": [
    {
     "data": {
      "text/plain": [
       "{'mae': 0.09520809352397919, 'inference_time': 660.2512924671173}"
      ]
     },
     "execution_count": 16,
     "metadata": {},
     "output_type": "execute_result"
    }
   ],
   "source": [
    "inf_times['roberta_t_g_on_git']"
   ]
  },
  {
   "cell_type": "code",
   "execution_count": 17,
   "metadata": {},
   "outputs": [
    {
     "data": {
      "text/plain": [
       "{'mae': 0.30911874771118164, 'inference_time': 394.658611536026}"
      ]
     },
     "execution_count": 17,
     "metadata": {},
     "output_type": "execute_result"
    }
   ],
   "source": [
    "inf_times['roberta_t_g_on_wiki']"
   ]
  },
  {
   "cell_type": "code",
   "execution_count": 18,
   "metadata": {},
   "outputs": [
    {
     "data": {
      "text/plain": [
       "{'mae': 0.09665702283382416, 'inference_time': 399.06450510025024}"
      ]
     },
     "execution_count": 18,
     "metadata": {},
     "output_type": "execute_result"
    }
   ],
   "source": [
    "inf_times['roberta_t_w_on_wiki']"
   ]
  },
  {
   "cell_type": "code",
   "execution_count": 19,
   "metadata": {},
   "outputs": [
    {
     "data": {
      "text/plain": [
       "{'mae': 0.29816561937332153, 'inference_time': 665.1365764141083}"
      ]
     },
     "execution_count": 19,
     "metadata": {},
     "output_type": "execute_result"
    }
   ],
   "source": [
    "inf_times['roberta_t_w_on_git']"
   ]
  },
  {
   "cell_type": "code",
   "execution_count": 20,
   "metadata": {},
   "outputs": [
    {
     "data": {
      "text/plain": [
       "{'mae': 0.1902417093515396, 'inference_time': 401.21669578552246}"
      ]
     },
     "execution_count": 20,
     "metadata": {},
     "output_type": "execute_result"
    }
   ],
   "source": [
    "inf_times['roberta_t_n_w_on_wiki']"
   ]
  },
  {
   "cell_type": "markdown",
   "metadata": {},
   "source": [
    "# TMP"
   ]
  },
  {
   "cell_type": "code",
   "execution_count": 1,
   "metadata": {},
   "outputs": [],
   "source": [
    "import pandas as pd"
   ]
  },
  {
   "cell_type": "code",
   "execution_count": 2,
   "metadata": {},
   "outputs": [],
   "source": [
    "tqs = pd.read_csv('/home/francesco.pugnaloni/armadillo_all/datasets/GitTables/table_querying/table_querying_stats.csv')"
   ]
  },
  {
   "cell_type": "code",
   "execution_count": 3,
   "metadata": {},
   "outputs": [
    {
     "data": {
      "text/html": [
       "<div>\n",
       "<style scoped>\n",
       "    .dataframe tbody tr th:only-of-type {\n",
       "        vertical-align: middle;\n",
       "    }\n",
       "\n",
       "    .dataframe tbody tr th {\n",
       "        vertical-align: top;\n",
       "    }\n",
       "\n",
       "    .dataframe thead th {\n",
       "        text-align: right;\n",
       "    }\n",
       "</style>\n",
       "<table border=\"1\" class=\"dataframe\">\n",
       "  <thead>\n",
       "    <tr style=\"text-align: right;\">\n",
       "      <th></th>\n",
       "      <th>r_id</th>\n",
       "      <th>r_w</th>\n",
       "      <th>r_h</th>\n",
       "      <th>r_a</th>\n",
       "      <th>s_id</th>\n",
       "      <th>s_w</th>\n",
       "      <th>s_h</th>\n",
       "      <th>s_a</th>\n",
       "      <th>jsim</th>\n",
       "      <th>jsim_time</th>\n",
       "      <th>josie</th>\n",
       "      <th>josie_time</th>\n",
       "      <th>seeds</th>\n",
       "      <th>algo</th>\n",
       "      <th>o_w</th>\n",
       "      <th>o_h</th>\n",
       "      <th>o_a</th>\n",
       "      <th>total_time</th>\n",
       "      <th>a%</th>\n",
       "    </tr>\n",
       "  </thead>\n",
       "  <tbody>\n",
       "    <tr>\n",
       "      <th>0</th>\n",
       "      <td>show_time_csv_licensed.zip_P05-1013.annv3_16.csv</td>\n",
       "      <td>11</td>\n",
       "      <td>20</td>\n",
       "      <td>220</td>\n",
       "      <td>object_csv_licensed.zip_appidsvc.dll.csv__3865...</td>\n",
       "      <td>11</td>\n",
       "      <td>173</td>\n",
       "      <td>1903</td>\n",
       "      <td>0.000000</td>\n",
       "      <td>0.000016</td>\n",
       "      <td>0.000000</td>\n",
       "      <td>0.000005</td>\n",
       "      <td>0</td>\n",
       "      <td>NaN</td>\n",
       "      <td>0.0</td>\n",
       "      <td>0.0</td>\n",
       "      <td>0.0</td>\n",
       "      <td>0.002043</td>\n",
       "      <td>0.000000</td>\n",
       "    </tr>\n",
       "    <tr>\n",
       "      <th>1</th>\n",
       "      <td>show_time_csv_licensed.zip_P05-1013.annv3_16.csv</td>\n",
       "      <td>11</td>\n",
       "      <td>20</td>\n",
       "      <td>220</td>\n",
       "      <td>then_csv_licensed.zip_FOXNEWS.201210.csv</td>\n",
       "      <td>2</td>\n",
       "      <td>101</td>\n",
       "      <td>202</td>\n",
       "      <td>0.000000</td>\n",
       "      <td>0.000014</td>\n",
       "      <td>0.000000</td>\n",
       "      <td>0.000002</td>\n",
       "      <td>0</td>\n",
       "      <td>NaN</td>\n",
       "      <td>0.0</td>\n",
       "      <td>0.0</td>\n",
       "      <td>0.0</td>\n",
       "      <td>0.000469</td>\n",
       "      <td>0.000000</td>\n",
       "    </tr>\n",
       "    <tr>\n",
       "      <th>2</th>\n",
       "      <td>show_time_csv_licensed.zip_P05-1013.annv3_16.csv</td>\n",
       "      <td>11</td>\n",
       "      <td>20</td>\n",
       "      <td>220</td>\n",
       "      <td>id_csv_licensed.zip_0021700946_4.csv</td>\n",
       "      <td>32</td>\n",
       "      <td>20</td>\n",
       "      <td>640</td>\n",
       "      <td>0.012698</td>\n",
       "      <td>0.000015</td>\n",
       "      <td>0.044944</td>\n",
       "      <td>0.000003</td>\n",
       "      <td>7</td>\n",
       "      <td>e</td>\n",
       "      <td>1.0</td>\n",
       "      <td>2.0</td>\n",
       "      <td>2.0</td>\n",
       "      <td>0.002701</td>\n",
       "      <td>0.009091</td>\n",
       "    </tr>\n",
       "    <tr>\n",
       "      <th>3</th>\n",
       "      <td>show_time_csv_licensed.zip_P05-1013.annv3_16.csv</td>\n",
       "      <td>11</td>\n",
       "      <td>20</td>\n",
       "      <td>220</td>\n",
       "      <td>seek_time_csv_licensed.zip_PL2331LAH2V01J.csv</td>\n",
       "      <td>19</td>\n",
       "      <td>83</td>\n",
       "      <td>1577</td>\n",
       "      <td>0.006645</td>\n",
       "      <td>0.000014</td>\n",
       "      <td>0.022472</td>\n",
       "      <td>0.000019</td>\n",
       "      <td>21</td>\n",
       "      <td>e</td>\n",
       "      <td>2.0</td>\n",
       "      <td>20.0</td>\n",
       "      <td>40.0</td>\n",
       "      <td>0.002120</td>\n",
       "      <td>0.181818</td>\n",
       "    </tr>\n",
       "    <tr>\n",
       "      <th>4</th>\n",
       "      <td>show_time_csv_licensed.zip_P05-1013.annv3_16.csv</td>\n",
       "      <td>11</td>\n",
       "      <td>20</td>\n",
       "      <td>220</td>\n",
       "      <td>living_thing_csv_licensed.zip_mrswunschel.csv</td>\n",
       "      <td>6</td>\n",
       "      <td>206</td>\n",
       "      <td>1236</td>\n",
       "      <td>0.023041</td>\n",
       "      <td>0.000040</td>\n",
       "      <td>0.224719</td>\n",
       "      <td>0.000004</td>\n",
       "      <td>1</td>\n",
       "      <td>e</td>\n",
       "      <td>1.0</td>\n",
       "      <td>20.0</td>\n",
       "      <td>20.0</td>\n",
       "      <td>0.001442</td>\n",
       "      <td>0.090909</td>\n",
       "    </tr>\n",
       "  </tbody>\n",
       "</table>\n",
       "</div>"
      ],
      "text/plain": [
       "                                               r_id  r_w  r_h  r_a  \\\n",
       "0  show_time_csv_licensed.zip_P05-1013.annv3_16.csv   11   20  220   \n",
       "1  show_time_csv_licensed.zip_P05-1013.annv3_16.csv   11   20  220   \n",
       "2  show_time_csv_licensed.zip_P05-1013.annv3_16.csv   11   20  220   \n",
       "3  show_time_csv_licensed.zip_P05-1013.annv3_16.csv   11   20  220   \n",
       "4  show_time_csv_licensed.zip_P05-1013.annv3_16.csv   11   20  220   \n",
       "\n",
       "                                                s_id  s_w  s_h   s_a  \\\n",
       "0  object_csv_licensed.zip_appidsvc.dll.csv__3865...   11  173  1903   \n",
       "1           then_csv_licensed.zip_FOXNEWS.201210.csv    2  101   202   \n",
       "2               id_csv_licensed.zip_0021700946_4.csv   32   20   640   \n",
       "3      seek_time_csv_licensed.zip_PL2331LAH2V01J.csv   19   83  1577   \n",
       "4      living_thing_csv_licensed.zip_mrswunschel.csv    6  206  1236   \n",
       "\n",
       "       jsim  jsim_time     josie  josie_time  seeds algo  o_w   o_h   o_a  \\\n",
       "0  0.000000   0.000016  0.000000    0.000005      0  NaN  0.0   0.0   0.0   \n",
       "1  0.000000   0.000014  0.000000    0.000002      0  NaN  0.0   0.0   0.0   \n",
       "2  0.012698   0.000015  0.044944    0.000003      7    e  1.0   2.0   2.0   \n",
       "3  0.006645   0.000014  0.022472    0.000019     21    e  2.0  20.0  40.0   \n",
       "4  0.023041   0.000040  0.224719    0.000004      1    e  1.0  20.0  20.0   \n",
       "\n",
       "   total_time        a%  \n",
       "0    0.002043  0.000000  \n",
       "1    0.000469  0.000000  \n",
       "2    0.002701  0.009091  \n",
       "3    0.002120  0.181818  \n",
       "4    0.001442  0.090909  "
      ]
     },
     "execution_count": 3,
     "metadata": {},
     "output_type": "execute_result"
    }
   ],
   "source": [
    "tqs.head()"
   ]
  },
  {
   "cell_type": "code",
   "execution_count": 4,
   "metadata": {},
   "outputs": [],
   "source": [
    "\n",
    "tq = pd.read_csv('/home/francesco.pugnaloni/armadillo_all/datasets/GitTables/table_querying/evaluation/table_querying_results.csv')"
   ]
  },
  {
   "cell_type": "code",
   "execution_count": 5,
   "metadata": {},
   "outputs": [
    {
     "data": {
      "text/html": [
       "<div>\n",
       "<style scoped>\n",
       "    .dataframe tbody tr th:only-of-type {\n",
       "        vertical-align: middle;\n",
       "    }\n",
       "\n",
       "    .dataframe tbody tr th {\n",
       "        vertical-align: top;\n",
       "    }\n",
       "\n",
       "    .dataframe thead th {\n",
       "        text-align: right;\n",
       "    }\n",
       "</style>\n",
       "<table border=\"1\" class=\"dataframe\">\n",
       "  <thead>\n",
       "    <tr style=\"text-align: right;\">\n",
       "      <th></th>\n",
       "      <th>r_id</th>\n",
       "      <th>r_w</th>\n",
       "      <th>r_h</th>\n",
       "      <th>r_a</th>\n",
       "      <th>s_id</th>\n",
       "      <th>s_w</th>\n",
       "      <th>s_h</th>\n",
       "      <th>s_a</th>\n",
       "      <th>jsim</th>\n",
       "      <th>jsim_time</th>\n",
       "      <th>...</th>\n",
       "      <th>armadillo_g_g_ae</th>\n",
       "      <th>jaccard_bag_union_times</th>\n",
       "      <th>jaccard_bag_union_predictions</th>\n",
       "      <th>jaccard_bag_union_ae</th>\n",
       "      <th>jaccard_bag_smaller_times</th>\n",
       "      <th>jaccard_bag_smaller_predictions</th>\n",
       "      <th>jaccard_bag_smaller_ae</th>\n",
       "      <th>turl_overlap_time</th>\n",
       "      <th>turl_overlap_pred</th>\n",
       "      <th>turl_ae</th>\n",
       "    </tr>\n",
       "  </thead>\n",
       "  <tbody>\n",
       "    <tr>\n",
       "      <th>0</th>\n",
       "      <td>show_time_csv_licensed.zip_P05-1013.annv3_16.csv</td>\n",
       "      <td>11</td>\n",
       "      <td>20</td>\n",
       "      <td>220</td>\n",
       "      <td>object_csv_licensed.zip_appidsvc.dll.csv__3865...</td>\n",
       "      <td>11</td>\n",
       "      <td>173</td>\n",
       "      <td>1903</td>\n",
       "      <td>0.000000</td>\n",
       "      <td>0.000016</td>\n",
       "      <td>...</td>\n",
       "      <td>0.299894</td>\n",
       "      <td>0.003324</td>\n",
       "      <td>0.000000</td>\n",
       "      <td>0.000000</td>\n",
       "      <td>0.003324</td>\n",
       "      <td>0.000000</td>\n",
       "      <td>0.000000e+00</td>\n",
       "      <td>0.238081</td>\n",
       "      <td>0.299331</td>\n",
       "      <td>0.299331</td>\n",
       "    </tr>\n",
       "    <tr>\n",
       "      <th>1</th>\n",
       "      <td>show_time_csv_licensed.zip_P05-1013.annv3_16.csv</td>\n",
       "      <td>11</td>\n",
       "      <td>20</td>\n",
       "      <td>220</td>\n",
       "      <td>then_csv_licensed.zip_FOXNEWS.201210.csv</td>\n",
       "      <td>2</td>\n",
       "      <td>101</td>\n",
       "      <td>202</td>\n",
       "      <td>0.000000</td>\n",
       "      <td>0.000014</td>\n",
       "      <td>...</td>\n",
       "      <td>0.290924</td>\n",
       "      <td>0.000451</td>\n",
       "      <td>0.000000</td>\n",
       "      <td>0.000000</td>\n",
       "      <td>0.000451</td>\n",
       "      <td>0.000000</td>\n",
       "      <td>0.000000e+00</td>\n",
       "      <td>0.261301</td>\n",
       "      <td>0.040405</td>\n",
       "      <td>0.040405</td>\n",
       "    </tr>\n",
       "    <tr>\n",
       "      <th>2</th>\n",
       "      <td>show_time_csv_licensed.zip_P05-1013.annv3_16.csv</td>\n",
       "      <td>11</td>\n",
       "      <td>20</td>\n",
       "      <td>220</td>\n",
       "      <td>id_csv_licensed.zip_0021700946_4.csv</td>\n",
       "      <td>32</td>\n",
       "      <td>20</td>\n",
       "      <td>640</td>\n",
       "      <td>0.012698</td>\n",
       "      <td>0.000015</td>\n",
       "      <td>...</td>\n",
       "      <td>0.002683</td>\n",
       "      <td>0.001277</td>\n",
       "      <td>0.004651</td>\n",
       "      <td>0.004440</td>\n",
       "      <td>0.001277</td>\n",
       "      <td>0.018182</td>\n",
       "      <td>9.090909e-03</td>\n",
       "      <td>0.156519</td>\n",
       "      <td>0.394702</td>\n",
       "      <td>0.385611</td>\n",
       "    </tr>\n",
       "    <tr>\n",
       "      <th>3</th>\n",
       "      <td>show_time_csv_licensed.zip_P05-1013.annv3_16.csv</td>\n",
       "      <td>11</td>\n",
       "      <td>20</td>\n",
       "      <td>220</td>\n",
       "      <td>seek_time_csv_licensed.zip_PL2331LAH2V01J.csv</td>\n",
       "      <td>19</td>\n",
       "      <td>83</td>\n",
       "      <td>1577</td>\n",
       "      <td>0.006645</td>\n",
       "      <td>0.000014</td>\n",
       "      <td>...</td>\n",
       "      <td>0.018367</td>\n",
       "      <td>0.002220</td>\n",
       "      <td>0.022816</td>\n",
       "      <td>0.159002</td>\n",
       "      <td>0.002220</td>\n",
       "      <td>0.186364</td>\n",
       "      <td>4.545455e-03</td>\n",
       "      <td>0.382741</td>\n",
       "      <td>0.406558</td>\n",
       "      <td>0.224740</td>\n",
       "    </tr>\n",
       "    <tr>\n",
       "      <th>4</th>\n",
       "      <td>show_time_csv_licensed.zip_P05-1013.annv3_16.csv</td>\n",
       "      <td>11</td>\n",
       "      <td>20</td>\n",
       "      <td>220</td>\n",
       "      <td>living_thing_csv_licensed.zip_mrswunschel.csv</td>\n",
       "      <td>6</td>\n",
       "      <td>206</td>\n",
       "      <td>1236</td>\n",
       "      <td>0.023041</td>\n",
       "      <td>0.000040</td>\n",
       "      <td>...</td>\n",
       "      <td>0.090909</td>\n",
       "      <td>0.002141</td>\n",
       "      <td>0.013736</td>\n",
       "      <td>0.077173</td>\n",
       "      <td>0.002141</td>\n",
       "      <td>0.090909</td>\n",
       "      <td>1.387779e-17</td>\n",
       "      <td>0.452383</td>\n",
       "      <td>0.035425</td>\n",
       "      <td>0.055484</td>\n",
       "    </tr>\n",
       "    <tr>\n",
       "      <th>...</th>\n",
       "      <td>...</td>\n",
       "      <td>...</td>\n",
       "      <td>...</td>\n",
       "      <td>...</td>\n",
       "      <td>...</td>\n",
       "      <td>...</td>\n",
       "      <td>...</td>\n",
       "      <td>...</td>\n",
       "      <td>...</td>\n",
       "      <td>...</td>\n",
       "      <td>...</td>\n",
       "      <td>...</td>\n",
       "      <td>...</td>\n",
       "      <td>...</td>\n",
       "      <td>...</td>\n",
       "      <td>...</td>\n",
       "      <td>...</td>\n",
       "      <td>...</td>\n",
       "      <td>...</td>\n",
       "      <td>...</td>\n",
       "      <td>...</td>\n",
       "    </tr>\n",
       "    <tr>\n",
       "      <th>999995</th>\n",
       "      <td>data_rate_csv_licensed.zip_A00-2018_akanksha_1...</td>\n",
       "      <td>11</td>\n",
       "      <td>15</td>\n",
       "      <td>165</td>\n",
       "      <td>seek_time_csv_licensed.zip_PL1331LAHBZYEH.csv</td>\n",
       "      <td>19</td>\n",
       "      <td>21</td>\n",
       "      <td>399</td>\n",
       "      <td>0.016000</td>\n",
       "      <td>0.000006</td>\n",
       "      <td>...</td>\n",
       "      <td>0.055420</td>\n",
       "      <td>0.000471</td>\n",
       "      <td>0.056738</td>\n",
       "      <td>0.125081</td>\n",
       "      <td>0.000471</td>\n",
       "      <td>0.193939</td>\n",
       "      <td>1.212121e-02</td>\n",
       "      <td>0.110958</td>\n",
       "      <td>0.603798</td>\n",
       "      <td>0.421980</td>\n",
       "    </tr>\n",
       "    <tr>\n",
       "      <th>999996</th>\n",
       "      <td>data_rate_csv_licensed.zip_A00-2018_akanksha_1...</td>\n",
       "      <td>11</td>\n",
       "      <td>15</td>\n",
       "      <td>165</td>\n",
       "      <td>object_csv_licensed.zip_metadata-info_58.csv</td>\n",
       "      <td>8</td>\n",
       "      <td>18</td>\n",
       "      <td>144</td>\n",
       "      <td>0.000000</td>\n",
       "      <td>0.000009</td>\n",
       "      <td>...</td>\n",
       "      <td>0.000191</td>\n",
       "      <td>0.000273</td>\n",
       "      <td>0.000000</td>\n",
       "      <td>0.000000</td>\n",
       "      <td>0.000273</td>\n",
       "      <td>0.000000</td>\n",
       "      <td>0.000000e+00</td>\n",
       "      <td>0.111897</td>\n",
       "      <td>0.339280</td>\n",
       "      <td>0.339280</td>\n",
       "    </tr>\n",
       "    <tr>\n",
       "      <th>999997</th>\n",
       "      <td>data_rate_csv_licensed.zip_A00-2018_akanksha_1...</td>\n",
       "      <td>11</td>\n",
       "      <td>15</td>\n",
       "      <td>165</td>\n",
       "      <td>speed_of_light_csv_licensed.zip_weather-2015-0...</td>\n",
       "      <td>14</td>\n",
       "      <td>32</td>\n",
       "      <td>448</td>\n",
       "      <td>0.004484</td>\n",
       "      <td>0.000009</td>\n",
       "      <td>...</td>\n",
       "      <td>0.072727</td>\n",
       "      <td>0.000716</td>\n",
       "      <td>0.019576</td>\n",
       "      <td>0.053151</td>\n",
       "      <td>0.000716</td>\n",
       "      <td>0.072727</td>\n",
       "      <td>2.775558e-17</td>\n",
       "      <td>0.131215</td>\n",
       "      <td>0.397475</td>\n",
       "      <td>0.324747</td>\n",
       "    </tr>\n",
       "    <tr>\n",
       "      <th>999998</th>\n",
       "      <td>data_rate_csv_licensed.zip_A00-2018_akanksha_1...</td>\n",
       "      <td>11</td>\n",
       "      <td>15</td>\n",
       "      <td>165</td>\n",
       "      <td>object_csv_licensed.zip_alg.exe.csv__417245484...</td>\n",
       "      <td>11</td>\n",
       "      <td>110</td>\n",
       "      <td>1210</td>\n",
       "      <td>0.004587</td>\n",
       "      <td>0.000010</td>\n",
       "      <td>...</td>\n",
       "      <td>0.028088</td>\n",
       "      <td>0.001559</td>\n",
       "      <td>0.000727</td>\n",
       "      <td>0.005333</td>\n",
       "      <td>0.001559</td>\n",
       "      <td>0.006061</td>\n",
       "      <td>6.071532e-17</td>\n",
       "      <td>0.141144</td>\n",
       "      <td>0.503190</td>\n",
       "      <td>0.497130</td>\n",
       "    </tr>\n",
       "    <tr>\n",
       "      <th>999999</th>\n",
       "      <td>data_rate_csv_licensed.zip_A00-2018_akanksha_1...</td>\n",
       "      <td>11</td>\n",
       "      <td>15</td>\n",
       "      <td>165</td>\n",
       "      <td>data_rate_csv_licensed.zip_14-15_32.csv</td>\n",
       "      <td>11</td>\n",
       "      <td>55</td>\n",
       "      <td>605</td>\n",
       "      <td>0.011561</td>\n",
       "      <td>0.000014</td>\n",
       "      <td>...</td>\n",
       "      <td>0.129313</td>\n",
       "      <td>0.000860</td>\n",
       "      <td>0.044156</td>\n",
       "      <td>0.137662</td>\n",
       "      <td>0.000860</td>\n",
       "      <td>0.206061</td>\n",
       "      <td>2.424242e-02</td>\n",
       "      <td>0.288799</td>\n",
       "      <td>0.645438</td>\n",
       "      <td>0.463620</td>\n",
       "    </tr>\n",
       "  </tbody>\n",
       "</table>\n",
       "<p>1000000 rows × 43 columns</p>\n",
       "</div>"
      ],
      "text/plain": [
       "                                                     r_id  r_w  r_h  r_a  \\\n",
       "0        show_time_csv_licensed.zip_P05-1013.annv3_16.csv   11   20  220   \n",
       "1        show_time_csv_licensed.zip_P05-1013.annv3_16.csv   11   20  220   \n",
       "2        show_time_csv_licensed.zip_P05-1013.annv3_16.csv   11   20  220   \n",
       "3        show_time_csv_licensed.zip_P05-1013.annv3_16.csv   11   20  220   \n",
       "4        show_time_csv_licensed.zip_P05-1013.annv3_16.csv   11   20  220   \n",
       "...                                                   ...  ...  ...  ...   \n",
       "999995  data_rate_csv_licensed.zip_A00-2018_akanksha_1...   11   15  165   \n",
       "999996  data_rate_csv_licensed.zip_A00-2018_akanksha_1...   11   15  165   \n",
       "999997  data_rate_csv_licensed.zip_A00-2018_akanksha_1...   11   15  165   \n",
       "999998  data_rate_csv_licensed.zip_A00-2018_akanksha_1...   11   15  165   \n",
       "999999  data_rate_csv_licensed.zip_A00-2018_akanksha_1...   11   15  165   \n",
       "\n",
       "                                                     s_id  s_w  s_h   s_a  \\\n",
       "0       object_csv_licensed.zip_appidsvc.dll.csv__3865...   11  173  1903   \n",
       "1                then_csv_licensed.zip_FOXNEWS.201210.csv    2  101   202   \n",
       "2                    id_csv_licensed.zip_0021700946_4.csv   32   20   640   \n",
       "3           seek_time_csv_licensed.zip_PL2331LAH2V01J.csv   19   83  1577   \n",
       "4           living_thing_csv_licensed.zip_mrswunschel.csv    6  206  1236   \n",
       "...                                                   ...  ...  ...   ...   \n",
       "999995      seek_time_csv_licensed.zip_PL1331LAHBZYEH.csv   19   21   399   \n",
       "999996       object_csv_licensed.zip_metadata-info_58.csv    8   18   144   \n",
       "999997  speed_of_light_csv_licensed.zip_weather-2015-0...   14   32   448   \n",
       "999998  object_csv_licensed.zip_alg.exe.csv__417245484...   11  110  1210   \n",
       "999999            data_rate_csv_licensed.zip_14-15_32.csv   11   55   605   \n",
       "\n",
       "            jsim  jsim_time  ...  armadillo_g_g_ae  jaccard_bag_union_times  \\\n",
       "0       0.000000   0.000016  ...          0.299894                 0.003324   \n",
       "1       0.000000   0.000014  ...          0.290924                 0.000451   \n",
       "2       0.012698   0.000015  ...          0.002683                 0.001277   \n",
       "3       0.006645   0.000014  ...          0.018367                 0.002220   \n",
       "4       0.023041   0.000040  ...          0.090909                 0.002141   \n",
       "...          ...        ...  ...               ...                      ...   \n",
       "999995  0.016000   0.000006  ...          0.055420                 0.000471   \n",
       "999996  0.000000   0.000009  ...          0.000191                 0.000273   \n",
       "999997  0.004484   0.000009  ...          0.072727                 0.000716   \n",
       "999998  0.004587   0.000010  ...          0.028088                 0.001559   \n",
       "999999  0.011561   0.000014  ...          0.129313                 0.000860   \n",
       "\n",
       "        jaccard_bag_union_predictions jaccard_bag_union_ae  \\\n",
       "0                            0.000000             0.000000   \n",
       "1                            0.000000             0.000000   \n",
       "2                            0.004651             0.004440   \n",
       "3                            0.022816             0.159002   \n",
       "4                            0.013736             0.077173   \n",
       "...                               ...                  ...   \n",
       "999995                       0.056738             0.125081   \n",
       "999996                       0.000000             0.000000   \n",
       "999997                       0.019576             0.053151   \n",
       "999998                       0.000727             0.005333   \n",
       "999999                       0.044156             0.137662   \n",
       "\n",
       "        jaccard_bag_smaller_times  jaccard_bag_smaller_predictions  \\\n",
       "0                        0.003324                         0.000000   \n",
       "1                        0.000451                         0.000000   \n",
       "2                        0.001277                         0.018182   \n",
       "3                        0.002220                         0.186364   \n",
       "4                        0.002141                         0.090909   \n",
       "...                           ...                              ...   \n",
       "999995                   0.000471                         0.193939   \n",
       "999996                   0.000273                         0.000000   \n",
       "999997                   0.000716                         0.072727   \n",
       "999998                   0.001559                         0.006061   \n",
       "999999                   0.000860                         0.206061   \n",
       "\n",
       "        jaccard_bag_smaller_ae  turl_overlap_time  turl_overlap_pred   turl_ae  \n",
       "0                 0.000000e+00           0.238081           0.299331  0.299331  \n",
       "1                 0.000000e+00           0.261301           0.040405  0.040405  \n",
       "2                 9.090909e-03           0.156519           0.394702  0.385611  \n",
       "3                 4.545455e-03           0.382741           0.406558  0.224740  \n",
       "4                 1.387779e-17           0.452383           0.035425  0.055484  \n",
       "...                        ...                ...                ...       ...  \n",
       "999995            1.212121e-02           0.110958           0.603798  0.421980  \n",
       "999996            0.000000e+00           0.111897           0.339280  0.339280  \n",
       "999997            2.775558e-17           0.131215           0.397475  0.324747  \n",
       "999998            6.071532e-17           0.141144           0.503190  0.497130  \n",
       "999999            2.424242e-02           0.288799           0.645438  0.463620  \n",
       "\n",
       "[1000000 rows x 43 columns]"
      ]
     },
     "execution_count": 5,
     "metadata": {},
     "output_type": "execute_result"
    }
   ],
   "source": [
    "tq"
   ]
  },
  {
   "cell_type": "code",
   "execution_count": 22,
   "metadata": {},
   "outputs": [
    {
     "data": {
      "text/plain": [
       "100"
      ]
     },
     "execution_count": 22,
     "metadata": {},
     "output_type": "execute_result"
    }
   ],
   "source": [
    "len(set(tqs['r_id']))"
   ]
  },
  {
   "cell_type": "code",
   "execution_count": 23,
   "metadata": {},
   "outputs": [
    {
     "data": {
      "text/plain": [
       "10000"
      ]
     },
     "execution_count": 23,
     "metadata": {},
     "output_type": "execute_result"
    }
   ],
   "source": [
    "len(set(tqs['s_id']))"
   ]
  },
  {
   "cell_type": "code",
   "execution_count": 24,
   "metadata": {},
   "outputs": [
    {
     "data": {
      "text/plain": [
       "616215.2601864338"
      ]
     },
     "execution_count": 24,
     "metadata": {},
     "output_type": "execute_result"
    }
   ],
   "source": [
    "tqs['total_time'].sum()"
   ]
  },
  {
   "cell_type": "code",
   "execution_count": 25,
   "metadata": {},
   "outputs": [],
   "source": [
    "all_tables_tq = set(tqs['r_id']).union(set(tqs['s_id']))\n",
    "r_ids = set(tqs['r_id'])\n",
    "s_ids = set(tqs['s_id'])"
   ]
  },
  {
   "cell_type": "code",
   "execution_count": 26,
   "metadata": {},
   "outputs": [
    {
     "data": {
      "text/plain": [
       "10100"
      ]
     },
     "execution_count": 26,
     "metadata": {},
     "output_type": "execute_result"
    }
   ],
   "source": [
    "len(all_tables_tq)"
   ]
  },
  {
   "cell_type": "code",
   "execution_count": 27,
   "metadata": {},
   "outputs": [],
   "source": [
    "import pickle\n",
    "with open('/home/francesco.pugnaloni/armadillo_all/datasets/GitTables/dictionaries/embedding_dictionaries/emb_dict_turl_tables_128_128.pkl', 'rb') as f:\n",
    "    ed = pickle.load(f)"
   ]
  },
  {
   "cell_type": "code",
   "execution_count": 31,
   "metadata": {},
   "outputs": [
    {
     "name": "stderr",
     "output_type": "stream",
     "text": [
      "100%|██████████| 10100/10100 [00:00<00:00, 28523.42it/s]\n"
     ]
    },
    {
     "data": {
      "text/plain": [
       "28"
      ]
     },
     "execution_count": 31,
     "metadata": {},
     "output_type": "execute_result"
    }
   ],
   "source": [
    "from tqdm import tqdm\n",
    "missing = []\n",
    "embs = set(ed.keys())\n",
    "nans = []\n",
    "for t in tqdm(all_tables_tq):\n",
    "    if t not in embs or ed[t]==None:\n",
    "        missing.append(t)\n",
    "    elif ed[t]==None:\n",
    "        nans.append(t)\n",
    "len(missing)"
   ]
  },
  {
   "cell_type": "code",
   "execution_count": 32,
   "metadata": {},
   "outputs": [
    {
     "data": {
      "text/plain": [
       "0"
      ]
     },
     "execution_count": 32,
     "metadata": {},
     "output_type": "execute_result"
    }
   ],
   "source": [
    "len(nans)"
   ]
  },
  {
   "cell_type": "code",
   "execution_count": 33,
   "metadata": {},
   "outputs": [],
   "source": [
    "with open('/home/francesco.pugnaloni/armadillo_all/datasets/GitTables/table_querying/dictionaries/table_dict_table_querying.pkl', 'rb') as f:\n",
    "    td = pickle.load(f)\n",
    "missing_dict = {}\n",
    "for k in missing:\n",
    "    missing_dict[k] = td[k]"
   ]
  },
  {
   "cell_type": "code",
   "execution_count": 37,
   "metadata": {},
   "outputs": [],
   "source": [
    "with open('/home/francesco.pugnaloni/armadillo_all/datasets/GitTables/table_querying/dictionaries/missing_tables_turl.pkl', 'wb') as f:\n",
    "    pickle.dump(missing_dict,f)"
   ]
  },
  {
   "cell_type": "code",
   "execution_count": 43,
   "metadata": {},
   "outputs": [
    {
     "name": "stdout",
     "output_type": "stream",
     "text": [
      "{'a': 87, 'b': 1, 'c': 2, 'd': 9}\n"
     ]
    }
   ],
   "source": [
    "def update_dict(d_old, d_new):\n",
    "    d_old.update(d_new)\n",
    "    return d_old\n",
    "\n",
    "d1 = {'a':0,'b':1,'c':2}\n",
    "d2 = {'d':9, 'a':87}\n",
    "d_up = update_dict(d1, d2)\n",
    "print(d_up)"
   ]
  },
  {
   "cell_type": "code",
   "execution_count": 17,
   "metadata": {},
   "outputs": [
    {
     "data": {
      "text/plain": [
       "26"
      ]
     },
     "execution_count": 17,
     "metadata": {},
     "output_type": "execute_result"
    }
   ],
   "source": [
    "len(missing)"
   ]
  },
  {
   "cell_type": "code",
   "execution_count": 44,
   "metadata": {},
   "outputs": [],
   "source": [
    "with open('/home/francesco.pugnaloni/armadillo_all/datasets/GitTables/table_querying/dictionaries/embedding_dictionaries/missing_embeddings_turl.pkl', 'rb') as f:\n",
    "    missing_emb_turl = pickle.load(f)"
   ]
  },
  {
   "cell_type": "code",
   "execution_count": 45,
   "metadata": {},
   "outputs": [],
   "source": [
    "with open('/home/francesco.pugnaloni/armadillo_all/datasets/GitTables/table_querying/dictionaries/embedding_dictionaries/emb_dict_turl.pkl', 'rb') as f:\n",
    "    old_emb_turl = pickle.load(f)"
   ]
  },
  {
   "cell_type": "code",
   "execution_count": 46,
   "metadata": {},
   "outputs": [],
   "source": [
    "updated_emb_turl = update_dict(old_emb_turl, missing_emb_turl)"
   ]
  },
  {
   "cell_type": "code",
   "execution_count": 47,
   "metadata": {},
   "outputs": [],
   "source": [
    "with open('/home/francesco.pugnaloni/armadillo_all/datasets/GitTables/table_querying/dictionaries/embedding_dictionaries/full_emb_dict_turl.pkl', 'wb') as f:\n",
    "    pickle.dump(updated_emb_turl, f)"
   ]
  },
  {
   "cell_type": "code",
   "execution_count": 48,
   "metadata": {},
   "outputs": [],
   "source": [
    "with open('/home/francesco.pugnaloni/armadillo_all/datasets/GitTables/table_querying/dictionaries/embedding_dictionaries/missing_t_execs_turl.pkl', 'rb') as f:\n",
    "    missing_t_execs_turl = pickle.load(f)"
   ]
  },
  {
   "cell_type": "code",
   "execution_count": 49,
   "metadata": {},
   "outputs": [],
   "source": [
    "with open('/home/francesco.pugnaloni/armadillo_all/datasets/GitTables/table_querying/dictionaries/embedding_dictionaries/t_execs_turl.pkl', 'rb') as f:\n",
    "    old_t_execs_turl = pickle.load(f)"
   ]
  },
  {
   "cell_type": "code",
   "execution_count": 50,
   "metadata": {},
   "outputs": [],
   "source": [
    "updated_t_execs_turl = update_dict(old_t_execs_turl, missing_t_execs_turl)"
   ]
  },
  {
   "cell_type": "code",
   "execution_count": 51,
   "metadata": {},
   "outputs": [],
   "source": [
    "with open('/home/francesco.pugnaloni/armadillo_all/datasets/GitTables/table_querying/dictionaries/embedding_dictionaries/full_t_execs_dict_turl.pkl', 'wb') as f:\n",
    "    pickle.dump(updated_t_execs_turl,f)"
   ]
  },
  {
   "cell_type": "code",
   "execution_count": 1,
   "metadata": {},
   "outputs": [],
   "source": [
    "import pandas as pd"
   ]
  },
  {
   "cell_type": "code",
   "execution_count": 2,
   "metadata": {},
   "outputs": [],
   "source": [
    "df = pd.read_csv('/home/francesco.pugnaloni/armadillo_all/datasets/GitTables/evaluation/eval_wiki.csv')"
   ]
  },
  {
   "cell_type": "code",
   "execution_count": 3,
   "metadata": {},
   "outputs": [
    {
     "data": {
      "text/plain": [
       "13211.878166437149"
      ]
     },
     "execution_count": 3,
     "metadata": {},
     "output_type": "execute_result"
    }
   ],
   "source": [
    "df['armadillo_g_g_overlap_time'].sum()"
   ]
  },
  {
   "cell_type": "code",
   "execution_count": 4,
   "metadata": {},
   "outputs": [
    {
     "data": {
      "text/plain": [
       "39.74151448274146"
      ]
     },
     "execution_count": 4,
     "metadata": {},
     "output_type": "execute_result"
    }
   ],
   "source": [
    "(df['total_time']/df['armadillo_g_g_overlap_time']).mean()"
   ]
  },
  {
   "cell_type": "code",
   "execution_count": 5,
   "metadata": {},
   "outputs": [],
   "source": [
    "df_w = pd.read_csv('/home/francesco.pugnaloni/armadillo_all/datasets/WikiTables/evaluation/eval_wiki.csv')"
   ]
  },
  {
   "cell_type": "code",
   "execution_count": 6,
   "metadata": {},
   "outputs": [
    {
     "data": {
      "text/html": [
       "<div>\n",
       "<style scoped>\n",
       "    .dataframe tbody tr th:only-of-type {\n",
       "        vertical-align: middle;\n",
       "    }\n",
       "\n",
       "    .dataframe tbody tr th {\n",
       "        vertical-align: top;\n",
       "    }\n",
       "\n",
       "    .dataframe thead th {\n",
       "        text-align: right;\n",
       "    }\n",
       "</style>\n",
       "<table border=\"1\" class=\"dataframe\">\n",
       "  <thead>\n",
       "    <tr style=\"text-align: right;\">\n",
       "      <th></th>\n",
       "      <th>r_id</th>\n",
       "      <th>s_id</th>\n",
       "      <th>seeds</th>\n",
       "      <th>jsim</th>\n",
       "      <th>jsim_time</th>\n",
       "      <th>os_sim</th>\n",
       "      <th>os_sim_time</th>\n",
       "      <th>a%</th>\n",
       "      <th>sloth_time</th>\n",
       "      <th>jsim_AE</th>\n",
       "      <th>...</th>\n",
       "      <th>roberta_tables_300_300_gittables_ae</th>\n",
       "      <th>armadillo_w_w_overlap_time</th>\n",
       "      <th>armadillo_w_w_overlap_pred</th>\n",
       "      <th>armadillo_w_w_ae</th>\n",
       "      <th>jaccard_bag_union_times</th>\n",
       "      <th>jaccard_bag_union_predictions</th>\n",
       "      <th>jaccard_bag_union_ae</th>\n",
       "      <th>jaccard_bag_smaller_times</th>\n",
       "      <th>jaccard_bag_smaller_predictions</th>\n",
       "      <th>jaccard_bag_smaller_ae</th>\n",
       "    </tr>\n",
       "  </thead>\n",
       "  <tbody>\n",
       "    <tr>\n",
       "      <th>0</th>\n",
       "      <td>198.7650.csv</td>\n",
       "      <td>198.97756.csv</td>\n",
       "      <td>88</td>\n",
       "      <td>0.583333</td>\n",
       "      <td>0.000004</td>\n",
       "      <td>0.736842</td>\n",
       "      <td>0.000001</td>\n",
       "      <td>0.215385</td>\n",
       "      <td>3.205166</td>\n",
       "      <td>0.367949</td>\n",
       "      <td>...</td>\n",
       "      <td>0.648531</td>\n",
       "      <td>0.067274</td>\n",
       "      <td>0.121010</td>\n",
       "      <td>9.437431e-02</td>\n",
       "      <td>0.000175</td>\n",
       "      <td>0.246154</td>\n",
       "      <td>0.030769</td>\n",
       "      <td>0.000175</td>\n",
       "      <td>0.492308</td>\n",
       "      <td>0.276923</td>\n",
       "    </tr>\n",
       "    <tr>\n",
       "      <th>1</th>\n",
       "      <td>309.87528.csv</td>\n",
       "      <td>309.87529.csv</td>\n",
       "      <td>4</td>\n",
       "      <td>0.280000</td>\n",
       "      <td>0.000003</td>\n",
       "      <td>0.437500</td>\n",
       "      <td>0.000001</td>\n",
       "      <td>0.250000</td>\n",
       "      <td>0.000202</td>\n",
       "      <td>0.030000</td>\n",
       "      <td>...</td>\n",
       "      <td>0.525933</td>\n",
       "      <td>0.005337</td>\n",
       "      <td>0.420305</td>\n",
       "      <td>1.703054e-01</td>\n",
       "      <td>0.000046</td>\n",
       "      <td>0.218750</td>\n",
       "      <td>0.031250</td>\n",
       "      <td>0.000046</td>\n",
       "      <td>0.437500</td>\n",
       "      <td>0.187500</td>\n",
       "    </tr>\n",
       "    <tr>\n",
       "      <th>2</th>\n",
       "      <td>124.35588.csv</td>\n",
       "      <td>574.6628.csv</td>\n",
       "      <td>70</td>\n",
       "      <td>0.439716</td>\n",
       "      <td>0.000014</td>\n",
       "      <td>0.639175</td>\n",
       "      <td>0.000004</td>\n",
       "      <td>0.105769</td>\n",
       "      <td>3.087128</td>\n",
       "      <td>0.333947</td>\n",
       "      <td>...</td>\n",
       "      <td>0.483635</td>\n",
       "      <td>0.024487</td>\n",
       "      <td>0.014879</td>\n",
       "      <td>9.089013e-02</td>\n",
       "      <td>0.000786</td>\n",
       "      <td>0.235043</td>\n",
       "      <td>0.129274</td>\n",
       "      <td>0.000786</td>\n",
       "      <td>0.528846</td>\n",
       "      <td>0.423077</td>\n",
       "    </tr>\n",
       "    <tr>\n",
       "      <th>3</th>\n",
       "      <td>225.64426.csv</td>\n",
       "      <td>401.116864.csv</td>\n",
       "      <td>17</td>\n",
       "      <td>0.692308</td>\n",
       "      <td>0.000010</td>\n",
       "      <td>0.818182</td>\n",
       "      <td>0.000005</td>\n",
       "      <td>0.800000</td>\n",
       "      <td>0.000886</td>\n",
       "      <td>0.107692</td>\n",
       "      <td>...</td>\n",
       "      <td>0.163931</td>\n",
       "      <td>0.005096</td>\n",
       "      <td>0.642293</td>\n",
       "      <td>1.577067e-01</td>\n",
       "      <td>0.000054</td>\n",
       "      <td>0.450000</td>\n",
       "      <td>0.350000</td>\n",
       "      <td>0.000054</td>\n",
       "      <td>0.900000</td>\n",
       "      <td>0.100000</td>\n",
       "    </tr>\n",
       "    <tr>\n",
       "      <th>4</th>\n",
       "      <td>441.155903.csv</td>\n",
       "      <td>618.72349.csv</td>\n",
       "      <td>110</td>\n",
       "      <td>0.487179</td>\n",
       "      <td>0.000007</td>\n",
       "      <td>0.791667</td>\n",
       "      <td>0.000003</td>\n",
       "      <td>0.281250</td>\n",
       "      <td>3.848327</td>\n",
       "      <td>0.205929</td>\n",
       "      <td>...</td>\n",
       "      <td>0.066290</td>\n",
       "      <td>0.008869</td>\n",
       "      <td>0.160995</td>\n",
       "      <td>1.202551e-01</td>\n",
       "      <td>0.000089</td>\n",
       "      <td>0.180556</td>\n",
       "      <td>0.100694</td>\n",
       "      <td>0.000089</td>\n",
       "      <td>0.406250</td>\n",
       "      <td>0.125000</td>\n",
       "    </tr>\n",
       "    <tr>\n",
       "      <th>...</th>\n",
       "      <td>...</td>\n",
       "      <td>...</td>\n",
       "      <td>...</td>\n",
       "      <td>...</td>\n",
       "      <td>...</td>\n",
       "      <td>...</td>\n",
       "      <td>...</td>\n",
       "      <td>...</td>\n",
       "      <td>...</td>\n",
       "      <td>...</td>\n",
       "      <td>...</td>\n",
       "      <td>...</td>\n",
       "      <td>...</td>\n",
       "      <td>...</td>\n",
       "      <td>...</td>\n",
       "      <td>...</td>\n",
       "      <td>...</td>\n",
       "      <td>...</td>\n",
       "      <td>...</td>\n",
       "      <td>...</td>\n",
       "      <td>...</td>\n",
       "    </tr>\n",
       "    <tr>\n",
       "      <th>59995</th>\n",
       "      <td>245.13162.csv</td>\n",
       "      <td>377.69517.csv</td>\n",
       "      <td>842</td>\n",
       "      <td>0.875000</td>\n",
       "      <td>0.000009</td>\n",
       "      <td>0.933333</td>\n",
       "      <td>0.000003</td>\n",
       "      <td>0.058065</td>\n",
       "      <td>11.562310</td>\n",
       "      <td>0.816935</td>\n",
       "      <td>...</td>\n",
       "      <td>0.778597</td>\n",
       "      <td>0.042901</td>\n",
       "      <td>0.058065</td>\n",
       "      <td>2.799015e-07</td>\n",
       "      <td>0.001213</td>\n",
       "      <td>0.446237</td>\n",
       "      <td>0.388172</td>\n",
       "      <td>0.001213</td>\n",
       "      <td>0.892473</td>\n",
       "      <td>0.834409</td>\n",
       "    </tr>\n",
       "    <tr>\n",
       "      <th>59996</th>\n",
       "      <td>392.26789.csv</td>\n",
       "      <td>447.114168.csv</td>\n",
       "      <td>84</td>\n",
       "      <td>0.491071</td>\n",
       "      <td>0.000014</td>\n",
       "      <td>0.687500</td>\n",
       "      <td>0.000005</td>\n",
       "      <td>0.200000</td>\n",
       "      <td>3.126973</td>\n",
       "      <td>0.291071</td>\n",
       "      <td>...</td>\n",
       "      <td>0.672591</td>\n",
       "      <td>0.018074</td>\n",
       "      <td>0.454348</td>\n",
       "      <td>2.543482e-01</td>\n",
       "      <td>0.000394</td>\n",
       "      <td>0.235294</td>\n",
       "      <td>0.035294</td>\n",
       "      <td>0.000394</td>\n",
       "      <td>0.533333</td>\n",
       "      <td>0.333333</td>\n",
       "    </tr>\n",
       "    <tr>\n",
       "      <th>59997</th>\n",
       "      <td>382.160.csv</td>\n",
       "      <td>440.84900.csv</td>\n",
       "      <td>12</td>\n",
       "      <td>0.300000</td>\n",
       "      <td>0.000005</td>\n",
       "      <td>0.500000</td>\n",
       "      <td>0.000002</td>\n",
       "      <td>0.333333</td>\n",
       "      <td>0.000358</td>\n",
       "      <td>0.033333</td>\n",
       "      <td>...</td>\n",
       "      <td>0.314179</td>\n",
       "      <td>0.005303</td>\n",
       "      <td>0.680393</td>\n",
       "      <td>3.470599e-01</td>\n",
       "      <td>0.000036</td>\n",
       "      <td>0.261905</td>\n",
       "      <td>0.071429</td>\n",
       "      <td>0.000036</td>\n",
       "      <td>0.611111</td>\n",
       "      <td>0.277778</td>\n",
       "    </tr>\n",
       "    <tr>\n",
       "      <th>59998</th>\n",
       "      <td>322.68550.csv</td>\n",
       "      <td>488.146192.csv</td>\n",
       "      <td>4</td>\n",
       "      <td>0.428571</td>\n",
       "      <td>0.000003</td>\n",
       "      <td>0.600000</td>\n",
       "      <td>0.000002</td>\n",
       "      <td>0.400000</td>\n",
       "      <td>0.000246</td>\n",
       "      <td>0.028571</td>\n",
       "      <td>...</td>\n",
       "      <td>0.335135</td>\n",
       "      <td>0.004572</td>\n",
       "      <td>0.471612</td>\n",
       "      <td>7.161210e-02</td>\n",
       "      <td>0.000029</td>\n",
       "      <td>0.250000</td>\n",
       "      <td>0.150000</td>\n",
       "      <td>0.000029</td>\n",
       "      <td>0.500000</td>\n",
       "      <td>0.100000</td>\n",
       "    </tr>\n",
       "    <tr>\n",
       "      <th>59999</th>\n",
       "      <td>422.109201.csv</td>\n",
       "      <td>422.141642.csv</td>\n",
       "      <td>21</td>\n",
       "      <td>0.359551</td>\n",
       "      <td>0.000009</td>\n",
       "      <td>0.581818</td>\n",
       "      <td>0.000003</td>\n",
       "      <td>0.111111</td>\n",
       "      <td>0.005207</td>\n",
       "      <td>0.248439</td>\n",
       "      <td>...</td>\n",
       "      <td>0.819621</td>\n",
       "      <td>0.011155</td>\n",
       "      <td>0.000000</td>\n",
       "      <td>1.111111e-01</td>\n",
       "      <td>0.000092</td>\n",
       "      <td>0.233333</td>\n",
       "      <td>0.122222</td>\n",
       "      <td>0.000092</td>\n",
       "      <td>0.518519</td>\n",
       "      <td>0.407407</td>\n",
       "    </tr>\n",
       "  </tbody>\n",
       "</table>\n",
       "<p>60000 rows × 54 columns</p>\n",
       "</div>"
      ],
      "text/plain": [
       "                 r_id            s_id  seeds      jsim  jsim_time    os_sim  \\\n",
       "0        198.7650.csv   198.97756.csv     88  0.583333   0.000004  0.736842   \n",
       "1       309.87528.csv   309.87529.csv      4  0.280000   0.000003  0.437500   \n",
       "2       124.35588.csv    574.6628.csv     70  0.439716   0.000014  0.639175   \n",
       "3       225.64426.csv  401.116864.csv     17  0.692308   0.000010  0.818182   \n",
       "4      441.155903.csv   618.72349.csv    110  0.487179   0.000007  0.791667   \n",
       "...               ...             ...    ...       ...        ...       ...   \n",
       "59995   245.13162.csv   377.69517.csv    842  0.875000   0.000009  0.933333   \n",
       "59996   392.26789.csv  447.114168.csv     84  0.491071   0.000014  0.687500   \n",
       "59997     382.160.csv   440.84900.csv     12  0.300000   0.000005  0.500000   \n",
       "59998   322.68550.csv  488.146192.csv      4  0.428571   0.000003  0.600000   \n",
       "59999  422.109201.csv  422.141642.csv     21  0.359551   0.000009  0.581818   \n",
       "\n",
       "       os_sim_time        a%  sloth_time   jsim_AE  ...  \\\n",
       "0         0.000001  0.215385    3.205166  0.367949  ...   \n",
       "1         0.000001  0.250000    0.000202  0.030000  ...   \n",
       "2         0.000004  0.105769    3.087128  0.333947  ...   \n",
       "3         0.000005  0.800000    0.000886  0.107692  ...   \n",
       "4         0.000003  0.281250    3.848327  0.205929  ...   \n",
       "...            ...       ...         ...       ...  ...   \n",
       "59995     0.000003  0.058065   11.562310  0.816935  ...   \n",
       "59996     0.000005  0.200000    3.126973  0.291071  ...   \n",
       "59997     0.000002  0.333333    0.000358  0.033333  ...   \n",
       "59998     0.000002  0.400000    0.000246  0.028571  ...   \n",
       "59999     0.000003  0.111111    0.005207  0.248439  ...   \n",
       "\n",
       "       roberta_tables_300_300_gittables_ae  armadillo_w_w_overlap_time  \\\n",
       "0                                 0.648531                    0.067274   \n",
       "1                                 0.525933                    0.005337   \n",
       "2                                 0.483635                    0.024487   \n",
       "3                                 0.163931                    0.005096   \n",
       "4                                 0.066290                    0.008869   \n",
       "...                                    ...                         ...   \n",
       "59995                             0.778597                    0.042901   \n",
       "59996                             0.672591                    0.018074   \n",
       "59997                             0.314179                    0.005303   \n",
       "59998                             0.335135                    0.004572   \n",
       "59999                             0.819621                    0.011155   \n",
       "\n",
       "       armadillo_w_w_overlap_pred  armadillo_w_w_ae  jaccard_bag_union_times  \\\n",
       "0                        0.121010      9.437431e-02                 0.000175   \n",
       "1                        0.420305      1.703054e-01                 0.000046   \n",
       "2                        0.014879      9.089013e-02                 0.000786   \n",
       "3                        0.642293      1.577067e-01                 0.000054   \n",
       "4                        0.160995      1.202551e-01                 0.000089   \n",
       "...                           ...               ...                      ...   \n",
       "59995                    0.058065      2.799015e-07                 0.001213   \n",
       "59996                    0.454348      2.543482e-01                 0.000394   \n",
       "59997                    0.680393      3.470599e-01                 0.000036   \n",
       "59998                    0.471612      7.161210e-02                 0.000029   \n",
       "59999                    0.000000      1.111111e-01                 0.000092   \n",
       "\n",
       "       jaccard_bag_union_predictions  jaccard_bag_union_ae  \\\n",
       "0                           0.246154              0.030769   \n",
       "1                           0.218750              0.031250   \n",
       "2                           0.235043              0.129274   \n",
       "3                           0.450000              0.350000   \n",
       "4                           0.180556              0.100694   \n",
       "...                              ...                   ...   \n",
       "59995                       0.446237              0.388172   \n",
       "59996                       0.235294              0.035294   \n",
       "59997                       0.261905              0.071429   \n",
       "59998                       0.250000              0.150000   \n",
       "59999                       0.233333              0.122222   \n",
       "\n",
       "       jaccard_bag_smaller_times  jaccard_bag_smaller_predictions  \\\n",
       "0                       0.000175                         0.492308   \n",
       "1                       0.000046                         0.437500   \n",
       "2                       0.000786                         0.528846   \n",
       "3                       0.000054                         0.900000   \n",
       "4                       0.000089                         0.406250   \n",
       "...                          ...                              ...   \n",
       "59995                   0.001213                         0.892473   \n",
       "59996                   0.000394                         0.533333   \n",
       "59997                   0.000036                         0.611111   \n",
       "59998                   0.000029                         0.500000   \n",
       "59999                   0.000092                         0.518519   \n",
       "\n",
       "       jaccard_bag_smaller_ae  \n",
       "0                    0.276923  \n",
       "1                    0.187500  \n",
       "2                    0.423077  \n",
       "3                    0.100000  \n",
       "4                    0.125000  \n",
       "...                       ...  \n",
       "59995                0.834409  \n",
       "59996                0.333333  \n",
       "59997                0.277778  \n",
       "59998                0.100000  \n",
       "59999                0.407407  \n",
       "\n",
       "[60000 rows x 54 columns]"
      ]
     },
     "execution_count": 6,
     "metadata": {},
     "output_type": "execute_result"
    }
   ],
   "source": [
    "df_w"
   ]
  },
  {
   "cell_type": "code",
   "execution_count": 7,
   "metadata": {},
   "outputs": [
    {
     "data": {
      "text/plain": [
       "68.01345495907884"
      ]
     },
     "execution_count": 7,
     "metadata": {},
     "output_type": "execute_result"
    }
   ],
   "source": [
    "(df_w['sloth_time']/df_w['armadillo_w_w_overlap_time']).mean()"
   ]
  },
  {
   "cell_type": "code",
   "execution_count": 8,
   "metadata": {},
   "outputs": [],
   "source": [
    "df_querying = pd.read_csv('/home/francesco.pugnaloni/armadillo_all/datasets/GitTables/table_querying/evaluation/table_querying_results.csv')"
   ]
  },
  {
   "cell_type": "code",
   "execution_count": 10,
   "metadata": {},
   "outputs": [
    {
     "data": {
      "text/html": [
       "<div>\n",
       "<style scoped>\n",
       "    .dataframe tbody tr th:only-of-type {\n",
       "        vertical-align: middle;\n",
       "    }\n",
       "\n",
       "    .dataframe tbody tr th {\n",
       "        vertical-align: top;\n",
       "    }\n",
       "\n",
       "    .dataframe thead th {\n",
       "        text-align: right;\n",
       "    }\n",
       "</style>\n",
       "<table border=\"1\" class=\"dataframe\">\n",
       "  <thead>\n",
       "    <tr style=\"text-align: right;\">\n",
       "      <th></th>\n",
       "      <th>r_id</th>\n",
       "      <th>r_w</th>\n",
       "      <th>r_h</th>\n",
       "      <th>r_a</th>\n",
       "      <th>s_id</th>\n",
       "      <th>s_w</th>\n",
       "      <th>s_h</th>\n",
       "      <th>s_a</th>\n",
       "      <th>jsim</th>\n",
       "      <th>jsim_time</th>\n",
       "      <th>...</th>\n",
       "      <th>armadillo_g_g_ae</th>\n",
       "      <th>jaccard_bag_union_times</th>\n",
       "      <th>jaccard_bag_union_predictions</th>\n",
       "      <th>jaccard_bag_union_ae</th>\n",
       "      <th>jaccard_bag_smaller_times</th>\n",
       "      <th>jaccard_bag_smaller_predictions</th>\n",
       "      <th>jaccard_bag_smaller_ae</th>\n",
       "      <th>turl_overlap_time</th>\n",
       "      <th>turl_overlap_pred</th>\n",
       "      <th>turl_ae</th>\n",
       "    </tr>\n",
       "  </thead>\n",
       "  <tbody>\n",
       "    <tr>\n",
       "      <th>0</th>\n",
       "      <td>show_time_csv_licensed.zip_P05-1013.annv3_16.csv</td>\n",
       "      <td>11</td>\n",
       "      <td>20</td>\n",
       "      <td>220</td>\n",
       "      <td>object_csv_licensed.zip_appidsvc.dll.csv__3865...</td>\n",
       "      <td>11</td>\n",
       "      <td>173</td>\n",
       "      <td>1903</td>\n",
       "      <td>0.000000</td>\n",
       "      <td>0.000016</td>\n",
       "      <td>...</td>\n",
       "      <td>0.299894</td>\n",
       "      <td>0.003324</td>\n",
       "      <td>0.000000</td>\n",
       "      <td>0.000000</td>\n",
       "      <td>0.003324</td>\n",
       "      <td>0.000000</td>\n",
       "      <td>0.000000e+00</td>\n",
       "      <td>0.238081</td>\n",
       "      <td>0.299331</td>\n",
       "      <td>0.299331</td>\n",
       "    </tr>\n",
       "    <tr>\n",
       "      <th>1</th>\n",
       "      <td>show_time_csv_licensed.zip_P05-1013.annv3_16.csv</td>\n",
       "      <td>11</td>\n",
       "      <td>20</td>\n",
       "      <td>220</td>\n",
       "      <td>then_csv_licensed.zip_FOXNEWS.201210.csv</td>\n",
       "      <td>2</td>\n",
       "      <td>101</td>\n",
       "      <td>202</td>\n",
       "      <td>0.000000</td>\n",
       "      <td>0.000014</td>\n",
       "      <td>...</td>\n",
       "      <td>0.290924</td>\n",
       "      <td>0.000451</td>\n",
       "      <td>0.000000</td>\n",
       "      <td>0.000000</td>\n",
       "      <td>0.000451</td>\n",
       "      <td>0.000000</td>\n",
       "      <td>0.000000e+00</td>\n",
       "      <td>0.261301</td>\n",
       "      <td>0.040405</td>\n",
       "      <td>0.040405</td>\n",
       "    </tr>\n",
       "    <tr>\n",
       "      <th>2</th>\n",
       "      <td>show_time_csv_licensed.zip_P05-1013.annv3_16.csv</td>\n",
       "      <td>11</td>\n",
       "      <td>20</td>\n",
       "      <td>220</td>\n",
       "      <td>id_csv_licensed.zip_0021700946_4.csv</td>\n",
       "      <td>32</td>\n",
       "      <td>20</td>\n",
       "      <td>640</td>\n",
       "      <td>0.012698</td>\n",
       "      <td>0.000015</td>\n",
       "      <td>...</td>\n",
       "      <td>0.002683</td>\n",
       "      <td>0.001277</td>\n",
       "      <td>0.004651</td>\n",
       "      <td>0.004440</td>\n",
       "      <td>0.001277</td>\n",
       "      <td>0.018182</td>\n",
       "      <td>9.090909e-03</td>\n",
       "      <td>0.156519</td>\n",
       "      <td>0.394702</td>\n",
       "      <td>0.385611</td>\n",
       "    </tr>\n",
       "    <tr>\n",
       "      <th>3</th>\n",
       "      <td>show_time_csv_licensed.zip_P05-1013.annv3_16.csv</td>\n",
       "      <td>11</td>\n",
       "      <td>20</td>\n",
       "      <td>220</td>\n",
       "      <td>seek_time_csv_licensed.zip_PL2331LAH2V01J.csv</td>\n",
       "      <td>19</td>\n",
       "      <td>83</td>\n",
       "      <td>1577</td>\n",
       "      <td>0.006645</td>\n",
       "      <td>0.000014</td>\n",
       "      <td>...</td>\n",
       "      <td>0.018367</td>\n",
       "      <td>0.002220</td>\n",
       "      <td>0.022816</td>\n",
       "      <td>0.159002</td>\n",
       "      <td>0.002220</td>\n",
       "      <td>0.186364</td>\n",
       "      <td>4.545455e-03</td>\n",
       "      <td>0.382741</td>\n",
       "      <td>0.406558</td>\n",
       "      <td>0.224740</td>\n",
       "    </tr>\n",
       "    <tr>\n",
       "      <th>4</th>\n",
       "      <td>show_time_csv_licensed.zip_P05-1013.annv3_16.csv</td>\n",
       "      <td>11</td>\n",
       "      <td>20</td>\n",
       "      <td>220</td>\n",
       "      <td>living_thing_csv_licensed.zip_mrswunschel.csv</td>\n",
       "      <td>6</td>\n",
       "      <td>206</td>\n",
       "      <td>1236</td>\n",
       "      <td>0.023041</td>\n",
       "      <td>0.000040</td>\n",
       "      <td>...</td>\n",
       "      <td>0.090909</td>\n",
       "      <td>0.002141</td>\n",
       "      <td>0.013736</td>\n",
       "      <td>0.077173</td>\n",
       "      <td>0.002141</td>\n",
       "      <td>0.090909</td>\n",
       "      <td>1.387779e-17</td>\n",
       "      <td>0.452383</td>\n",
       "      <td>0.035425</td>\n",
       "      <td>0.055484</td>\n",
       "    </tr>\n",
       "    <tr>\n",
       "      <th>...</th>\n",
       "      <td>...</td>\n",
       "      <td>...</td>\n",
       "      <td>...</td>\n",
       "      <td>...</td>\n",
       "      <td>...</td>\n",
       "      <td>...</td>\n",
       "      <td>...</td>\n",
       "      <td>...</td>\n",
       "      <td>...</td>\n",
       "      <td>...</td>\n",
       "      <td>...</td>\n",
       "      <td>...</td>\n",
       "      <td>...</td>\n",
       "      <td>...</td>\n",
       "      <td>...</td>\n",
       "      <td>...</td>\n",
       "      <td>...</td>\n",
       "      <td>...</td>\n",
       "      <td>...</td>\n",
       "      <td>...</td>\n",
       "      <td>...</td>\n",
       "    </tr>\n",
       "    <tr>\n",
       "      <th>999995</th>\n",
       "      <td>data_rate_csv_licensed.zip_A00-2018_akanksha_1...</td>\n",
       "      <td>11</td>\n",
       "      <td>15</td>\n",
       "      <td>165</td>\n",
       "      <td>seek_time_csv_licensed.zip_PL1331LAHBZYEH.csv</td>\n",
       "      <td>19</td>\n",
       "      <td>21</td>\n",
       "      <td>399</td>\n",
       "      <td>0.016000</td>\n",
       "      <td>0.000006</td>\n",
       "      <td>...</td>\n",
       "      <td>0.055420</td>\n",
       "      <td>0.000471</td>\n",
       "      <td>0.056738</td>\n",
       "      <td>0.125081</td>\n",
       "      <td>0.000471</td>\n",
       "      <td>0.193939</td>\n",
       "      <td>1.212121e-02</td>\n",
       "      <td>0.110958</td>\n",
       "      <td>0.603798</td>\n",
       "      <td>0.421980</td>\n",
       "    </tr>\n",
       "    <tr>\n",
       "      <th>999996</th>\n",
       "      <td>data_rate_csv_licensed.zip_A00-2018_akanksha_1...</td>\n",
       "      <td>11</td>\n",
       "      <td>15</td>\n",
       "      <td>165</td>\n",
       "      <td>object_csv_licensed.zip_metadata-info_58.csv</td>\n",
       "      <td>8</td>\n",
       "      <td>18</td>\n",
       "      <td>144</td>\n",
       "      <td>0.000000</td>\n",
       "      <td>0.000009</td>\n",
       "      <td>...</td>\n",
       "      <td>0.000191</td>\n",
       "      <td>0.000273</td>\n",
       "      <td>0.000000</td>\n",
       "      <td>0.000000</td>\n",
       "      <td>0.000273</td>\n",
       "      <td>0.000000</td>\n",
       "      <td>0.000000e+00</td>\n",
       "      <td>0.111897</td>\n",
       "      <td>0.339280</td>\n",
       "      <td>0.339280</td>\n",
       "    </tr>\n",
       "    <tr>\n",
       "      <th>999997</th>\n",
       "      <td>data_rate_csv_licensed.zip_A00-2018_akanksha_1...</td>\n",
       "      <td>11</td>\n",
       "      <td>15</td>\n",
       "      <td>165</td>\n",
       "      <td>speed_of_light_csv_licensed.zip_weather-2015-0...</td>\n",
       "      <td>14</td>\n",
       "      <td>32</td>\n",
       "      <td>448</td>\n",
       "      <td>0.004484</td>\n",
       "      <td>0.000009</td>\n",
       "      <td>...</td>\n",
       "      <td>0.072727</td>\n",
       "      <td>0.000716</td>\n",
       "      <td>0.019576</td>\n",
       "      <td>0.053151</td>\n",
       "      <td>0.000716</td>\n",
       "      <td>0.072727</td>\n",
       "      <td>2.775558e-17</td>\n",
       "      <td>0.131215</td>\n",
       "      <td>0.397475</td>\n",
       "      <td>0.324747</td>\n",
       "    </tr>\n",
       "    <tr>\n",
       "      <th>999998</th>\n",
       "      <td>data_rate_csv_licensed.zip_A00-2018_akanksha_1...</td>\n",
       "      <td>11</td>\n",
       "      <td>15</td>\n",
       "      <td>165</td>\n",
       "      <td>object_csv_licensed.zip_alg.exe.csv__417245484...</td>\n",
       "      <td>11</td>\n",
       "      <td>110</td>\n",
       "      <td>1210</td>\n",
       "      <td>0.004587</td>\n",
       "      <td>0.000010</td>\n",
       "      <td>...</td>\n",
       "      <td>0.028088</td>\n",
       "      <td>0.001559</td>\n",
       "      <td>0.000727</td>\n",
       "      <td>0.005333</td>\n",
       "      <td>0.001559</td>\n",
       "      <td>0.006061</td>\n",
       "      <td>6.071532e-17</td>\n",
       "      <td>0.141144</td>\n",
       "      <td>0.503190</td>\n",
       "      <td>0.497130</td>\n",
       "    </tr>\n",
       "    <tr>\n",
       "      <th>999999</th>\n",
       "      <td>data_rate_csv_licensed.zip_A00-2018_akanksha_1...</td>\n",
       "      <td>11</td>\n",
       "      <td>15</td>\n",
       "      <td>165</td>\n",
       "      <td>data_rate_csv_licensed.zip_14-15_32.csv</td>\n",
       "      <td>11</td>\n",
       "      <td>55</td>\n",
       "      <td>605</td>\n",
       "      <td>0.011561</td>\n",
       "      <td>0.000014</td>\n",
       "      <td>...</td>\n",
       "      <td>0.129313</td>\n",
       "      <td>0.000860</td>\n",
       "      <td>0.044156</td>\n",
       "      <td>0.137662</td>\n",
       "      <td>0.000860</td>\n",
       "      <td>0.206061</td>\n",
       "      <td>2.424242e-02</td>\n",
       "      <td>0.288799</td>\n",
       "      <td>0.645438</td>\n",
       "      <td>0.463620</td>\n",
       "    </tr>\n",
       "  </tbody>\n",
       "</table>\n",
       "<p>1000000 rows × 43 columns</p>\n",
       "</div>"
      ],
      "text/plain": [
       "                                                     r_id  r_w  r_h  r_a  \\\n",
       "0        show_time_csv_licensed.zip_P05-1013.annv3_16.csv   11   20  220   \n",
       "1        show_time_csv_licensed.zip_P05-1013.annv3_16.csv   11   20  220   \n",
       "2        show_time_csv_licensed.zip_P05-1013.annv3_16.csv   11   20  220   \n",
       "3        show_time_csv_licensed.zip_P05-1013.annv3_16.csv   11   20  220   \n",
       "4        show_time_csv_licensed.zip_P05-1013.annv3_16.csv   11   20  220   \n",
       "...                                                   ...  ...  ...  ...   \n",
       "999995  data_rate_csv_licensed.zip_A00-2018_akanksha_1...   11   15  165   \n",
       "999996  data_rate_csv_licensed.zip_A00-2018_akanksha_1...   11   15  165   \n",
       "999997  data_rate_csv_licensed.zip_A00-2018_akanksha_1...   11   15  165   \n",
       "999998  data_rate_csv_licensed.zip_A00-2018_akanksha_1...   11   15  165   \n",
       "999999  data_rate_csv_licensed.zip_A00-2018_akanksha_1...   11   15  165   \n",
       "\n",
       "                                                     s_id  s_w  s_h   s_a  \\\n",
       "0       object_csv_licensed.zip_appidsvc.dll.csv__3865...   11  173  1903   \n",
       "1                then_csv_licensed.zip_FOXNEWS.201210.csv    2  101   202   \n",
       "2                    id_csv_licensed.zip_0021700946_4.csv   32   20   640   \n",
       "3           seek_time_csv_licensed.zip_PL2331LAH2V01J.csv   19   83  1577   \n",
       "4           living_thing_csv_licensed.zip_mrswunschel.csv    6  206  1236   \n",
       "...                                                   ...  ...  ...   ...   \n",
       "999995      seek_time_csv_licensed.zip_PL1331LAHBZYEH.csv   19   21   399   \n",
       "999996       object_csv_licensed.zip_metadata-info_58.csv    8   18   144   \n",
       "999997  speed_of_light_csv_licensed.zip_weather-2015-0...   14   32   448   \n",
       "999998  object_csv_licensed.zip_alg.exe.csv__417245484...   11  110  1210   \n",
       "999999            data_rate_csv_licensed.zip_14-15_32.csv   11   55   605   \n",
       "\n",
       "            jsim  jsim_time  ...  armadillo_g_g_ae  jaccard_bag_union_times  \\\n",
       "0       0.000000   0.000016  ...          0.299894                 0.003324   \n",
       "1       0.000000   0.000014  ...          0.290924                 0.000451   \n",
       "2       0.012698   0.000015  ...          0.002683                 0.001277   \n",
       "3       0.006645   0.000014  ...          0.018367                 0.002220   \n",
       "4       0.023041   0.000040  ...          0.090909                 0.002141   \n",
       "...          ...        ...  ...               ...                      ...   \n",
       "999995  0.016000   0.000006  ...          0.055420                 0.000471   \n",
       "999996  0.000000   0.000009  ...          0.000191                 0.000273   \n",
       "999997  0.004484   0.000009  ...          0.072727                 0.000716   \n",
       "999998  0.004587   0.000010  ...          0.028088                 0.001559   \n",
       "999999  0.011561   0.000014  ...          0.129313                 0.000860   \n",
       "\n",
       "        jaccard_bag_union_predictions jaccard_bag_union_ae  \\\n",
       "0                            0.000000             0.000000   \n",
       "1                            0.000000             0.000000   \n",
       "2                            0.004651             0.004440   \n",
       "3                            0.022816             0.159002   \n",
       "4                            0.013736             0.077173   \n",
       "...                               ...                  ...   \n",
       "999995                       0.056738             0.125081   \n",
       "999996                       0.000000             0.000000   \n",
       "999997                       0.019576             0.053151   \n",
       "999998                       0.000727             0.005333   \n",
       "999999                       0.044156             0.137662   \n",
       "\n",
       "        jaccard_bag_smaller_times  jaccard_bag_smaller_predictions  \\\n",
       "0                        0.003324                         0.000000   \n",
       "1                        0.000451                         0.000000   \n",
       "2                        0.001277                         0.018182   \n",
       "3                        0.002220                         0.186364   \n",
       "4                        0.002141                         0.090909   \n",
       "...                           ...                              ...   \n",
       "999995                   0.000471                         0.193939   \n",
       "999996                   0.000273                         0.000000   \n",
       "999997                   0.000716                         0.072727   \n",
       "999998                   0.001559                         0.006061   \n",
       "999999                   0.000860                         0.206061   \n",
       "\n",
       "        jaccard_bag_smaller_ae  turl_overlap_time  turl_overlap_pred   turl_ae  \n",
       "0                 0.000000e+00           0.238081           0.299331  0.299331  \n",
       "1                 0.000000e+00           0.261301           0.040405  0.040405  \n",
       "2                 9.090909e-03           0.156519           0.394702  0.385611  \n",
       "3                 4.545455e-03           0.382741           0.406558  0.224740  \n",
       "4                 1.387779e-17           0.452383           0.035425  0.055484  \n",
       "...                        ...                ...                ...       ...  \n",
       "999995            1.212121e-02           0.110958           0.603798  0.421980  \n",
       "999996            0.000000e+00           0.111897           0.339280  0.339280  \n",
       "999997            2.775558e-17           0.131215           0.397475  0.324747  \n",
       "999998            6.071532e-17           0.141144           0.503190  0.497130  \n",
       "999999            2.424242e-02           0.288799           0.645438  0.463620  \n",
       "\n",
       "[1000000 rows x 43 columns]"
      ]
     },
     "execution_count": 10,
     "metadata": {},
     "output_type": "execute_result"
    }
   ],
   "source": [
    "df_querying"
   ]
  },
  {
   "cell_type": "code",
   "execution_count": 11,
   "metadata": {},
   "outputs": [
    {
     "data": {
      "text/plain": [
       "6.560420309681394"
      ]
     },
     "execution_count": 11,
     "metadata": {},
     "output_type": "execute_result"
    }
   ],
   "source": [
    "(df_querying['total_time']/df_querying['armadillo_g_g_overlap_time']).mean()"
   ]
  },
  {
   "cell_type": "code",
   "execution_count": 12,
   "metadata": {},
   "outputs": [
    {
     "data": {
      "text/plain": [
       "616215.2601864338"
      ]
     },
     "execution_count": 12,
     "metadata": {},
     "output_type": "execute_result"
    }
   ],
   "source": [
    "df_querying['total_time'].sum()"
   ]
  },
  {
   "cell_type": "code",
   "execution_count": 6,
   "metadata": {},
   "outputs": [],
   "source": [
    "import pickle"
   ]
  },
  {
   "cell_type": "code",
   "execution_count": 7,
   "metadata": {},
   "outputs": [
    {
     "ename": "FileNotFoundError",
     "evalue": "[Errno 2] No such file or directory: ''",
     "output_type": "error",
     "traceback": [
      "\u001b[0;31m---------------------------------------------------------------------------\u001b[0m",
      "\u001b[0;31mFileNotFoundError\u001b[0m                         Traceback (most recent call last)",
      "Cell \u001b[0;32mIn[7], line 1\u001b[0m\n\u001b[0;32m----> 1\u001b[0m \u001b[38;5;28;01mwith\u001b[39;00m \u001b[38;5;28;43mopen\u001b[39;49m\u001b[43m(\u001b[49m\u001b[38;5;124;43m'\u001b[39;49m\u001b[38;5;124;43m'\u001b[39;49m\u001b[43m,\u001b[49m\u001b[38;5;124;43m'\u001b[39;49m\u001b[38;5;124;43mrb\u001b[39;49m\u001b[38;5;124;43m'\u001b[39;49m\u001b[43m)\u001b[49m \u001b[38;5;28;01mas\u001b[39;00m f:\n\u001b[1;32m      2\u001b[0m     ed \u001b[38;5;241m=\u001b[39m pickle\u001b[38;5;241m.\u001b[39mload(f)\n",
      "File \u001b[0;32m~/miniconda3/envs/GNNTE/lib/python3.11/site-packages/IPython/core/interactiveshell.py:310\u001b[0m, in \u001b[0;36m_modified_open\u001b[0;34m(file, *args, **kwargs)\u001b[0m\n\u001b[1;32m    303\u001b[0m \u001b[38;5;28;01mif\u001b[39;00m file \u001b[38;5;129;01min\u001b[39;00m {\u001b[38;5;241m0\u001b[39m, \u001b[38;5;241m1\u001b[39m, \u001b[38;5;241m2\u001b[39m}:\n\u001b[1;32m    304\u001b[0m     \u001b[38;5;28;01mraise\u001b[39;00m \u001b[38;5;167;01mValueError\u001b[39;00m(\n\u001b[1;32m    305\u001b[0m         \u001b[38;5;124mf\u001b[39m\u001b[38;5;124m\"\u001b[39m\u001b[38;5;124mIPython won\u001b[39m\u001b[38;5;124m'\u001b[39m\u001b[38;5;124mt let you open fd=\u001b[39m\u001b[38;5;132;01m{\u001b[39;00mfile\u001b[38;5;132;01m}\u001b[39;00m\u001b[38;5;124m by default \u001b[39m\u001b[38;5;124m\"\u001b[39m\n\u001b[1;32m    306\u001b[0m         \u001b[38;5;124m\"\u001b[39m\u001b[38;5;124mas it is likely to crash IPython. If you know what you are doing, \u001b[39m\u001b[38;5;124m\"\u001b[39m\n\u001b[1;32m    307\u001b[0m         \u001b[38;5;124m\"\u001b[39m\u001b[38;5;124myou can use builtins\u001b[39m\u001b[38;5;124m'\u001b[39m\u001b[38;5;124m open.\u001b[39m\u001b[38;5;124m\"\u001b[39m\n\u001b[1;32m    308\u001b[0m     )\n\u001b[0;32m--> 310\u001b[0m \u001b[38;5;28;01mreturn\u001b[39;00m \u001b[43mio_open\u001b[49m\u001b[43m(\u001b[49m\u001b[43mfile\u001b[49m\u001b[43m,\u001b[49m\u001b[43m \u001b[49m\u001b[38;5;241;43m*\u001b[39;49m\u001b[43margs\u001b[49m\u001b[43m,\u001b[49m\u001b[43m \u001b[49m\u001b[38;5;241;43m*\u001b[39;49m\u001b[38;5;241;43m*\u001b[39;49m\u001b[43mkwargs\u001b[49m\u001b[43m)\u001b[49m\n",
      "\u001b[0;31mFileNotFoundError\u001b[0m: [Errno 2] No such file or directory: ''"
     ]
    }
   ],
   "source": [
    "with open('','rb') as f:\n",
    "    ed = pickle.load(f)"
   ]
  },
  {
   "cell_type": "code",
   "execution_count": null,
   "metadata": {},
   "outputs": [],
   "source": []
  }
 ],
 "metadata": {
  "kernelspec": {
   "display_name": "GNNTE",
   "language": "python",
   "name": "python3"
  },
  "language_info": {
   "codemirror_mode": {
    "name": "ipython",
    "version": 3
   },
   "file_extension": ".py",
   "mimetype": "text/x-python",
   "name": "python",
   "nbconvert_exporter": "python",
   "pygments_lexer": "ipython3",
   "version": "3.11.3"
  }
 },
 "nbformat": 4,
 "nbformat_minor": 2
}
