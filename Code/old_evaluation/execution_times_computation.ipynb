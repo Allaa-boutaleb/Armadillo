{
 "cells": [
  {
   "cell_type": "code",
   "execution_count": null,
   "metadata": {},
   "outputs": [],
   "source": [
    "root = ''"
   ]
  },
  {
   "cell_type": "markdown",
   "metadata": {},
   "source": [
    "# Sloth"
   ]
  },
  {
   "cell_type": "code",
   "execution_count": null,
   "metadata": {},
   "outputs": [],
   "source": [
    "import pandas as pd\n",
    "from tqdm import tqdm\n",
    "test_git = pd.read_csv(root+'/GitTables/test.csv')\n",
    "sloth_inference_time_git = test_git['total_time'].sum()\n",
    "print(f'Inference time sloth git: {sloth_inference_time_git}s')"
   ]
  },
  {
   "cell_type": "code",
   "execution_count": null,
   "metadata": {},
   "outputs": [],
   "source": [
    "test_wiki = pd.read_csv(root+'/WikiTables/test.csv')\n",
    "sloth_inference_time_wiki = test_wiki['sloth_time'].sum()\n",
    "print(f'Inference time sloth wiki: {sloth_inference_time_wiki}s')"
   ]
  },
  {
   "cell_type": "markdown",
   "metadata": {},
   "source": [
    "# Jaccard"
   ]
  },
  {
   "cell_type": "code",
   "execution_count": null,
   "metadata": {},
   "outputs": [],
   "source": [
    "test_git.head(2)"
   ]
  },
  {
   "cell_type": "code",
   "execution_count": null,
   "metadata": {},
   "outputs": [],
   "source": [
    "test_git['jsim_time'].sum()"
   ]
  },
  {
   "cell_type": "code",
   "execution_count": null,
   "metadata": {},
   "outputs": [],
   "source": [
    "test_wiki['jsim_time'].sum()"
   ]
  },
  {
   "cell_type": "code",
   "execution_count": 13,
   "metadata": {},
   "outputs": [],
   "source": [
    "test_git['ae_jsim'] = abs(test_git['jsim'] - test_git['a%'])"
   ]
  },
  {
   "cell_type": "code",
   "execution_count": null,
   "metadata": {},
   "outputs": [],
   "source": [
    "test_git['ae_jsim'].mean()"
   ]
  },
  {
   "cell_type": "markdown",
   "metadata": {},
   "source": [
    "# EmbDI"
   ]
  },
  {
   "cell_type": "code",
   "execution_count": 6,
   "metadata": {},
   "outputs": [],
   "source": [
    "import pickle\n",
    "import pandas as pd"
   ]
  },
  {
   "cell_type": "code",
   "execution_count": 7,
   "metadata": {},
   "outputs": [],
   "source": [
    "with open(root+'/WikiTables/dictionaries/embedding_dictionaries/t_execs_embdi.pkl', 'rb') as f:\n",
    "    tembdi = pickle.load(f)"
   ]
  },
  {
   "cell_type": "code",
   "execution_count": null,
   "metadata": {},
   "outputs": [],
   "source": [
    "total_time = 0\n",
    "for r in tqdm(range(test_wiki.shape[0])):\n",
    "    r_id = test_wiki.iloc[r].loc['r_id']\n",
    "    s_id = test_wiki.iloc[r].loc['s_id']\n",
    "    total_time += tembdi[f'{r_id}|{s_id}']\n",
    "total_time"
   ]
  },
  {
   "cell_type": "markdown",
   "metadata": {},
   "source": [
    "# TURL-T-W"
   ]
  },
  {
   "cell_type": "code",
   "execution_count": 23,
   "metadata": {},
   "outputs": [],
   "source": [
    "with open(root+'/WikiTables/dictionaries/embedding_dictionaries/t_execs_turl_tables_300_300_wikilast.pkl', 'rb') as f:\n",
    "    tturl = pickle.load(f)"
   ]
  },
  {
   "cell_type": "code",
   "execution_count": 9,
   "metadata": {},
   "outputs": [],
   "source": [
    "import pickle\n",
    "import pandas as pd\n",
    "\n",
    "def get_emb_time(df, times):\n",
    "    if isinstance(times, str):\n",
    "        with open(times, 'rb') as f:\n",
    "            times = pickle.load(f)\n",
    "    if isinstance(df,str):\n",
    "        df = pd.read_csv(df)\n",
    "    total_time = 0\n",
    "    for r in tqdm(range(df.shape[0])):\n",
    "        r_id = df.iloc[r].loc['r_id']\n",
    "        s_id = df.iloc[r].loc['s_id']\n",
    "        total_time += times[r_id]\n",
    "        total_time += times[s_id]\n",
    "    return total_time"
   ]
  },
  {
   "cell_type": "code",
   "execution_count": null,
   "metadata": {},
   "outputs": [],
   "source": [
    "get_emb_time(test_wiki, tturl)"
   ]
  },
  {
   "cell_type": "markdown",
   "metadata": {},
   "source": [
    "# BERT-R-G"
   ]
  },
  {
   "cell_type": "code",
   "execution_count": null,
   "metadata": {},
   "outputs": [],
   "source": [
    "get_emb_time(root+'/GitTables/test.csv', root+'/GitTables/dictionaries/embedding_dictionaries/t_execs_bert_rows_300_300_gittables.pkl')"
   ]
  },
  {
   "cell_type": "markdown",
   "metadata": {},
   "source": [
    "# BERT-R-W"
   ]
  },
  {
   "cell_type": "code",
   "execution_count": null,
   "metadata": {},
   "outputs": [],
   "source": [
    "get_emb_time(root+'/WikiTables/test.csv', root+'/WikiTables/dictionaries/embedding_dictionaries/t_execs_bert_rows_300_300_wikilast.pkl')"
   ]
  },
  {
   "cell_type": "markdown",
   "metadata": {},
   "source": [
    "# BERT-T-G"
   ]
  },
  {
   "cell_type": "code",
   "execution_count": null,
   "metadata": {},
   "outputs": [],
   "source": [
    "# Git\n",
    "get_emb_time(root+'/GitTables/test.csv', root+'/GitTables/dictionaries/embedding_dictionaries/t_execs_bert_tables_300_300_gittables.pkl')"
   ]
  },
  {
   "cell_type": "code",
   "execution_count": null,
   "metadata": {},
   "outputs": [],
   "source": [
    "# Wiki\n",
    "get_emb_time(root+'/WikiTables/test.csv', root+'/WikiTables/dictionaries/embedding_dictionaries/t_execs_bert_tables_300_300_wikilast.pkl')"
   ]
  },
  {
   "cell_type": "markdown",
   "metadata": {},
   "source": [
    "# BERT-T-W"
   ]
  },
  {
   "cell_type": "code",
   "execution_count": null,
   "metadata": {},
   "outputs": [],
   "source": [
    "# Wiki\n",
    "get_emb_time(root+'/WikiTables/test.csv', root+'/WikiTables/dictionaries/embedding_dictionaries/t_execs_bert_tables_300_300_wikilast.pkl')"
   ]
  },
  {
   "cell_type": "markdown",
   "metadata": {},
   "source": [
    "# BERT-T-N-W"
   ]
  },
  {
   "cell_type": "code",
   "execution_count": null,
   "metadata": {},
   "outputs": [],
   "source": [
    "# Wiki\n",
    "get_emb_time(root+'/WikiTables/test.csv', root+'/WikiTables/dictionaries/embedding_dictionaries/t_execs_bert_tables_anon_300_300_wikilast.pkl')"
   ]
  },
  {
   "cell_type": "markdown",
   "metadata": {},
   "source": [
    "# RoBERTa-R-G"
   ]
  },
  {
   "cell_type": "code",
   "execution_count": null,
   "metadata": {},
   "outputs": [],
   "source": [
    "get_emb_time(root+'/GitTables/test.csv', root+'/GitTables/dictionaries/embedding_dictionaries/t_execs_roberta_rows_300_300_gittables.pkl')"
   ]
  },
  {
   "cell_type": "markdown",
   "metadata": {},
   "source": [
    "# RoBERTa-R-W"
   ]
  },
  {
   "cell_type": "code",
   "execution_count": null,
   "metadata": {},
   "outputs": [],
   "source": [
    "get_emb_time(root+'/WikiTables/test.csv', root+'/WikiTables/dictionaries/embedding_dictionaries/t_execs_roberta_rows_300_300_wikilast.pkl')"
   ]
  },
  {
   "cell_type": "markdown",
   "metadata": {},
   "source": [
    "# RoBERTa-T-G"
   ]
  },
  {
   "cell_type": "code",
   "execution_count": null,
   "metadata": {},
   "outputs": [],
   "source": [
    "get_emb_time(root+'/GitTables/test.csv', root+'/GitTables/dictionaries/embedding_dictionaries/t_execs_roberta_tables_300_300_gittables.pkl')"
   ]
  },
  {
   "cell_type": "markdown",
   "metadata": {},
   "source": [
    "# RoBERTa-T-W"
   ]
  },
  {
   "cell_type": "code",
   "execution_count": null,
   "metadata": {},
   "outputs": [],
   "source": [
    "get_emb_time(root+'/WikiTables/test.csv', root+'/WikiTables/dictionaries/embedding_dictionaries/t_execs_roberta_tables_300_300_wikilast.pkl')"
   ]
  },
  {
   "cell_type": "markdown",
   "metadata": {},
   "source": [
    "# RoBERTa-T-N-W"
   ]
  },
  {
   "cell_type": "code",
   "execution_count": null,
   "metadata": {},
   "outputs": [],
   "source": [
    "get_emb_time(root+'/WikiTables/test.csv', root+'/WikiTables/dictionaries/embedding_dictionaries/t_execs_roberta_tables_anon_300_300_wikilast.pkl')"
   ]
  },
  {
   "cell_type": "markdown",
   "metadata": {},
   "source": [
    "# TURL-T-G"
   ]
  },
  {
   "cell_type": "code",
   "execution_count": null,
   "metadata": {},
   "outputs": [],
   "source": [
    "input = pd.read_csv(root+'/GitTables/test.csv')\n",
    "with open(root+'/GitTables/dictionaries/embedding_dictionaries/t_execs_turl_tables_300_300_gittables.pkl','rb') as f:\n",
    "    embedding_dictionary = pickle.load(f)\n",
    "to_drop = []\n",
    "for r in tqdm(range(input.shape[0])):\n",
    "    if (embedding_dictionary[input.iloc[r].loc['r_id']] == None) or (embedding_dictionary[input.iloc[r].loc['s_id']] == None):\n",
    "        to_drop.append(r)\n",
    "input = input.drop(index=to_drop)\n",
    "get_emb_time(input,embedding_dictionary)"
   ]
  },
  {
   "cell_type": "markdown",
   "metadata": {},
   "source": [
    "# Inference times"
   ]
  },
  {
   "cell_type": "code",
   "execution_count": 1,
   "metadata": {},
   "outputs": [],
   "source": [
    "import pickle\n",
    "with open(root+'/times_baselines_inference.pkl','rb') as f:\n",
    "    inf_times = pickle.load(f)"
   ]
  },
  {
   "cell_type": "code",
   "execution_count": null,
   "metadata": {},
   "outputs": [],
   "source": [
    "inf_times.keys()"
   ]
  },
  {
   "cell_type": "code",
   "execution_count": null,
   "metadata": {},
   "outputs": [],
   "source": [
    "inf_times['embdi_on_wiki']"
   ]
  },
  {
   "cell_type": "code",
   "execution_count": null,
   "metadata": {},
   "outputs": [],
   "source": [
    "inf_times['turl_t_w_on_wiki']"
   ]
  },
  {
   "cell_type": "code",
   "execution_count": null,
   "metadata": {},
   "outputs": [],
   "source": [
    "inf_times['bert_r_g_on_git']"
   ]
  },
  {
   "cell_type": "code",
   "execution_count": null,
   "metadata": {},
   "outputs": [],
   "source": [
    "inf_times['bert_r_w_on_wiki']"
   ]
  },
  {
   "cell_type": "code",
   "execution_count": null,
   "metadata": {},
   "outputs": [],
   "source": [
    "inf_times['bert_t_g_on_git']"
   ]
  },
  {
   "cell_type": "code",
   "execution_count": null,
   "metadata": {},
   "outputs": [],
   "source": [
    "inf_times['bert_t_g_on_wiki']"
   ]
  },
  {
   "cell_type": "code",
   "execution_count": null,
   "metadata": {},
   "outputs": [],
   "source": [
    "inf_times['bert_t_w_on_wiki']"
   ]
  },
  {
   "cell_type": "code",
   "execution_count": null,
   "metadata": {},
   "outputs": [],
   "source": [
    "inf_times['bert_t_w_on_git']"
   ]
  },
  {
   "cell_type": "code",
   "execution_count": null,
   "metadata": {},
   "outputs": [],
   "source": [
    "inf_times['bert_t_n_w_on_wiki']"
   ]
  },
  {
   "cell_type": "code",
   "execution_count": null,
   "metadata": {},
   "outputs": [],
   "source": [
    "inf_times['roberta_r_g_on_git']"
   ]
  },
  {
   "cell_type": "code",
   "execution_count": null,
   "metadata": {},
   "outputs": [],
   "source": [
    "inf_times['roberta_r_w_on_wiki']"
   ]
  },
  {
   "cell_type": "code",
   "execution_count": null,
   "metadata": {},
   "outputs": [],
   "source": [
    "inf_times['roberta_t_g_on_git']"
   ]
  },
  {
   "cell_type": "code",
   "execution_count": null,
   "metadata": {},
   "outputs": [],
   "source": [
    "inf_times['roberta_t_g_on_wiki']"
   ]
  },
  {
   "cell_type": "code",
   "execution_count": null,
   "metadata": {},
   "outputs": [],
   "source": [
    "inf_times['roberta_t_w_on_wiki']"
   ]
  },
  {
   "cell_type": "code",
   "execution_count": null,
   "metadata": {},
   "outputs": [],
   "source": [
    "inf_times['roberta_t_w_on_git']"
   ]
  },
  {
   "cell_type": "code",
   "execution_count": null,
   "metadata": {},
   "outputs": [],
   "source": [
    "inf_times['roberta_t_n_w_on_wiki']"
   ]
  }
 ],
 "metadata": {
  "kernelspec": {
   "display_name": "GNNTE",
   "language": "python",
   "name": "python3"
  },
  "language_info": {
   "codemirror_mode": {
    "name": "ipython",
    "version": 3
   },
   "file_extension": ".py",
   "mimetype": "text/x-python",
   "name": "python",
   "nbconvert_exporter": "python",
   "pygments_lexer": "ipython3",
   "version": "3.11.3"
  }
 },
 "nbformat": 4,
 "nbformat_minor": 2
}
