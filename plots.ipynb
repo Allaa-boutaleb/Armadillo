{
 "cells": [
  {
   "cell_type": "code",
   "execution_count": 8,
   "metadata": {},
   "outputs": [],
   "source": [
    "RESULTS_PATH_WIKI =  ''\n",
    "PDF_DIR = ''\n",
    "RESULTS_PATH_GIT = ''\n",
    "root_wiki = ''\n",
    "root_git = ''"
   ]
  },
  {
   "cell_type": "markdown",
   "metadata": {},
   "source": [
    "# Absolute Error (AE) box plots"
   ]
  },
  {
   "cell_type": "code",
   "execution_count": 9,
   "metadata": {},
   "outputs": [],
   "source": [
    "import pandas as pd\n",
    "import matplotlib.pyplot as plt\n",
    "def plot_box_group(df: pd.DataFrame | str, label_dict: dict, y_lim=(-0.01,1), label_y: str='AE', out_pdf: str=None, FONTSIZE:int=14, fig_size=(8,6)) -> None:\n",
    "    if isinstance(df, str):\n",
    "        df = pd.read_csv(df)\n",
    "    plt.figure(figsize=fig_size)\n",
    "    plt.ylim(y_lim[0],y_lim[1])\n",
    "    plt.rcParams.update({'font.size': FONTSIZE})\n",
    "    old_col_names = list(label_dict.keys())\n",
    "    new_df = pd.DataFrame({label_dict[k]:df[k] for k in old_col_names})\n",
    "    ax = new_df.boxplot(showfliers=False, whis=[0, 100], fontsize=FONTSIZE,showmeans=True, meanline=True, medianprops=dict(color='black'), boxprops=dict(color='black'), whiskerprops=dict(color='black'))    \n",
    "    \n",
    "    means = new_df.mean()\n",
    "    for i, mean in enumerate(means):\n",
    "        ax.text(i + 1, mean, f'{mean:.3f}', ha='center', va='bottom', color='green')\n",
    "\n",
    "    # plt.xlabel('Approach', fontsize=FONTSIZE)\n",
    "    plt.ylabel(label_y, fontsize=FONTSIZE)\n",
    "    \n",
    "    plt.grid(False)\n",
    "\n",
    "    plt.tick_params(left = True) \n",
    "    if isinstance(out_pdf, str):\n",
    "        plt.tight_layout()\n",
    "        plt.savefig(out_pdf, format=\"pdf\")#, bbox_inches=\"tight\")\n",
    "    plt.show()"
   ]
  },
  {
   "cell_type": "code",
   "execution_count": 10,
   "metadata": {},
   "outputs": [],
   "source": [
    "runtimes_wikitables = pd.read_csv(RESULTS_PATH_WIKI)\n",
    "runtimes_gittables = pd.read_csv(RESULTS_PATH_GIT)\n",
    "runtimes_gittables['jsim_AE'] = abs(runtimes_gittables['jsim'] - runtimes_gittables['a%'])"
   ]
  },
  {
   "cell_type": "code",
   "execution_count": null,
   "metadata": {},
   "outputs": [],
   "source": [
    "import pickle\n",
    "evaluation_path_raw = ''\n",
    "with open('', 'rb') as f:\n",
    "    re_eval_armadillo_wiki = pickle.load(f)\n",
    "re_eval_armadillo_wiki"
   ]
  },
  {
   "cell_type": "code",
   "execution_count": 79,
   "metadata": {},
   "outputs": [],
   "source": [
    "new_overlaps = re_eval_armadillo_wiki['predictions']\n",
    "runtimes_wikitables['new_col'] = [float(n) for n in new_overlaps]"
   ]
  },
  {
   "cell_type": "code",
   "execution_count": null,
   "metadata": {},
   "outputs": [],
   "source": [
    "runtimes_wikitables['new_col']"
   ]
  },
  {
   "cell_type": "code",
   "execution_count": 45,
   "metadata": {},
   "outputs": [],
   "source": [
    "runtimes_wikitables['armadillo_wikilast_ae'] = abs(runtimes_wikitables['new_col']-runtimes_wikitables['a%'])"
   ]
  },
  {
   "cell_type": "code",
   "execution_count": null,
   "metadata": {},
   "outputs": [],
   "source": [
    "new_overlaps.shape\n",
    "i = 0\n",
    "for k in new_overlaps:\n",
    "    if i==5:\n",
    "        break\n",
    "    print(k)\n",
    "    i+=1"
   ]
  },
  {
   "cell_type": "code",
   "execution_count": null,
   "metadata": {},
   "outputs": [],
   "source": [
    "re_eval_armadillo_wiki"
   ]
  },
  {
   "cell_type": "code",
   "execution_count": null,
   "metadata": {},
   "outputs": [],
   "source": [
    "runtimes_wikitables[['r_id','s_id','a%','armadillo_wikilast_overlap_pred']]"
   ]
  },
  {
   "cell_type": "code",
   "execution_count": null,
   "metadata": {},
   "outputs": [],
   "source": [
    "from tqdm import tqdm\n",
    "for r in tqdm(range(runtimes_wikitables.shape[0])):\n",
    "    label = runtimes_wikitables.iloc[r].loc['a%']\n",
    "    "
   ]
  },
  {
   "cell_type": "code",
   "execution_count": null,
   "metadata": {},
   "outputs": [],
   "source": [
    "#Wiki\n",
    "plot_box_group(runtimes_wikitables, FONTSIZE=17, y_lim=(-0.05, 1.05), fig_size=(8,4), label_dict={'armadillo_g_w_ae':'Armadillo\\nG','armadillo_w_w_ae':'Armadillo\\nW','jsim_AE':'Jaccard','roberta_tables_300_300_gittables_ae':'RoBERTa\\nT-G','roberta_tables_300_300_wikilast_ae':'RoBERTa\\nT-W'}, label_y='AE',out_pdf=PDF_DIR+'box_plots_wiki.pdf')"
   ]
  },
  {
   "cell_type": "code",
   "execution_count": null,
   "metadata": {},
   "outputs": [],
   "source": [
    "#Git\n",
    "runtimes_gittables['jsim_AE'] = abs(runtimes_gittables['jsim']-runtimes_gittables['a%'])\n",
    "plot_box_group(runtimes_gittables, FONTSIZE=17, y_lim=(-0.05, 1.05),fig_size=(8,4), label_dict={'armadillo_g_g_ae':'Armadillo\\nG','armadillo_w_g_ae':'Armadillo\\nW','jsim_AE':'Jaccard','roberta_t_g_g_ae':'RoBERTa\\nT-G','roberta_t_w_g_ae':'RoBERTa\\nT-W'}, label_y='AE',out_pdf=PDF_DIR+'box_plots_git.pdf')"
   ]
  },
  {
   "cell_type": "code",
   "execution_count": null,
   "metadata": {},
   "outputs": [],
   "source": [
    "runtimes_wikitables.describe()"
   ]
  },
  {
   "cell_type": "code",
   "execution_count": null,
   "metadata": {},
   "outputs": [],
   "source": [
    "runtimes_wikitables['jaccard_bag_smaller_times'].sum()"
   ]
  },
  {
   "cell_type": "code",
   "execution_count": null,
   "metadata": {},
   "outputs": [],
   "source": [
    "runtimes_gittables['jaccard_bag_smaller_times'].sum()"
   ]
  },
  {
   "cell_type": "code",
   "execution_count": null,
   "metadata": {},
   "outputs": [],
   "source": [
    "runtimes_gittables.describe()"
   ]
  },
  {
   "cell_type": "markdown",
   "metadata": {},
   "source": [
    "# Mean Absolute Error (MAE) per overlap interval"
   ]
  },
  {
   "cell_type": "code",
   "execution_count": 123,
   "metadata": {},
   "outputs": [],
   "source": [
    "import matplotlib.pyplot as plt\n",
    "import pickle\n",
    "import pandas as pd\n",
    "from tqdm import tqdm\n",
    "import numpy as np\n",
    "import seaborn as sns\n",
    "\n",
    "def compare_models_hist(data: pd.DataFrame | str, approaches: dict, bin_criterion: str='a%', bins_name: str='Correct Label', out_pdf: str=None, font_scale: float=1.45, n_col: int=4, fig_size=(8,6)) -> None:\n",
    "    if isinstance(data, str):\n",
    "        data = pd.read_csv(data)\n",
    "    ranges = f'{bins_name} Range' \n",
    "    new_data = {\n",
    "        ranges:[],\n",
    "        'Approach':[],\n",
    "        'MAE':[]\n",
    "    }\n",
    "    for i in range(1, 11, 1):\n",
    "        i /= 10\n",
    "        prev = round(i-0.1, 2)\n",
    "        t = data[data[bin_criterion] >= prev]\n",
    "        if i == 1:\n",
    "            t = t[t[bin_criterion] <= i]\n",
    "        else:\n",
    "            t = t[t[bin_criterion] < i] \n",
    "        curr =  f'[{prev},\\n{i}]'\n",
    "        for k in approaches.keys():\n",
    "            new_data['Approach'].append(approaches[k])\n",
    "            new_data[ranges].append(curr)\n",
    "            new_data['MAE'].append(round(np.mean(t[k]),2))\n",
    "    plt.figure(figsize=fig_size)\n",
    "    df = pd.DataFrame(new_data)\n",
    "    sns.set_theme(font_scale=font_scale, style=\"whitegrid\")\n",
    "    ax = sns.barplot(data=df, x=ranges, y='MAE', hue='Approach')\n",
    "    plt.grid(False)\n",
    "    plt.tick_params(left = True) \n",
    "    plt.legend(bbox_to_anchor=(0.5, 1.29), loc='upper center', ncol=n_col)\n",
    "    if isinstance(out_pdf, str):\n",
    "        plt.tight_layout()\n",
    "        plt.savefig(out_pdf, format=\"pdf\")"
   ]
  },
  {
   "cell_type": "code",
   "execution_count": 124,
   "metadata": {},
   "outputs": [],
   "source": [
    "runtimes_wikitables = pd.read_csv(RESULTS_PATH_WIKI)\n",
    "runtimes_gittables = pd.read_csv(RESULTS_PATH_GIT)"
   ]
  },
  {
   "cell_type": "code",
   "execution_count": null,
   "metadata": {},
   "outputs": [],
   "source": [
    "#Wiki\n",
    "compare_models_hist(n_col=3, font_scale=1.01,fig_size=(6,4), data=runtimes_wikitables,approaches={'armadillo_g_w_ae':'Armadillo-G','armadillo_w_w_ae':'Armadillo-W','jsim_AE':'Jaccard','roberta_tables_300_300_gittables_ae':'RoBERTa-T-G','roberta_tables_300_300_wikilast_ae':'RoBERTa-T-W'},out_pdf=PDF_DIR+'mae_per_bin_wiki.pdf')"
   ]
  },
  {
   "cell_type": "code",
   "execution_count": null,
   "metadata": {},
   "outputs": [],
   "source": [
    "runtimes_gittables.iloc[:,:15]\n"
   ]
  },
  {
   "cell_type": "code",
   "execution_count": null,
   "metadata": {},
   "outputs": [],
   "source": [
    "runtimes_gittables['jsim_AE'] = abs(runtimes_gittables['jsim']-runtimes_gittables['a%'])\n",
    "compare_models_hist(n_col=3, font_scale=1.01,fig_size=(6,4),data=runtimes_gittables,approaches={'armadillo_g_g_ae':'Armadillo-G','armadillo_w_g_ae':'Armadillo-W','jsim_AE':'Jaccard','roberta_t_g_g_ae':'RoBERTa-T-G','roberta_t_w_g_ae':'RoBERTa-T-W'},out_pdf=PDF_DIR+'mae_per_bin_git.pdf')"
   ]
  },
  {
   "cell_type": "markdown",
   "metadata": {},
   "source": [
    "# Cumulative execution time per model"
   ]
  },
  {
   "cell_type": "code",
   "execution_count": 25,
   "metadata": {},
   "outputs": [],
   "source": [
    "# from Code._performance_overlap_computation import *\n",
    "from tqdm import tqdm\n",
    "import pandas as pd\n",
    "def reduce_range(l_in: list) -> list:\n",
    "    return [k/1000 for k in l_in]\n",
    "\n",
    "def show_scatter_t_exec_sloth_arm(results: str | pd.DataFrame, x_label: str='tot_area', logx: bool=True, logy: bool=True, output_pdf: str=None, x_axis: str=None, font_size=15, zoom:int =None) -> None:\n",
    "    if isinstance(results, str):\n",
    "        data = pd.read_csv(results)\n",
    "    else:\n",
    "        data = results\n",
    "    \n",
    "    plt.figure()\n",
    "    ax_scatter = plt.subplot()\n",
    "    # plt.ticklabel_format(axis='both', style='sci', scilimits=(3,3), useMathText=True)\n",
    "    if x_axis == None:\n",
    "        x = t_execs_sloth\n",
    "    else:\n",
    "        x = reduce_range(data[x_axis])\n",
    "    if zoom!=None:\n",
    "         plt.ylim(0, zoom)\n",
    "    try:\n",
    "        t_execs_sloth = reduce_range(data['sloth_time'])\n",
    "        ax_scatter.scatter(x, t_execs_sloth, s=3, c='black', alpha=0.7, edgecolors='black', label='Sloth')\n",
    "    except:\n",
    "        pass\n",
    "    try:\n",
    "        t_execs_embdi_wikilast_overlap_time = reduce_range(data['embdi_wikilast_overlap_time'])\n",
    "        ax_scatter.scatter(x, t_execs_embdi_wikilast_overlap_time, s=3, c='grey', alpha=0.7, edgecolors='grey', label='EmbDI')\n",
    "    except:\n",
    "        pass\n",
    "    try:\n",
    "        t_execs_jsim = reduce_range(data['jsim_time'])\n",
    "        ax_scatter.scatter(x, t_execs_jsim, s=3, c='green', alpha=0.7, edgecolors='green', label='Jaccard')\n",
    "    except:\n",
    "        pass\n",
    "\n",
    "    try:\n",
    "        t_execs_armadillo_wikilast = reduce_range(data['armadillo_wikilast_overlap_time'])\n",
    "        ax_scatter.scatter(x, t_execs_armadillo_wikilast, s=3, c='blue', alpha=0.7, edgecolors='blue', label='Armadillo')\n",
    "    except:\n",
    "        pass\n",
    "\n",
    "    try:\n",
    "        t_execs_turl_wikilast_overlap_time = reduce_range(data['turl_wikilast_overlap_time'])\n",
    "        ax_scatter.scatter(x, t_execs_turl_wikilast_overlap_time, s=3, c='orange', alpha=0.7, edgecolors='orange', label='TURL')\n",
    "    except:\n",
    "        pass\n",
    "    try:\n",
    "        t_execs_roberta_tables_300_300_wikilast_overlap_time = reduce_range(data['roberta_tables_300_300_wikilast_overlap_time'])\n",
    "        ax_scatter.scatter(x, t_execs_roberta_tables_300_300_wikilast_overlap_time, s=3, c='pink', alpha=0.7, edgecolors='pink', label='RoBERTa-T')\n",
    "    except:\n",
    "        pass\n",
    "    try:\n",
    "        t_execs_roberta_rows_300_300_wikilast_overlap_time = reduce_range(data['roberta_rows_300_300_wikilast_overlap_time'])\n",
    "        ax_scatter.scatter(x, t_execs_roberta_rows_300_300_wikilast_overlap_time, s=3, c='brown', alpha=0.7, edgecolors='brown', label='RoBERTa-R')\n",
    "    except:\n",
    "        pass\n",
    "    if zoom == None:\n",
    "        ax_scatter.set_ylabel(f'Cumulative runtime (s)($10^3$)',fontsize=font_size)\n",
    "        ax_scatter.set_xlabel(f'Number of samples ($10^3$)', fontsize=font_size)\n",
    "    if logx:\n",
    "        ax_scatter.set_xscale('log')\n",
    "    if logy:\n",
    "        ax_scatter.set_yscale('log')\n",
    "    \n",
    "    ax_scatter.tick_params(axis='both', which='major', labelsize=font_size)  \n",
    "\n",
    "\n",
    "    ax_scatter.tick_params(axis='both', which='both', labelsize=font_size)\n",
    "    if zoom == None:\n",
    "        ax_scatter.legend(fontsize=font_size, scatterpoints=100,loc='upper center', bbox_to_anchor=(0.5, 1.35),\n",
    "            ncol=3, fancybox=True, shadow=True)\n",
    "    plt.grid(False)\n",
    "    # plt.tight_layout()\n",
    "    if isinstance(output_pdf, str):\n",
    "        plt.savefig(output_pdf, format=\"pdf\", bbox_inches=\"tight\")\n",
    "    plt.show()\n",
    "\n",
    "def build_incremental_t_execs(results: pd.DataFrame | str, interval: int=100, sort: bool=True) -> None:\n",
    "    if isinstance(results, str):\n",
    "        results = pd.read_csv(results)\n",
    "    if sort:\n",
    "        try:\n",
    "            results = results.sort_values(by='sloth_time', ascending=True)\n",
    "        except:\n",
    "            results = results.sort_values(by='total_time', ascending=True)\n",
    "    df_out = {\n",
    "        'n_samples':[],\n",
    "        'sloth_time':[],\n",
    "        'jsim_time':[],\n",
    "        'cosine_similarity_overlap_time':[],\n",
    "\n",
    "        'armadillo_wikilast_overlap_time':[],\n",
    "        'embdi_wikilast_overlap_time':[],\n",
    "        'turl_wikilast_overlap_time':[],\n",
    "        'roberta_tables_300_300_wikilast_overlap_time':[],\n",
    "        'roberta_rows_300_300_wikilast_overlap_time':[]\n",
    "    }\n",
    "    cur_sum = {\n",
    "        'sloth_time':0,\n",
    "        'jsim_time':0,\n",
    "        'cosine_similarity_overlap_time':0,\n",
    "\n",
    "        'armadillo_wikilast_overlap_time':0,\n",
    "        'embdi_wikilast_overlap_time':0,\n",
    "        'turl_wikilast_overlap_time':0,\n",
    "        'roberta_tables_300_300_wikilast_overlap_time':0,\n",
    "        'roberta_rows_300_300_wikilast_overlap_time':0\n",
    "    }\n",
    "    for r in tqdm(range(results.shape[0])):\n",
    "        for k in cur_sum.keys():\n",
    "            try:\n",
    "                cur_sum[k] += results.iloc[r].loc[k]\n",
    "            except:\n",
    "                if k == 'sloth_time':\n",
    "                    cur_sum[k] += results.iloc[r].loc['total_time']\n",
    "                else:\n",
    "                    print(f'K was {k}')\n",
    "                    raise Exception\n",
    "        if (r % interval) == 0:\n",
    "            df_out['n_samples'].append(r+1)\n",
    "            for k in cur_sum.keys():\n",
    "                try:\n",
    "                    df_out[k].append(cur_sum[k])\n",
    "                except:\n",
    "                    if k == 'sloth_time':\n",
    "                        df_out[k].append(cur_sum['total_time'])\n",
    "                    else: \n",
    "                        raise Exception\n",
    "    df_out = pd.DataFrame(df_out)\n",
    "    return df_out\n"
   ]
  },
  {
   "cell_type": "code",
   "execution_count": 26,
   "metadata": {},
   "outputs": [],
   "source": [
    "def show_scatter_t_exec_sloth_arm_small(results: str | pd.DataFrame, x_label: str='tot_area', logx: bool=True, logy: bool=True, output_pdf: str=None, x_axis: str=None, font_size=15, zoom:int =10) -> None:\n",
    "    if isinstance(results, str):\n",
    "        data = pd.read_csv(results)\n",
    "    else:\n",
    "        data = results\n",
    "    \n",
    "    plt.figure()\n",
    "    ax_scatter = plt.subplot()\n",
    "    # plt.ticklabel_format(axis='both', style='sci', scilimits=(3,3), useMathText=True)\n",
    "    if x_axis == None:\n",
    "        x = t_execs_sloth\n",
    "    else:\n",
    "        x = reduce_range(data[x_axis])\n",
    "    if zoom!=None:\n",
    "         plt.ylim(-0.5, zoom)\n",
    "    try:\n",
    "        t_execs_sloth = reduce_range(data['sloth_time'])\n",
    "        ax_scatter.scatter(x, t_execs_sloth, s=7, c='black', alpha=0.7, edgecolors='black', label='Sloth')\n",
    "    except:\n",
    "        pass\n",
    "    try:\n",
    "        t_execs_embdi_wikilast_overlap_time = reduce_range(data['embdi_wikilast_overlap_time'])\n",
    "        ax_scatter.scatter(x, t_execs_embdi_wikilast_overlap_time, s=7, c='grey', alpha=0.7, edgecolors='grey', label='EmbDI')\n",
    "    except:\n",
    "        pass\n",
    "    # try:\n",
    "    #     t_execs_cosine = reduce_range(data['cosine_similarity_overlap_time'])\n",
    "    #     ax_scatter.scatter(x, t_execs_cosine, s=3, c='red', alpha=0.7, edgecolors='red', label='Cosine')\n",
    "    # except:\n",
    "    #     pass\n",
    "    try:\n",
    "        t_execs_jsim = reduce_range(data['jsim_time'])\n",
    "        ax_scatter.scatter(x, t_execs_jsim, s=3, c='green', alpha=0.7, edgecolors='green', label='Jaccard')\n",
    "    except:\n",
    "        pass\n",
    "\n",
    "    try:\n",
    "        t_execs_armadillo_wikilast = reduce_range(data['armadillo_wikilast_overlap_time'])\n",
    "        ax_scatter.scatter(x, t_execs_armadillo_wikilast, s=7, c='blue', alpha=0.7, edgecolors='blue', label='Armadillo')\n",
    "    except:\n",
    "        pass\n",
    "\n",
    "    try:\n",
    "        t_execs_turl_wikilast_overlap_time = reduce_range(data['turl_wikilast_overlap_time'])\n",
    "        ax_scatter.scatter(x, t_execs_turl_wikilast_overlap_time, s=7, c='orange', alpha=0.7, edgecolors='orange', label='TURL')\n",
    "    except:\n",
    "        pass\n",
    "    try:\n",
    "        t_execs_roberta_tables_300_300_wikilast_overlap_time = reduce_range(data['roberta_tables_300_300_wikilast_overlap_time'])\n",
    "        ax_scatter.scatter(x, t_execs_roberta_tables_300_300_wikilast_overlap_time, s=7, c='pink', alpha=0.7, edgecolors='pink', label='RoBERTa-T')\n",
    "    except:\n",
    "        pass\n",
    "    try:\n",
    "        t_execs_roberta_rows_300_300_wikilast_overlap_time = reduce_range(data['roberta_rows_300_300_wikilast_overlap_time'])\n",
    "        ax_scatter.scatter(x, t_execs_roberta_rows_300_300_wikilast_overlap_time, s=7, c='brown', alpha=0.7, edgecolors='brown', label='RoBERTa-R')\n",
    "    except:\n",
    "        pass\n",
    "    if zoom == None:\n",
    "        ax_scatter.set_ylabel(f'Cumulative runtime (s)($10^3$)',fontsize=font_size)\n",
    "        ax_scatter.set_xlabel(f'Number of samples ($10^3$)', fontsize=font_size)\n",
    "    \n",
    "    # ax_scatter.tick_params(axis='both', which='major', labelsize=font_size)  \n",
    "\n",
    "\n",
    "    # ax_scatter.tick_params(axis='both', which='both', labelsize=font_size)\n",
    "    ax_scatter.set_yticklabels([])\n",
    "    ax_scatter.set_xticklabels([])\n",
    "\n",
    "    plt.grid(False)\n",
    "    # plt.tight_layout()\n",
    "    if isinstance(output_pdf, str):\n",
    "        plt.savefig(output_pdf, format=\"pdf\", bbox_inches=\"tight\")\n",
    "    plt.show()"
   ]
  },
  {
   "cell_type": "code",
   "execution_count": 27,
   "metadata": {},
   "outputs": [],
   "source": [
    "def show_scatter_t_exec_sloth_arm_v2(results: str | pd.DataFrame, x_label: str='tot_area', logx: bool=True, logy: bool=True, output_pdf: str=None, x_axis: str=None, font_size=18, zoom:int =None,\n",
    "                                     figsize: tuple=(11.0,7.0)) -> None:\n",
    "\n",
    "    if isinstance(results, str):\n",
    "        data = pd.read_csv(results)\n",
    "    else:\n",
    "        data = results\n",
    "    \n",
    "    plt.rcParams[\"figure.figsize\"] = [figsize[0], figsize[1]]\n",
    "    plt.rcParams[\"figure.autolayout\"] = True\n",
    "\n",
    "    plt.figure()\n",
    "    ax_scatter = plt.subplot()\n",
    "    # plt.ticklabel_format(axis='both', style='sci', scilimits=(3,3), useMathText=True)\n",
    "    if x_axis == None:\n",
    "        x = t_execs_sloth\n",
    "    else:\n",
    "        x = reduce_range(data[x_axis])\n",
    "    if zoom!=None:\n",
    "         plt.ylim(-4, zoom)\n",
    "    try:\n",
    "        t_execs_sloth = reduce_range(data['sloth_time'])\n",
    "        ax_scatter.scatter(x, t_execs_sloth, s=3, c='black', alpha=0.7, edgecolors='black', label='Sloth')\n",
    "    except:\n",
    "        pass\n",
    "    try:\n",
    "        t_execs_embdi_wikilast_overlap_time = reduce_range(data['embdi_wikilast_overlap_time'])\n",
    "        ax_scatter.scatter(x, t_execs_embdi_wikilast_overlap_time, s=3, c='grey', alpha=0.7, edgecolors='grey', label='EmbDI')\n",
    "    except:\n",
    "        pass\n",
    "    # try:\n",
    "    #     t_execs_cosine = reduce_range(data['cosine_similarity_overlap_time'])\n",
    "    #     ax_scatter.scatter(x, t_execs_cosine, s=3, c='red', alpha=0.7, edgecolors='red', label='Cosine')\n",
    "    # except:\n",
    "    #     pass\n",
    "    try:\n",
    "        t_execs_jsim = reduce_range(data['jsim_time'])\n",
    "        ax_scatter.scatter(x, t_execs_jsim, s=3, c='green', alpha=0.7, edgecolors='green', label='Jaccard')\n",
    "    except:\n",
    "        pass\n",
    "\n",
    "    try:\n",
    "        t_execs_armadillo_wikilast = reduce_range(data['armadillo_wikilast_overlap_time'])\n",
    "        ax_scatter.scatter(x, t_execs_armadillo_wikilast, s=3, c='blue', alpha=0.7, edgecolors='blue', label='Armadillo')\n",
    "    except:\n",
    "        pass\n",
    "\n",
    "    try:\n",
    "        t_execs_turl_wikilast_overlap_time = reduce_range(data['turl_wikilast_overlap_time'])\n",
    "        ax_scatter.scatter(x, t_execs_turl_wikilast_overlap_time, s=3, c='orange', alpha=0.7, edgecolors='orange', label='TURL')\n",
    "    except:\n",
    "        pass\n",
    "    try:\n",
    "        t_execs_roberta_tables_300_300_wikilast_overlap_time = reduce_range(data['roberta_tables_300_300_wikilast_overlap_time'])\n",
    "        ax_scatter.scatter(x, t_execs_roberta_tables_300_300_wikilast_overlap_time, s=3, c='pink', alpha=0.7, edgecolors='pink', label='RoBERTa-T')\n",
    "    except:\n",
    "        pass\n",
    "    try:\n",
    "        t_execs_roberta_rows_300_300_wikilast_overlap_time = reduce_range(data['roberta_rows_300_300_wikilast_overlap_time'])\n",
    "        ax_scatter.scatter(x, t_execs_roberta_rows_300_300_wikilast_overlap_time, s=3, c='brown', alpha=0.7, edgecolors='brown', label='RoBERTa-R')\n",
    "    except:\n",
    "        pass\n",
    "    ax_scatter.set_ylabel(f'Cumulative runtime (s)($10^3$)',fontsize=font_size)\n",
    "    ax_scatter.set_xlabel(f'Number of samples ($10^3$)', fontsize=font_size)\n",
    "\n",
    "    ax_scatter.tick_params(axis='both', which='major', labelsize=font_size)  \n",
    "\n",
    "    ax_scatter.tick_params(axis='both', which='both', labelsize=font_size)\n",
    "    if zoom == None or zoom >= 70:\n",
    "        ax_scatter.legend(fontsize=font_size, scatterpoints=100,loc='upper center', bbox_to_anchor=(0.5, 1.16),\n",
    "            ncol=4, fancybox=True, shadow=True)\n",
    "    plt.grid(False)\n",
    "    # plt.tight_layout()\n",
    "    if isinstance(output_pdf, str):\n",
    "        plt.savefig(output_pdf, format=\"pdf\", bbox_inches=\"tight\")\n",
    "    plt.show()"
   ]
  },
  {
   "cell_type": "code",
   "execution_count": 34,
   "metadata": {},
   "outputs": [],
   "source": [
    "runtimes_wikitables = pd.read_csv(RESULTS_PATH_WIKI)\n",
    "runtimes_gittables = pd.read_csv(RESULTS_PATH_GIT)"
   ]
  },
  {
   "cell_type": "code",
   "execution_count": null,
   "metadata": {},
   "outputs": [],
   "source": [
    "runtimes_gittables"
   ]
  },
  {
   "cell_type": "code",
   "execution_count": null,
   "metadata": {},
   "outputs": [],
   "source": [
    "runtimes_gittables['cosine_similarity_overlap_time'].sum()"
   ]
  },
  {
   "cell_type": "code",
   "execution_count": null,
   "metadata": {},
   "outputs": [],
   "source": []
  },
  {
   "cell_type": "code",
   "execution_count": null,
   "metadata": {},
   "outputs": [],
   "source": [
    "runtimes_gittables['armadillo_w_g_ae'].mean()"
   ]
  },
  {
   "cell_type": "code",
   "execution_count": null,
   "metadata": {},
   "outputs": [],
   "source": [
    "runtimes_wikitables"
   ]
  },
  {
   "cell_type": "code",
   "execution_count": null,
   "metadata": {},
   "outputs": [],
   "source": [
    "runtimes_wikitables['armadillo_g_w_ae'].mean()"
   ]
  },
  {
   "cell_type": "code",
   "execution_count": null,
   "metadata": {},
   "outputs": [],
   "source": [
    "runtimes_wikitables.describe()[['sloth_time','jsim_time','armadillo_wikilast_overlap_time','embdi_wikilast_overlap_time','turl_wikilast_overlap_time',\n",
    "                                'bert_tables_300_300_wikilast_overlap_time','bert_tables_anon_300_300_wikilast_overlap_time','roberta_tables_300_300_wikilast_overlap_time',\n",
    "                                'roberta_tables_anon_300_300_wikilast_overlap_time','bert_rows_300_300_wikilast_overlap_time','roberta_rows_300_300_wikilast_overlap_time','jsim_AE',\n",
    "                                'armadillo_wikilast_ae', 'embdi_wikilast_ae','turl_wikilast_ae','bert_tables_300_300_wikilast_ae','bert_tables_anon_300_300_wikilast_ae',\n",
    "                                'roberta_tables_300_300_wikilast_ae','roberta_tables_anon_300_300_wikilast_ae','bert_rows_300_300_wikilast_ae','roberta_rows_300_300_wikilast_ae']]"
   ]
  },
  {
   "cell_type": "code",
   "execution_count": null,
   "metadata": {},
   "outputs": [],
   "source": [
    "total_time_wiki = {}\n",
    "total_time_wiki['Sloth_W'] = runtimes_wikitables['sloth_time'].sum()\n",
    "total_time_wiki['Armadillo_W-W'] = runtimes_wikitables['armadillo_wikilast_overlap_time'].sum()\n",
    "# total_time_wiki['Armadillo_G'] = runtimes_wikitables['armadillo_wikilast_overlap_time'].sum()\n",
    "total_time_wiki['Cosine_similarity'] = runtimes_wikitables['cosine_similarity_overlap_time'].sum()\n",
    "\n",
    "total_time_wiki['EmbDI_W'] = runtimes_wikitables['embdi_wikilast_overlap_time'].sum()\n",
    "total_time_wiki['Jaccard'] = runtimes_wikitables['jsim_time'].sum()\n",
    "# total_time_wiki['TURL-T-G'] = runtimes_wikitables[''].sum()\n",
    "total_time_wiki['TURL-T-W'] = runtimes_wikitables['turl_wikilast_overlap_time'].sum()\n",
    "# total_time_wiki['BERT-R-G'] = runtimes_wikitables[''].sum()\n",
    "total_time_wiki['BERT-R-W'] = runtimes_wikitables['bert_rows_300_300_wikilast_overlap_time'].sum()\n",
    "# total_time_wiki['BERT-T-G'] = runtimes_wikitables[''].sum()\n",
    "total_time_wiki['BERT-T-W'] = runtimes_wikitables['bert_tables_300_300_wikilast_overlap_time'].sum()\n",
    "total_time_wiki['BERT-T-W-N'] = runtimes_wikitables['bert_tables_anon_300_300_wikilast_overlap_time'].sum()\n",
    "# total_time_wiki['RoBERTa-R-G'] = runtimes_wikitables[''].sum()\n",
    "total_time_wiki['RoBERTa-R-W'] = runtimes_wikitables['roberta_rows_300_300_wikilast_overlap_time'].sum()\n",
    "# total_time_wiki['RoBERTa-T-G'] = runtimes_wikitables[''].sum()\n",
    "total_time_wiki['RoBERTa-T-W'] = runtimes_wikitables['roberta_tables_300_300_wikilast_overlap_time'].sum()\n",
    "total_time_wiki['RoBERTa-T-W-N'] = runtimes_wikitables['roberta_tables_anon_300_300_wikilast_overlap_time'].sum()\n",
    "total_time_wiki['Armadillo-G-W'] = runtimes_wikitables['armadillo_g_w_overlap_time'].sum()\n",
    "\n",
    "total_time_wiki"
   ]
  },
  {
   "cell_type": "code",
   "execution_count": null,
   "metadata": {},
   "outputs": [],
   "source": [
    "wikitables_inc_no_sort = build_incremental_t_execs(runtimes_wikitables, sort=False)"
   ]
  },
  {
   "cell_type": "code",
   "execution_count": null,
   "metadata": {},
   "outputs": [],
   "source": [
    "show_scatter_t_exec_sloth_arm_small(wikitables_inc_no_sort, x_axis='n_samples', logx=False, logy=False, output_pdf=PDF_DIR+'cumulative_t_execs_no_sort_zoom.pdf', zoom=10)"
   ]
  },
  {
   "cell_type": "code",
   "execution_count": null,
   "metadata": {},
   "outputs": [],
   "source": [
    "show_scatter_t_exec_sloth_arm_v2(wikitables_inc_no_sort, x_axis='n_samples', logx=False, logy=False, output_pdf=PDF_DIR+'cumulative_t_execs_no_sort.pdf',figsize=(10.3,8), zoom=79)"
   ]
  },
  {
   "cell_type": "markdown",
   "metadata": {},
   "source": [
    "# NDCG score"
   ]
  },
  {
   "cell_type": "code",
   "execution_count": null,
   "metadata": {},
   "outputs": [],
   "source": [
    "from Code._table_querying import *"
   ]
  },
  {
   "cell_type": "code",
   "execution_count": 11,
   "metadata": {},
   "outputs": [],
   "source": [
    "def compute_ndcg_at_k(table_querying_arm_sloth: str | pd.DataFrame, query_set: str | set, outpath: str, k_max: int=100) -> pd.DataFrame:\n",
    "    if isinstance(table_querying_arm_sloth, str):\n",
    "        table_querying_arm_sloth = pd.read_csv(table_querying_arm_sloth)\n",
    "    if isinstance(query_set, str):\n",
    "        with open(query_set, 'rb') as f:\n",
    "            query_set = pickle.load(f)\n",
    "    \n",
    "    out = {\n",
    "        'k':[],\n",
    "        'query_table':[],\n",
    "        'Armadillo':[],\n",
    "        'Jaccard':[],\n",
    "        'Jaccard-B-U':[],\n",
    "        'Jaccard-B-S':[],\n",
    "        'BERT-R':[],\n",
    "        'BERT-T':[],\n",
    "        'RoBERTa-R':[],\n",
    "        'RoBERTa-T':[],\n",
    "        'TURL-T':[]\n",
    "    }\n",
    "\n",
    "    for k in [1,10,100,1000]:#range(0, k_max+1, 10):\n",
    "        if k == 0:\n",
    "            k=1\n",
    "        print(f'Current k: {k}')\n",
    "        for t in tqdm(query_set):\n",
    "            out['k'].append(k)\n",
    "            out['query_table'].append(t)\n",
    "            curr_subset = table_querying_arm_sloth[table_querying_arm_sloth['r_id']==t]\n",
    "            out['Armadillo'].append(ndcg_score(y_true=np.array(curr_subset[['a%']]).reshape(1,-1), y_score=np.array(curr_subset[['armadillo_g_g_overlap_pred']]).reshape(1,-1), k=k))\n",
    "            out['Jaccard'].append(ndcg_score(y_true=np.array(curr_subset[['a%']]).reshape(1,-1), y_score=np.array(curr_subset[['jsim']]).reshape(1,-1), k=k))\n",
    "            out['Jaccard-B-U'].append(ndcg_score(y_true=np.array(curr_subset[['a%']]).reshape(1,-1), y_score=np.array(curr_subset[['jaccard_bag_union_predictions']]).reshape(1,-1), k=k))\n",
    "            out['Jaccard-B-S'].append(ndcg_score(y_true=np.array(curr_subset[['a%']]).reshape(1,-1), y_score=np.array(curr_subset[['jaccard_bag_smaller_predictions']]).reshape(1,-1), k=k))\n",
    "            out['BERT-R'].append(ndcg_score(y_true=np.array(curr_subset[['a%']]).reshape(1,-1), y_score=np.array(curr_subset[['bert_r_overlap_pred']]).reshape(1,-1), k=k))\n",
    "            out['BERT-T'].append(ndcg_score(y_true=np.array(curr_subset[['a%']]).reshape(1,-1), y_score=np.array(curr_subset[['bert_t_overlap_pred']]).reshape(1,-1), k=k))\n",
    "            out['RoBERTa-R'].append(ndcg_score(y_true=np.array(curr_subset[['a%']]).reshape(1,-1), y_score=np.array(curr_subset[['roberta_r_overlap_pred']]).reshape(1,-1), k=k))\n",
    "            out['RoBERTa-T'].append(ndcg_score(y_true=np.array(curr_subset[['a%']]).reshape(1,-1), y_score=np.array(curr_subset[['roberta_t_overlap_pred']]).reshape(1,-1), k=k))\n",
    "            out['TURL-T'].append(ndcg_score(y_true=np.array(curr_subset[['a%']]).reshape(1,-1), y_score=np.array(curr_subset[['turl_overlap_pred']]).reshape(1,-1), k=k))\n",
    "\n",
    "    k = 10_000\n",
    "    for t in query_set:\n",
    "        out['k'].append(k)\n",
    "        out['query_table'].append(t)\n",
    "        curr_subset = table_querying_arm_sloth[table_querying_arm_sloth['r_id']==t]\n",
    "        out['Armadillo'].append(ndcg_score(y_true=np.array(curr_subset[['a%']]).reshape(1,-1), y_score=np.array(curr_subset[['armadillo_g_g_overlap_pred']]).reshape(1,-1), k=k))\n",
    "        out['Jaccard'].append(ndcg_score(y_true=np.array(curr_subset[['a%']]).reshape(1,-1), y_score=np.array(curr_subset[['jsim']]).reshape(1,-1), k=k))\n",
    "        out['Jaccard-B-U'].append(ndcg_score(y_true=np.array(curr_subset[['a%']]).reshape(1,-1), y_score=np.array(curr_subset[['jaccard_bag_union_predictions']]).reshape(1,-1), k=k))\n",
    "        out['Jaccard-B-S'].append(ndcg_score(y_true=np.array(curr_subset[['a%']]).reshape(1,-1), y_score=np.array(curr_subset[['jaccard_bag_smaller_predictions']]).reshape(1,-1), k=k))\n",
    "        out['BERT-R'].append(ndcg_score(y_true=np.array(curr_subset[['a%']]).reshape(1,-1), y_score=np.array(curr_subset[['bert_r_overlap_pred']]).reshape(1,-1), k=k))\n",
    "        out['BERT-T'].append(ndcg_score(y_true=np.array(curr_subset[['a%']]).reshape(1,-1), y_score=np.array(curr_subset[['bert_t_overlap_pred']]).reshape(1,-1), k=k))\n",
    "        out['RoBERTa-R'].append(ndcg_score(y_true=np.array(curr_subset[['a%']]).reshape(1,-1), y_score=np.array(curr_subset[['roberta_r_overlap_pred']]).reshape(1,-1), k=k))\n",
    "        out['RoBERTa-T'].append(ndcg_score(y_true=np.array(curr_subset[['a%']]).reshape(1,-1), y_score=np.array(curr_subset[['roberta_t_overlap_pred']]).reshape(1,-1), k=k))\n",
    "        out['TURL-T'].append(ndcg_score(y_true=np.array(curr_subset[['a%']]).reshape(1,-1), y_score=np.array(curr_subset[['turl_overlap_pred']]).reshape(1,-1), k=k))\n",
    "    out = pd.DataFrame(out)\n",
    "    out.to_csv(outpath, index=False)\n",
    "    return out\n",
    "\n",
    "def compare_models_ndcg(data: pd.DataFrame | str, bin_criterion: str='k', bins_name: str='Correct Label', out_pdf: str=None, font_scale: float=0.7, n_cols_legend=4, position_legend=(0.5, 1.1), fig_size=(8,6)) -> pd.DataFrame:\n",
    "    \"\"\"Function to plot an histogram to compare performances of different models depending on their range of error \n",
    "\n",
    "    Args:\n",
    "        data (pd.DataFrame | str): data frame containing the results\n",
    "        bin_criterion (str, optional): parameter to generate the 10 bins, must be with values in [0,1]. Defaults to 'a%'.\n",
    "        bins_name (str, optional): name of the bins. Defaults to 'AE'.\n",
    "    \"\"\"\n",
    "    if isinstance(data, str):\n",
    "        data = pd.read_csv(data)\n",
    "    new_data = {\n",
    "        'k':[],\n",
    "        'Approach':[],\n",
    "        'NDCG_Score':[]\n",
    "    }\n",
    "    for k in [1,10,100,1000,10_000]:\n",
    "        t = data[data[bin_criterion] == k]\n",
    "        if k == 10_000:\n",
    "            k = '10k'\n",
    "        new_data['Approach'].append('Armadillo')\n",
    "        new_data['k'].append(k)\n",
    "        new_data['NDCG_Score'].append(round(np.mean(t['Armadillo']),2))\n",
    "        \n",
    "        new_data['Approach'].append('Jaccard')\n",
    "        new_data['k'].append(k)\n",
    "        new_data['NDCG_Score'].append(round(np.mean(t['Jaccard']),2))\n",
    "\n",
    "        # new_data['Approach'].append('Jaccard-B-U')\n",
    "        # new_data['k'].append(k)\n",
    "        # new_data['NDCG_Score'].append(round(np.mean(t['Jaccard-B-U']),2))\n",
    "\n",
    "        new_data['Approach'].append('Jaccard-B-S')\n",
    "        new_data['k'].append(k)\n",
    "        new_data['NDCG_Score'].append(round(np.mean(t['Jaccard-B-S']),2))\n",
    "\n",
    "        # new_data['Approach'].append('BERT-R')\n",
    "        # new_data['k'].append(k)\n",
    "        # new_data['NDCG_Score'].append(round(np.mean(t['BERT-R']),2))\n",
    "\n",
    "        # new_data['Approach'].append('BERT-T')\n",
    "        # new_data['k'].append(k)\n",
    "        # new_data['NDCG_Score'].append(round(np.mean(t['BERT-T']),2))\n",
    "\n",
    "        new_data['Approach'].append('RoBERTa-R')\n",
    "        new_data['k'].append(k)\n",
    "        new_data['NDCG_Score'].append(round(np.mean(t['RoBERTa-R']),2))\n",
    "\n",
    "        new_data['Approach'].append('RoBERTa-T')\n",
    "        new_data['k'].append(k)\n",
    "        new_data['NDCG_Score'].append(round(np.mean(t['RoBERTa-T']),2))\n",
    "\n",
    "        new_data['Approach'].append('TURL-T')\n",
    "        new_data['k'].append(k)\n",
    "        new_data['NDCG_Score'].append(round(np.mean(t['RoBERTa-T']),2))\n",
    "\n",
    "\n",
    "    plt.figure(figsize=fig_size)\n",
    "    df = pd.DataFrame(new_data)\n",
    "    sns.set_theme(font_scale=font_scale, style=\"whitegrid\")\n",
    "    ax = sns.barplot(data=df, x='k', y='NDCG_Score', hue='Approach')\n",
    "\n",
    "    ax.tick_params(axis='both', which='major', labelsize=14)  # Set font size for major ticks\n",
    "    #ax.tick_params(axis='both', which='major', labelsize=font_size)  # Set font size for major ticks\n",
    "\n",
    "    handles, labels = ax.get_legend_handles_labels()\n",
    "    ax.legend(handles, labels, loc='upper center', bbox_to_anchor=position_legend, ncol=n_cols_legend)#len(handles))\n",
    "\n",
    "\n",
    "    plt.grid(False)\n",
    "    plt.tick_params(left = True) \n",
    "    if isinstance(out_pdf, str):\n",
    "        plt.tight_layout()\n",
    "        plt.savefig(out_pdf, format=\"pdf\", bbox_inches=\"tight\")\n",
    "    return df"
   ]
  },
  {
   "cell_type": "code",
   "execution_count": 12,
   "metadata": {},
   "outputs": [],
   "source": [
    "def prepare_triple_dataset(df):\n",
    "    to_drop = []\n",
    "    for r in tqdm(range(df.shape[0])):\n",
    "        t = df.iloc[r]\n",
    "        if pd.isna(t['a%']) and (t['seeds'] != 0):\n",
    "            to_drop.append(r)\n",
    "    df.drop(to_drop)\n",
    "    df['a%'] = df['a%'].fillna(0)\n",
    "    return df\n"
   ]
  },
  {
   "cell_type": "code",
   "execution_count": 14,
   "metadata": {},
   "outputs": [],
   "source": [
    "path_querying_results = ''\n",
    "\n",
    "querying_table_results = pd.read_csv(path_querying_results)"
   ]
  },
  {
   "cell_type": "code",
   "execution_count": null,
   "metadata": {},
   "outputs": [],
   "source": [
    "# Not optimized times\n",
    "times = {}\n",
    "times['Sloth'] = querying_table_results['total_time'].sum()\n",
    "times['Jaccard'] = querying_table_results['jsim_time'].sum()\n",
    "times['BERT-T'] = querying_table_results['bert_t_overlap_time'].sum()\n",
    "times['RoBERTa-R'] = querying_table_results['roberta_r_overlap_time'].sum()\n",
    "times['RoBERTa-T'] = querying_table_results['roberta_t_overlap_time'].sum()\n",
    "times['BERT-R'] = querying_table_results['bert_r_overlap_time'].sum()\n",
    "times['Armadillo'] = querying_table_results['armadillo_g_g_overlap_time'].sum()\n",
    "times['Jaccard-B-U'] = querying_table_results['jaccard_bag_union_times'].sum()\n",
    "times['Jaccard-B-S'] = querying_table_results['jaccard_bag_smaller_times'].sum()\n",
    "times['TURL'] = querying_table_results['turl_overlap_time'].sum()\n",
    "times\n"
   ]
  },
  {
   "cell_type": "code",
   "execution_count": 16,
   "metadata": {},
   "outputs": [],
   "source": [
    "table_querying_all = set(querying_table_results['r_id']).union(set(querying_table_results['s_id']))"
   ]
  },
  {
   "cell_type": "code",
   "execution_count": null,
   "metadata": {},
   "outputs": [],
   "source": [
    "len(table_querying_all)"
   ]
  },
  {
   "cell_type": "code",
   "execution_count": 40,
   "metadata": {},
   "outputs": [],
   "source": [
    "import datetime\n",
    "from tqdm import tqdm\n",
    "def get_emb_time(tables, times_path):\n",
    "    with open(times_path, 'rb') as f:\n",
    "        times = pickle.load(f)\n",
    "    cumul = 0\n",
    "    add_more=False\n",
    "    for t in tqdm(tables):\n",
    "        try:\n",
    "            cumul+=times[t]['t_tot']\n",
    "        except:\n",
    "            cumul+=times[t]\n",
    "            add_more=True\n",
    "    if add_more:\n",
    "        cumul+=6_000\n",
    "    return str(datetime.timedelta(seconds = cumul))"
   ]
  },
  {
   "cell_type": "code",
   "execution_count": null,
   "metadata": {},
   "outputs": [],
   "source": [
    "table_querying"
   ]
  },
  {
   "cell_type": "code",
   "execution_count": null,
   "metadata": {},
   "outputs": [],
   "source": [
    "t_execs_root_dictionary = ''\n",
    "\n",
    "emb_times = {}\n",
    "emb_times['Armadillo'] = get_emb_time(table_querying_all, t_execs_root_dictionary+'/t_execs_armadillo_querying.pkl')\n",
    "emb_times['TURL'] = get_emb_time(table_querying_all, t_execs_root_dictionary+'/t_execs_turl.pkl')\n",
    "emb_times['BERT-R'] = get_emb_time(table_querying_all, t_execs_root_dictionary+'/t_execs_bert_r.pkl')\n",
    "emb_times['BERT-T'] = get_emb_time(table_querying_all, t_execs_root_dictionary+'/t_execs_bert_t.pkl')\n",
    "\n",
    "emb_times['RoBERTa-R'] = get_emb_time(table_querying_all, t_execs_root_dictionary+'/t_execs_roberta_r.pkl')\n",
    "emb_times['RoBERTa-T'] = get_emb_time(table_querying_all, t_execs_root_dictionary+'/t_execs_roberta_t.pkl')\n",
    "\n",
    "emb_times\n"
   ]
  },
  {
   "cell_type": "code",
   "execution_count": null,
   "metadata": {},
   "outputs": [],
   "source": [
    "querying_table_results = prepare_triple_dataset(querying_table_results)"
   ]
  },
  {
   "cell_type": "code",
   "execution_count": null,
   "metadata": {},
   "outputs": [],
   "source": [
    "querying_table_results.keys()"
   ]
  },
  {
   "cell_type": "code",
   "execution_count": null,
   "metadata": {},
   "outputs": [],
   "source": [
    "ndcg_directory = ''\n",
    "compute_ndcg_at_k(querying_table_results, set(querying_table_results['r_id']), outpath=ndcg_directory+'/evaluation/charts/ndcg_score.csv')"
   ]
  },
  {
   "cell_type": "code",
   "execution_count": null,
   "metadata": {},
   "outputs": [],
   "source": [
    "pdf_directory = ''\n",
    "res = compare_models_ndcg(ndcg_directory+'/charts/ndcg_score.csv', fig_size=(6,4), position_legend=(0.5, 1.3), n_cols_legend=3, font_scale=1.1, out_pdf=pdf_directory+'/ndcg_score.pdf')"
   ]
  },
  {
   "cell_type": "code",
   "execution_count": null,
   "metadata": {},
   "outputs": [],
   "source": [
    "res"
   ]
  },
  {
   "cell_type": "markdown",
   "metadata": {},
   "source": [
    "# Overlap comp time area"
   ]
  },
  {
   "cell_type": "code",
   "execution_count": 174,
   "metadata": {},
   "outputs": [],
   "source": [
    "from Code._performance_overlap_computation import *\n",
    "def visualize_scatter_plot(exp_data_file: str | dict, logx: bool=True, logy: bool=True, out_pdf: str=None, font_size: int=10, fig_size=(8,8)) -> None:\n",
    "    \"\"\"visualize embedding generation time on the y axis and table area on the x axis\n",
    "\n",
    "    Args:\n",
    "        exp_data_file (str | dict): path to a file containing the data related to a \"embed_all_no_paral\" test or the dictionary containing the actual data\n",
    "        logx (bool, opt): if True, the x axis is in logscale. Defaults to True.\n",
    "        logy (bool, opt): if True, the y axis is in logscale. Defaults to False.\n",
    "    \"\"\"\n",
    "    if isinstance(exp_data_file, str):\n",
    "        with open(exp_data_file, 'rb') as f:\n",
    "            data = pickle.load(f)\n",
    "    else:\n",
    "        data = exp_data_file\n",
    "\n",
    "    keys = list(data.keys())\n",
    "\n",
    "    areas = [data[k]['area'] for k in keys]\n",
    "    t_execs = [data[k]['t_tot'] for k in keys]\n",
    "\n",
    "    x = areas\n",
    "    y = t_execs\n",
    "    plt.figure()\n",
    "    # Definisci la figura e gli assi per lo scatterplot\n",
    "    fig, (ax_scatter, ax_kde) = plt.subplots(2, 1, figsize=fig_size, \n",
    "                                            gridspec_kw={'height_ratios': [3, 1]})\n",
    "    ax_scatter.grid(False)\n",
    "    ax_scatter.tick_params(left = True, bottom=True) \n",
    "    # Disegna lo scatterplot\n",
    "    ax_scatter.scatter(x, y, s=3, c='orange', alpha=0.7, edgecolors='black')\n",
    "\n",
    "    sns.histplot(\n",
    "    data=x, ax=ax_kde,\n",
    "    label='KDE',\n",
    "    fill=True, common_norm=False,\n",
    "    alpha=.5, linewidth=0, color='grey'\n",
    "    )\n",
    "    ax_scatter.set_ylabel('Embedding Time (s)', fontsize=font_size)\n",
    "    \n",
    "    if logx:\n",
    "        ax_kde.set_xscale('log')    \n",
    "        ax_scatter.set_xscale('log')\n",
    "    if logy:\n",
    "        ax_scatter.set_yscale('log')\n",
    "    ax_kde.set_yscale('log')\n",
    "    \n",
    "    ax_kde.set_xlabel('Table Area', fontsize=font_size)\n",
    "    ax_kde.set_ylabel('Number Of Samples', fontsize=font_size)\n",
    "\n",
    "    ax_scatter.tick_params(axis='both', which='major', labelsize=font_size)  # Set font size for major ticks\n",
    "    ax_kde.tick_params(axis='both', which='major', labelsize=font_size)  # Set font size for major ticks\n",
    "\n",
    "    ax_scatter.tick_params(axis='both', which='both', labelsize=font_size)  # Set font size for tick labels\n",
    "    ax_kde.tick_params(axis='both', which='both', labelsize=font_size)  # Set font size for tick labels\n",
    "\n",
    "    # plt.tight_layout()\n",
    "    plt.grid(False)\n",
    "    plt.tick_params(left = True, bottom=True) \n",
    "    if isinstance(out_pdf, str):\n",
    "        plt.savefig(out_pdf, format=\"pdf\", bbox_inches=\"tight\")\n",
    "\n",
    "    plt.show()"
   ]
  },
  {
   "cell_type": "code",
   "execution_count": null,
   "metadata": {},
   "outputs": [],
   "source": [
    "visualize_scatter_plot(root_git+'/WikiTables/dictionaries/embedding_dictionaries/t_execs_armadillo_w_w.pkl', logx=True, logy=True, out_pdf=None, font_size=15)"
   ]
  },
  {
   "cell_type": "code",
   "execution_count": null,
   "metadata": {},
   "outputs": [],
   "source": [
    "visualize_scatter_plot(root_wiki+'/GitTables/dictionaries/embedding_dictionaries/t_execs_armadillo_g_g.pkl', logx=True, logy=True, out_pdf=None, font_size=15.5, fig_size=(8,5.5))"
   ]
  }
 ],
 "metadata": {
  "kernelspec": {
   "display_name": "base",
   "language": "python",
   "name": "python3"
  },
  "language_info": {
   "codemirror_mode": {
    "name": "ipython",
    "version": 3
   },
   "file_extension": ".py",
   "mimetype": "text/x-python",
   "name": "python",
   "nbconvert_exporter": "python",
   "pygments_lexer": "ipython3",
   "version": "3.11.7"
  }
 },
 "nbformat": 4,
 "nbformat_minor": 2
}
